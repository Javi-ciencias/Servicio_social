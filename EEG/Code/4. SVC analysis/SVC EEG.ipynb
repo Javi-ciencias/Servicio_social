{
 "cells": [
  {
   "cell_type": "markdown",
   "metadata": {},
   "source": [
    "# Support Vector Machine: EEG of pediatric subjects with epilepsy"
   ]
  },
  {
   "cell_type": "markdown",
   "metadata": {},
   "source": [
    "Support Vector Machine or SVM is a type of algorithms that establish continious functions that create a surface in the space of the input data and optimize the classification of labeled data. In order to do this several hyperparameters are needed. We must define what type of function will be optimized(e.g. polinomial), the starting coeficients and the weights of each class."
   ]
  },
  {
   "cell_type": "markdown",
   "metadata": {},
   "source": [
    "The advantages of support vector machines are:\n",
    "\n",
    "* Effective in high dimensional spaces.\n",
    "* Still effective in cases where number of dimensions is greater than the number of samples.\n",
    "* Uses a subset of training points in the decision function (called support vectors), so it is also memory efficient.\n",
    "* Versatile: different Kernel functions can be specified for the decision function. Common kernels are provided, but it is also possible to specify custom kernels.\n",
    "\n",
    "The disadvantages of support vector machines include:\n",
    "* If the number of features is much greater than the number of samples, avoid over-fitting in choosing Kernel functions and regularization term is crucial.\n",
    "* SVMs do not directly provide probability estimates, these are calculated using an expensive five-fold cross-validation (see [Scores and probabilities](https://scikit-learn.org/stable/modules/svm.html#scores-probabilities)).\n",
    "\n"
   ]
  },
  {
   "cell_type": "markdown",
   "metadata": {},
   "source": [
    "### Importing the packagery:"
   ]
  },
  {
   "cell_type": "code",
   "execution_count": 1,
   "metadata": {},
   "outputs": [],
   "source": [
    "from seaborn import load_dataset, pairplot, heatmap\n",
    "import pandas as pd\n",
    "import numpy as np\n",
    "import matplotlib.pyplot as plt\n",
    "from matplotlib.colors import ListedColormap\n",
    "from sklearn.model_selection import train_test_split\n",
    "from sklearn.preprocessing import StandardScaler\n",
    "from sklearn.datasets import make_moons, make_circles, make_classification\n",
    "from sklearn.neural_network import MLPClassifier\n",
    "from sklearn.neighbors import KNeighborsClassifier\n",
    "from sklearn.svm import SVC\n",
    "from sklearn.gaussian_process import GaussianProcessClassifier\n",
    "from sklearn.gaussian_process.kernels import RBF\n",
    "from sklearn.tree import DecisionTreeClassifier\n",
    "from sklearn.ensemble import RandomForestClassifier, AdaBoostClassifier\n",
    "from sklearn.naive_bayes import GaussianNB\n",
    "from sklearn.discriminant_analysis import QuadraticDiscriminantAnalysis\n",
    "from sklearn.model_selection import train_test_split\n",
    "from sklearn.metrics import accuracy_score"
   ]
  },
  {
   "cell_type": "markdown",
   "metadata": {},
   "source": [
    "### Imprting the data:"
   ]
  },
  {
   "cell_type": "code",
   "execution_count": 2,
   "metadata": {},
   "outputs": [],
   "source": [
    "data=pd.read_csv(\"Data_medians_4.csv\")"
   ]
  },
  {
   "cell_type": "code",
   "execution_count": 3,
   "metadata": {},
   "outputs": [],
   "source": [
    "del data['Unnamed: 0']\n",
    "del data['38']"
   ]
  },
  {
   "cell_type": "code",
   "execution_count": 4,
   "metadata": {},
   "outputs": [],
   "source": [
    "for i in range(0,len(data)):\n",
    "    if data.iloc[i,-1]!='Awake':\n",
    "        if data.iloc[i,-1]!='N1':\n",
    "            if data.iloc[i,-1]!='N2':\n",
    "                if data.iloc[i,-1]!='N3':\n",
    "                    if data.iloc[i,-1]!='REM':\n",
    "                        data.iloc[i,-1]=np.nan"
   ]
  },
  {
   "cell_type": "code",
   "execution_count": 5,
   "metadata": {},
   "outputs": [],
   "source": [
    "data_2=data.dropna()"
   ]
  },
  {
   "cell_type": "code",
   "execution_count": 6,
   "metadata": {},
   "outputs": [
    {
     "data": {
      "text/html": [
       "<div>\n",
       "<style scoped>\n",
       "    .dataframe tbody tr th:only-of-type {\n",
       "        vertical-align: middle;\n",
       "    }\n",
       "\n",
       "    .dataframe tbody tr th {\n",
       "        vertical-align: top;\n",
       "    }\n",
       "\n",
       "    .dataframe thead th {\n",
       "        text-align: right;\n",
       "    }\n",
       "</style>\n",
       "<table border=\"1\" class=\"dataframe\">\n",
       "  <thead>\n",
       "    <tr style=\"text-align: right;\">\n",
       "      <th></th>\n",
       "      <th>0</th>\n",
       "      <th>1</th>\n",
       "      <th>2</th>\n",
       "      <th>3</th>\n",
       "      <th>4</th>\n",
       "      <th>5</th>\n",
       "      <th>6</th>\n",
       "      <th>7</th>\n",
       "      <th>8</th>\n",
       "      <th>9</th>\n",
       "      <th>...</th>\n",
       "      <th>29</th>\n",
       "      <th>30</th>\n",
       "      <th>31</th>\n",
       "      <th>32</th>\n",
       "      <th>33</th>\n",
       "      <th>34</th>\n",
       "      <th>35</th>\n",
       "      <th>36</th>\n",
       "      <th>37</th>\n",
       "      <th>39</th>\n",
       "    </tr>\n",
       "  </thead>\n",
       "  <tbody>\n",
       "    <tr>\n",
       "      <th>0</th>\n",
       "      <td>19.911429</td>\n",
       "      <td>21.826667</td>\n",
       "      <td>19.901111</td>\n",
       "      <td>19.076667</td>\n",
       "      <td>21.918889</td>\n",
       "      <td>14.850000</td>\n",
       "      <td>58.638571</td>\n",
       "      <td>60.644444</td>\n",
       "      <td>61.956667</td>\n",
       "      <td>57.580000</td>\n",
       "      <td>...</td>\n",
       "      <td>210.934721</td>\n",
       "      <td>627.235043</td>\n",
       "      <td>648.175431</td>\n",
       "      <td>626.022091</td>\n",
       "      <td>643.377231</td>\n",
       "      <td>540.470154</td>\n",
       "      <td>495.039453</td>\n",
       "      <td>4.422272e+07</td>\n",
       "      <td>0.001152</td>\n",
       "      <td>Awake</td>\n",
       "    </tr>\n",
       "    <tr>\n",
       "      <th>1</th>\n",
       "      <td>40.660000</td>\n",
       "      <td>35.816667</td>\n",
       "      <td>38.405556</td>\n",
       "      <td>42.591111</td>\n",
       "      <td>40.958889</td>\n",
       "      <td>37.191667</td>\n",
       "      <td>148.707143</td>\n",
       "      <td>114.740000</td>\n",
       "      <td>116.255556</td>\n",
       "      <td>180.642222</td>\n",
       "      <td>...</td>\n",
       "      <td>601.949326</td>\n",
       "      <td>2122.510839</td>\n",
       "      <td>1710.063114</td>\n",
       "      <td>1684.448166</td>\n",
       "      <td>3062.885569</td>\n",
       "      <td>2100.222584</td>\n",
       "      <td>1750.616297</td>\n",
       "      <td>2.508360e+06</td>\n",
       "      <td>0.002201</td>\n",
       "      <td>N2</td>\n",
       "    </tr>\n",
       "    <tr>\n",
       "      <th>2</th>\n",
       "      <td>28.203333</td>\n",
       "      <td>24.951111</td>\n",
       "      <td>25.603333</td>\n",
       "      <td>33.302222</td>\n",
       "      <td>28.286667</td>\n",
       "      <td>24.416667</td>\n",
       "      <td>104.157619</td>\n",
       "      <td>78.117778</td>\n",
       "      <td>77.450000</td>\n",
       "      <td>141.416667</td>\n",
       "      <td>...</td>\n",
       "      <td>395.701329</td>\n",
       "      <td>1433.984345</td>\n",
       "      <td>1147.643210</td>\n",
       "      <td>1131.199674</td>\n",
       "      <td>2268.983257</td>\n",
       "      <td>1375.903119</td>\n",
       "      <td>1170.567469</td>\n",
       "      <td>1.469640e+06</td>\n",
       "      <td>0.001673</td>\n",
       "      <td>REM</td>\n",
       "    </tr>\n",
       "    <tr>\n",
       "      <th>3</th>\n",
       "      <td>18.286190</td>\n",
       "      <td>16.575556</td>\n",
       "      <td>17.173333</td>\n",
       "      <td>22.212222</td>\n",
       "      <td>18.586667</td>\n",
       "      <td>15.928333</td>\n",
       "      <td>72.619048</td>\n",
       "      <td>55.015556</td>\n",
       "      <td>55.386667</td>\n",
       "      <td>98.113333</td>\n",
       "      <td>...</td>\n",
       "      <td>258.530174</td>\n",
       "      <td>951.861362</td>\n",
       "      <td>774.702891</td>\n",
       "      <td>776.389821</td>\n",
       "      <td>1493.072896</td>\n",
       "      <td>943.001124</td>\n",
       "      <td>787.208156</td>\n",
       "      <td>5.040967e+06</td>\n",
       "      <td>0.002785</td>\n",
       "      <td>N2</td>\n",
       "    </tr>\n",
       "    <tr>\n",
       "      <th>4</th>\n",
       "      <td>11.339524</td>\n",
       "      <td>10.327778</td>\n",
       "      <td>11.073333</td>\n",
       "      <td>9.653333</td>\n",
       "      <td>12.070000</td>\n",
       "      <td>10.046667</td>\n",
       "      <td>42.745238</td>\n",
       "      <td>33.640000</td>\n",
       "      <td>34.700000</td>\n",
       "      <td>37.300000</td>\n",
       "      <td>...</td>\n",
       "      <td>156.242749</td>\n",
       "      <td>587.817203</td>\n",
       "      <td>465.337699</td>\n",
       "      <td>467.104798</td>\n",
       "      <td>546.078070</td>\n",
       "      <td>612.918988</td>\n",
       "      <td>465.555425</td>\n",
       "      <td>9.224363e+06</td>\n",
       "      <td>0.001658</td>\n",
       "      <td>N3</td>\n",
       "    </tr>\n",
       "    <tr>\n",
       "      <th>...</th>\n",
       "      <td>...</td>\n",
       "      <td>...</td>\n",
       "      <td>...</td>\n",
       "      <td>...</td>\n",
       "      <td>...</td>\n",
       "      <td>...</td>\n",
       "      <td>...</td>\n",
       "      <td>...</td>\n",
       "      <td>...</td>\n",
       "      <td>...</td>\n",
       "      <td>...</td>\n",
       "      <td>...</td>\n",
       "      <td>...</td>\n",
       "      <td>...</td>\n",
       "      <td>...</td>\n",
       "      <td>...</td>\n",
       "      <td>...</td>\n",
       "      <td>...</td>\n",
       "      <td>...</td>\n",
       "      <td>...</td>\n",
       "      <td>...</td>\n",
       "    </tr>\n",
       "    <tr>\n",
       "      <th>160</th>\n",
       "      <td>23.572857</td>\n",
       "      <td>21.060000</td>\n",
       "      <td>22.835556</td>\n",
       "      <td>24.652222</td>\n",
       "      <td>19.970000</td>\n",
       "      <td>18.556667</td>\n",
       "      <td>62.023810</td>\n",
       "      <td>55.311111</td>\n",
       "      <td>62.484444</td>\n",
       "      <td>65.027778</td>\n",
       "      <td>...</td>\n",
       "      <td>233.876713</td>\n",
       "      <td>956.606279</td>\n",
       "      <td>901.840306</td>\n",
       "      <td>1079.626406</td>\n",
       "      <td>1000.445620</td>\n",
       "      <td>627.724242</td>\n",
       "      <td>663.898963</td>\n",
       "      <td>1.033058e+05</td>\n",
       "      <td>0.000996</td>\n",
       "      <td>REM</td>\n",
       "    </tr>\n",
       "    <tr>\n",
       "      <th>161</th>\n",
       "      <td>18.736190</td>\n",
       "      <td>16.664444</td>\n",
       "      <td>17.992222</td>\n",
       "      <td>19.476667</td>\n",
       "      <td>16.011111</td>\n",
       "      <td>14.800000</td>\n",
       "      <td>47.885238</td>\n",
       "      <td>42.373333</td>\n",
       "      <td>47.960000</td>\n",
       "      <td>49.993333</td>\n",
       "      <td>...</td>\n",
       "      <td>179.285611</td>\n",
       "      <td>731.916047</td>\n",
       "      <td>694.028468</td>\n",
       "      <td>835.901439</td>\n",
       "      <td>759.237127</td>\n",
       "      <td>474.306587</td>\n",
       "      <td>509.926345</td>\n",
       "      <td>3.701008e+04</td>\n",
       "      <td>0.000528</td>\n",
       "      <td>N1</td>\n",
       "    </tr>\n",
       "    <tr>\n",
       "      <th>162</th>\n",
       "      <td>14.926190</td>\n",
       "      <td>13.685556</td>\n",
       "      <td>14.278889</td>\n",
       "      <td>15.434444</td>\n",
       "      <td>12.957778</td>\n",
       "      <td>11.726667</td>\n",
       "      <td>37.418571</td>\n",
       "      <td>33.524444</td>\n",
       "      <td>37.350000</td>\n",
       "      <td>38.766667</td>\n",
       "      <td>...</td>\n",
       "      <td>137.755238</td>\n",
       "      <td>558.178258</td>\n",
       "      <td>505.701924</td>\n",
       "      <td>648.375509</td>\n",
       "      <td>566.989604</td>\n",
       "      <td>363.330987</td>\n",
       "      <td>390.608436</td>\n",
       "      <td>9.521701e+04</td>\n",
       "      <td>0.000363</td>\n",
       "      <td>N2</td>\n",
       "    </tr>\n",
       "    <tr>\n",
       "      <th>163</th>\n",
       "      <td>10.816190</td>\n",
       "      <td>9.702222</td>\n",
       "      <td>10.213333</td>\n",
       "      <td>10.985556</td>\n",
       "      <td>9.072222</td>\n",
       "      <td>8.145000</td>\n",
       "      <td>27.838095</td>\n",
       "      <td>24.458889</td>\n",
       "      <td>27.936667</td>\n",
       "      <td>28.534444</td>\n",
       "      <td>...</td>\n",
       "      <td>99.599288</td>\n",
       "      <td>449.385031</td>\n",
       "      <td>411.347601</td>\n",
       "      <td>560.246779</td>\n",
       "      <td>459.417619</td>\n",
       "      <td>270.892424</td>\n",
       "      <td>296.452757</td>\n",
       "      <td>6.754039e+06</td>\n",
       "      <td>0.000063</td>\n",
       "      <td>N3</td>\n",
       "    </tr>\n",
       "    <tr>\n",
       "      <th>164</th>\n",
       "      <td>4.886190</td>\n",
       "      <td>4.464444</td>\n",
       "      <td>4.621111</td>\n",
       "      <td>4.972222</td>\n",
       "      <td>4.191111</td>\n",
       "      <td>3.780000</td>\n",
       "      <td>12.803333</td>\n",
       "      <td>12.212222</td>\n",
       "      <td>13.241111</td>\n",
       "      <td>14.298889</td>\n",
       "      <td>...</td>\n",
       "      <td>41.261791</td>\n",
       "      <td>165.142991</td>\n",
       "      <td>188.748088</td>\n",
       "      <td>225.965814</td>\n",
       "      <td>206.167366</td>\n",
       "      <td>122.058242</td>\n",
       "      <td>109.744217</td>\n",
       "      <td>2.577399e+06</td>\n",
       "      <td>0.000092</td>\n",
       "      <td>N2</td>\n",
       "    </tr>\n",
       "  </tbody>\n",
       "</table>\n",
       "<p>157 rows × 39 columns</p>\n",
       "</div>"
      ],
      "text/plain": [
       "             0          1          2          3          4          5  \\\n",
       "0    19.911429  21.826667  19.901111  19.076667  21.918889  14.850000   \n",
       "1    40.660000  35.816667  38.405556  42.591111  40.958889  37.191667   \n",
       "2    28.203333  24.951111  25.603333  33.302222  28.286667  24.416667   \n",
       "3    18.286190  16.575556  17.173333  22.212222  18.586667  15.928333   \n",
       "4    11.339524  10.327778  11.073333   9.653333  12.070000  10.046667   \n",
       "..         ...        ...        ...        ...        ...        ...   \n",
       "160  23.572857  21.060000  22.835556  24.652222  19.970000  18.556667   \n",
       "161  18.736190  16.664444  17.992222  19.476667  16.011111  14.800000   \n",
       "162  14.926190  13.685556  14.278889  15.434444  12.957778  11.726667   \n",
       "163  10.816190   9.702222  10.213333  10.985556   9.072222   8.145000   \n",
       "164   4.886190   4.464444   4.621111   4.972222   4.191111   3.780000   \n",
       "\n",
       "              6           7           8           9  ...          29  \\\n",
       "0     58.638571   60.644444   61.956667   57.580000  ...  210.934721   \n",
       "1    148.707143  114.740000  116.255556  180.642222  ...  601.949326   \n",
       "2    104.157619   78.117778   77.450000  141.416667  ...  395.701329   \n",
       "3     72.619048   55.015556   55.386667   98.113333  ...  258.530174   \n",
       "4     42.745238   33.640000   34.700000   37.300000  ...  156.242749   \n",
       "..          ...         ...         ...         ...  ...         ...   \n",
       "160   62.023810   55.311111   62.484444   65.027778  ...  233.876713   \n",
       "161   47.885238   42.373333   47.960000   49.993333  ...  179.285611   \n",
       "162   37.418571   33.524444   37.350000   38.766667  ...  137.755238   \n",
       "163   27.838095   24.458889   27.936667   28.534444  ...   99.599288   \n",
       "164   12.803333   12.212222   13.241111   14.298889  ...   41.261791   \n",
       "\n",
       "              30           31           32           33           34  \\\n",
       "0     627.235043   648.175431   626.022091   643.377231   540.470154   \n",
       "1    2122.510839  1710.063114  1684.448166  3062.885569  2100.222584   \n",
       "2    1433.984345  1147.643210  1131.199674  2268.983257  1375.903119   \n",
       "3     951.861362   774.702891   776.389821  1493.072896   943.001124   \n",
       "4     587.817203   465.337699   467.104798   546.078070   612.918988   \n",
       "..           ...          ...          ...          ...          ...   \n",
       "160   956.606279   901.840306  1079.626406  1000.445620   627.724242   \n",
       "161   731.916047   694.028468   835.901439   759.237127   474.306587   \n",
       "162   558.178258   505.701924   648.375509   566.989604   363.330987   \n",
       "163   449.385031   411.347601   560.246779   459.417619   270.892424   \n",
       "164   165.142991   188.748088   225.965814   206.167366   122.058242   \n",
       "\n",
       "              35            36        37     39  \n",
       "0     495.039453  4.422272e+07  0.001152  Awake  \n",
       "1    1750.616297  2.508360e+06  0.002201     N2  \n",
       "2    1170.567469  1.469640e+06  0.001673    REM  \n",
       "3     787.208156  5.040967e+06  0.002785     N2  \n",
       "4     465.555425  9.224363e+06  0.001658     N3  \n",
       "..           ...           ...       ...    ...  \n",
       "160   663.898963  1.033058e+05  0.000996    REM  \n",
       "161   509.926345  3.701008e+04  0.000528     N1  \n",
       "162   390.608436  9.521701e+04  0.000363     N2  \n",
       "163   296.452757  6.754039e+06  0.000063     N3  \n",
       "164   109.744217  2.577399e+06  0.000092     N2  \n",
       "\n",
       "[157 rows x 39 columns]"
      ]
     },
     "execution_count": 6,
     "metadata": {},
     "output_type": "execute_result"
    }
   ],
   "source": [
    "data_2"
   ]
  },
  {
   "cell_type": "markdown",
   "metadata": {},
   "source": [
    "### Splitting the data"
   ]
  },
  {
   "cell_type": "code",
   "execution_count": 7,
   "metadata": {},
   "outputs": [],
   "source": [
    "X=data_2.iloc[:,:-1]\n",
    "Y=data_2.iloc[:,-1]"
   ]
  },
  {
   "cell_type": "code",
   "execution_count": 8,
   "metadata": {},
   "outputs": [],
   "source": [
    "X_train, X_test, y_train, y_test = train_test_split(X, Y, train_size=0.75, random_state=100)"
   ]
  },
  {
   "cell_type": "markdown",
   "metadata": {},
   "source": [
    "## Meaning of each hyperparameter:\n",
    "#### Warning:  DO NOT RUN THE NEXT LINE OF CODE"
   ]
  },
  {
   "cell_type": "code",
   "execution_count": 9,
   "metadata": {},
   "outputs": [
    {
     "data": {
      "text/plain": [
       "SVC()"
      ]
     },
     "execution_count": 9,
     "metadata": {},
     "output_type": "execute_result"
    }
   ],
   "source": [
    "# The SVC Class from Sklearn\n",
    "SVC(C=1.0,              # The regularization parameter\n",
    "    kernel='rbf',                   # The kernel type used \n",
    "    degree=3,                       # Degree of polynomial function \n",
    "    gamma='scale',                  # The kernel coefficient\n",
    "    coef0=0.0,                      # If kernel = 'poly'/'sigmoid'\n",
    "    shrinking=True,                 # To use shrinking heuristic\n",
    "    probability=False,              # Enable probability estimates\n",
    "    tol=0.001,                      # Stopping crierion\n",
    "    cache_size=200,                 # Size of kernel cache\n",
    "    class_weight=None,              # The weight of each class\n",
    "    verbose=False,                  # Enable verbose output\n",
    "    max_iter=- 1,                   # Hard limit on iterations\n",
    "    decision_function_shape='ovr',  # One-vs-rest or one-vs-one\n",
    "    break_ties=False,               # How to handle breaking ties\n",
    "    random_state=None               # Random state of the model\n",
    ")"
   ]
  },
  {
   "cell_type": "markdown",
   "metadata": {},
   "source": [
    "## Defining the model"
   ]
  },
  {
   "cell_type": "markdown",
   "metadata": {},
   "source": [
    "### Wheights:\n",
    "We expect the algorithm to have difficulties to distinguish bewteen N2 and N3 segments due to the epileptic \"noise\". To avoid an overfitting of the data, we will lower the weight of this two classes. "
   ]
  },
  {
   "cell_type": "code",
   "execution_count": 9,
   "metadata": {},
   "outputs": [],
   "source": [
    "weights = {\n",
    "  \"Awake\": 1,\n",
    "  \"N1\": 0.5,\n",
    "  \"N2\": 0.5,\n",
    "  \"N3\": 0.5,\n",
    "  \"REM\": 1\n",
    "}"
   ]
  },
  {
   "cell_type": "markdown",
   "metadata": {},
   "source": [
    "### kernel and degree:\n",
    "We will use a polynomial kernel of 3rd degree "
   ]
  },
  {
   "cell_type": "code",
   "execution_count": null,
   "metadata": {},
   "outputs": [],
   "source": [
    "clf = SVC(kernel='poly', degree=5, gamma='auto', C=1.0,class_weight=weights)\n",
    "clf.fit(X_train, y_train)"
   ]
  },
  {
   "cell_type": "code",
   "execution_count": 11,
   "metadata": {},
   "outputs": [],
   "source": [
    "predictions_2 = clf.predict(X_train)"
   ]
  },
  {
   "cell_type": "code",
   "execution_count": 12,
   "metadata": {},
   "outputs": [
    {
     "data": {
      "image/png": "[encoded data removed]",
      "text/plain": [
       "<Figure size 432x288 with 2 Axes>"
      ]
     },
     "metadata": {
      "needs_background": "light"
     },
     "output_type": "display_data"
    }
   ],
   "source": [
    "confusion_matrix = pd.crosstab(y_train, predictions_2, rownames=['Actual'], colnames=['Predicted'])\n",
    "\n",
    "heatmap(confusion_matrix, annot=True, cmap=\"Blues\")\n",
    "plt.show()"
   ]
  },
  {
   "cell_type": "code",
   "execution_count": 111,
   "metadata": {},
   "outputs": [
    {
     "name": "stdout",
     "output_type": "stream",
     "text": [
      "['Awake' 'Awake' 'Awake' 'Awake' 'Awake' 'Awake' 'Awake' 'Awake' 'Awake'\n",
      " 'Awake' 'Awake' 'Awake' 'Awake' 'Awake' 'Awake' 'Awake' 'Awake' 'Awake'\n",
      " 'Awake' 'Awake' 'Awake' 'Awake' 'Awake' 'Awake' 'Awake' 'Awake' 'Awake'\n",
      " 'Awake' 'Awake' 'Awake' 'Awake' 'Awake' 'Awake' 'Awake' 'Awake' 'Awake'\n",
      " 'Awake' 'Awake' 'Awake' 'Awake']\n"
     ]
    }
   ],
   "source": [
    "predictions = clf.predict(X_test)\n",
    "print(predictions)"
   ]
  },
  {
   "cell_type": "code",
   "execution_count": 112,
   "metadata": {},
   "outputs": [
    {
     "data": {
      "image/png": "[encoded data removed]",
      "text/plain": [
       "<Figure size 432x288 with 2 Axes>"
      ]
     },
     "metadata": {
      "needs_background": "light"
     },
     "output_type": "display_data"
    }
   ],
   "source": [
    "confusion_matrix = pd.crosstab(y_test, predictions, rownames=['Actual'], colnames=['Predicted'])\n",
    "\n",
    "heatmap(confusion_matrix, annot=True, cmap=\"Blues\")\n",
    "plt.show()"
   ]
  },
  {
   "cell_type": "code",
   "execution_count": 65,
   "metadata": {},
   "outputs": [],
   "source": [
    "from sklearn.gaussian_process import GaussianProcessClassifier\n",
    "from sklearn.gaussian_process.kernels import RBF"
   ]
  },
  {
   "cell_type": "code",
   "execution_count": 66,
   "metadata": {},
   "outputs": [],
   "source": [
    "gauss=GaussianProcessClassifier(1.0 * RBF(1.0),random_state=0)"
   ]
  },
  {
   "cell_type": "code",
   "execution_count": 67,
   "metadata": {},
   "outputs": [
    {
     "data": {
      "text/plain": [
       "GaussianProcessClassifier(kernel=1**2 * RBF(length_scale=1), random_state=0)"
      ]
     },
     "execution_count": 67,
     "metadata": {},
     "output_type": "execute_result"
    }
   ],
   "source": [
    "gauss.fit(X_train, y_train)"
   ]
  },
  {
   "cell_type": "code",
   "execution_count": 70,
   "metadata": {},
   "outputs": [],
   "source": [
    "predictions_4 = gauss.predict(X_train)"
   ]
  },
  {
   "cell_type": "code",
   "execution_count": 74,
   "metadata": {},
   "outputs": [
    {
     "data": {
      "image/png": "[encoded data removed]",
      "text/plain": [
       "<Figure size 432x288 with 2 Axes>"
      ]
     },
     "metadata": {
      "needs_background": "light"
     },
     "output_type": "display_data"
    }
   ],
   "source": [
    "confusion_matrix = pd.crosstab(y_train, predictions_4, rownames=['Actual'], colnames=['Predicted'])\n",
    "\n",
    "heatmap(confusion_matrix, annot=True, cmap=\"Blues\")\n",
    "plt.show()"
   ]
  },
  {
   "cell_type": "code",
   "execution_count": 75,
   "metadata": {},
   "outputs": [
    {
     "name": "stdout",
     "output_type": "stream",
     "text": [
      "['REM' 'REM' 'REM' 'REM' 'REM' 'REM' 'REM' 'REM' 'REM' 'REM' 'REM' 'REM'\n",
      " 'REM' 'REM' 'REM' 'REM' 'REM' 'REM' 'REM' 'REM' 'REM' 'REM' 'REM' 'REM'\n",
      " 'REM' 'REM' 'REM' 'REM' 'REM' 'REM' 'REM' 'REM' 'REM' 'REM' 'REM' 'REM'\n",
      " 'REM' 'REM' 'REM' 'REM']\n"
     ]
    }
   ],
   "source": [
    "predictions_3 = gauss.predict(X_test)\n",
    "print(predictions_3)"
   ]
  },
  {
   "cell_type": "code",
   "execution_count": 76,
   "metadata": {},
   "outputs": [
    {
     "data": {
      "image/png": "[encoded data removed]",
      "text/plain": [
       "<Figure size 432x288 with 2 Axes>"
      ]
     },
     "metadata": {
      "needs_background": "light"
     },
     "output_type": "display_data"
    }
   ],
   "source": [
    "confusion_matrix = pd.crosstab(y_test, predictions_3, rownames=['Actual'], colnames=['Predicted'])\n",
    "\n",
    "heatmap(confusion_matrix, annot=True, cmap=\"Blues\")\n",
    "plt.show()"
   ]
  },
  {
   "cell_type": "code",
   "execution_count": null,
   "metadata": {},
   "outputs": [],
   "source": []
  }
 ],
 "metadata": {
  "kernelspec": {
   "display_name": "Python 3 (ipykernel)",
   "language": "python",
   "name": "python3"
  },
  "language_info": {
   "codemirror_mode": {
    "name": "ipython",
    "version": 3
   },
   "file_extension": ".py",
   "mimetype": "text/x-python",
   "name": "python",
   "nbconvert_exporter": "python",
   "pygments_lexer": "ipython3",
   "version": "3.8.5"
  }
 },
 "nbformat": 4,
 "nbformat_minor": 4
}
