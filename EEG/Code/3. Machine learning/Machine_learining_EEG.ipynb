{
 "cells": [
  {
   "cell_type": "markdown",
   "id": "7750fa66",
   "metadata": {},
   "source": [
    "## Machine learning with the extracted EEG parameters"
   ]
  },
  {
   "cell_type": "markdown",
   "id": "cb7afc78",
   "metadata": {},
   "source": [
    "### Importing the packagery:"
   ]
  },
  {
   "cell_type": "code",
   "execution_count": 1,
   "id": "9e157892",
   "metadata": {},
   "outputs": [],
   "source": [
    "#Python3.7\n",
    "#Numpy version: \n",
    "import numpy as np\n",
    "import matplotlib.pyplot as plt\n",
    "import pandas as pd\n",
    "import seaborn as sns\n",
    "from sklearn.cluster import KMeans, SpectralClustering\n",
    "from sklearn.preprocessing import StandardScaler\n",
    "from sklearn.metrics import silhouette_samples, silhouette_score\n",
    "\n",
    "%matplotlib inline"
   ]
  },
  {
   "cell_type": "markdown",
   "id": "dd734ac0",
   "metadata": {},
   "source": [
    "Now we will try different combinations of parameters and evaluate the accuracy of a cluster-based analysis. Let's remember that we have two main types of parameters: the ones extracted from the bipolar derivations and the ones extracted from the original channels."
   ]
  },
  {
   "cell_type": "markdown",
   "id": "4a3b0c7b",
   "metadata": {},
   "source": [
    "## Standard deviation_ vertical_bipolar"
   ]
  },
  {
   "cell_type": "markdown",
   "id": "04b09861",
   "metadata": {},
   "source": [
    "This first derivation contains the standard deviation of the vertical bipolar chains obtained from the double banana. Each row of the CSV data represents a segment of the recording. The length of each segment depends on the duration of the sleep stage. Each segment is then subdivided into sub-segments of 10 seconds. \n",
    "\n",
    "Then a PSD plot is obtained from each sub-segment and divided into 5 frequency bands: Delta waves(0.2-4 Hz), theta waves(4-8 Hz), alpha(8-12 Hz), beta(12-30 Hz) and gamma(30-90 Hz). \n",
    "\n",
    "Finally, a standard deviation of the relative power of a frequency band is calculated. The standard deviations that correspond to the same segment and the same chain are averaged and recorded. This means that for a single segment we have 7 chains, each with 5 bands. This results in an array of 35 dependent variables. The last variable in the array is the independent variable: the sleep stage. "
   ]
  },
  {
   "cell_type": "markdown",
   "id": "a59ed2b7",
   "metadata": {},
   "source": [
    "#### Importing the data"
   ]
  },
  {
   "cell_type": "code",
   "execution_count": 3,
   "id": "a1ab7e98",
   "metadata": {},
   "outputs": [],
   "source": [
    "data=pd.read_csv(\"Extracted_data/Data_medians_vert_STD.csv\")"
   ]
  },
  {
   "cell_type": "markdown",
   "id": "060725dc",
   "metadata": {},
   "source": [
    "#### Adapting the data"
   ]
  },
  {
   "cell_type": "code",
   "execution_count": 4,
   "id": "7060fa1b",
   "metadata": {},
   "outputs": [],
   "source": [
    "del data['Unnamed: 0']"
   ]
  },
  {
   "cell_type": "code",
   "execution_count": 5,
   "id": "7f84d30a",
   "metadata": {},
   "outputs": [],
   "source": [
    "# 0: Awake\n",
    "# 1: N1\n",
    "# 2: N2\n",
    "# 3: N3\n",
    "# 4: REM\n",
    "\n",
    "for i in range(0,len(data)):\n",
    "    if data.iloc[i,-1]=='Awake':\n",
    "        data.iloc[i,-1]=0\n",
    "    elif data.iloc[i,-1]=='N1':\n",
    "        data.iloc[i,-1]=1\n",
    "    elif data.iloc[i,-1]=='N2':\n",
    "        data.iloc[i,-1]=2\n",
    "    elif data.iloc[i,-1]=='N3':\n",
    "        data.iloc[i,-1]=3\n",
    "    elif data.iloc[i,-1]=='REM':\n",
    "        data.iloc[i,-1]=4\n",
    "    else:\n",
    "        data.iloc[i,-1]=np.nan"
   ]
  },
  {
   "cell_type": "code",
   "execution_count": 6,
   "id": "41062713",
   "metadata": {},
   "outputs": [],
   "source": [
    "data_2=data.dropna()"
   ]
  },
  {
   "cell_type": "code",
   "execution_count": 7,
   "id": "4a825f8e",
   "metadata": {},
   "outputs": [],
   "source": [
    "# Standardize the data\n",
    "X = StandardScaler().fit_transform(data_2.iloc[:,:35])"
   ]
  },
  {
   "cell_type": "code",
   "execution_count": 8,
   "id": "d4b2d6e3",
   "metadata": {},
   "outputs": [],
   "source": [
    "Y=data_2.iloc[:,-1].to_numpy()"
   ]
  },
  {
   "cell_type": "code",
   "execution_count": 9,
   "id": "022ef614",
   "metadata": {},
   "outputs": [],
   "source": [
    "# Train-test split\n",
    "X_train=X[:int(len(X)*0.9)]\n",
    "X_test=X[int(len(X)*0.9):]"
   ]
  },
  {
   "cell_type": "code",
   "execution_count": 10,
   "id": "ed8c66a9",
   "metadata": {},
   "outputs": [],
   "source": [
    "Y_train=Y[:int(len(X)*0.9)]\n",
    "Y_test=Y[int(len(X)*0.9):]"
   ]
  },
  {
   "cell_type": "markdown",
   "id": "bf6df8af",
   "metadata": {},
   "source": [
    "#### Defining a Kmeans model"
   ]
  },
  {
   "cell_type": "markdown",
   "id": "71bc29dc",
   "metadata": {},
   "source": [
    "The KMeans algorithm clusters the data by attempting to divide the samples into n groups of equal variance.\n",
    " The mean is commonly called the \"centroid\" of the cluster. Note that these are typically not points from the dataset. \n",
    " \n",
    "The k-means algorithm aims to choose centroids that minimize the in-cluster inertia or sum of squares criterion. The first step is to select the first centroid. The K-means algorithm consists of 3 basic steps. First, several points of the dataset are selected as the first centroids. Then the rest of the points are classified according to the nearest centroid. The new centroid is the mean value of the points in each class. The difference between the old and new centroids is calculated and the algorithm repeats these last two steps until this value is below the threshold. For more information visit the [documentation site](https://scikit-learn.org/stable/modules/clustering.html#k-means)."
   ]
  },
  {
   "cell_type": "code",
   "execution_count": 11,
   "id": "69cf4026",
   "metadata": {},
   "outputs": [],
   "source": [
    "# Run local implementation of kmeans\n",
    "model = KMeans(n_clusters=6, max_iter=100, init='random',n_init=10)"
   ]
  },
  {
   "cell_type": "code",
   "execution_count": 12,
   "id": "827b7cc3",
   "metadata": {},
   "outputs": [
    {
     "data": {
      "text/plain": [
       "KMeans(init='random', max_iter=100, n_clusters=6)"
      ]
     },
     "execution_count": 12,
     "metadata": {},
     "output_type": "execute_result"
    }
   ],
   "source": [
    "model.fit(X_train)"
   ]
  },
  {
   "cell_type": "code",
   "execution_count": 13,
   "id": "b5208dc4",
   "metadata": {},
   "outputs": [],
   "source": [
    "#Obtaining clusters centroid\n",
    "centroids = model.cluster_centers_\n",
    "\n",
    "#To obtain the labels of each cluster\n",
    "labels = model.labels_"
   ]
  },
  {
   "cell_type": "markdown",
   "id": "89175908",
   "metadata": {},
   "source": [
    "#### Train values"
   ]
  },
  {
   "cell_type": "code",
   "execution_count": 14,
   "id": "a4d6335a",
   "metadata": {},
   "outputs": [
    {
     "data": {
      "image/png": "[encoded data removed]",
      "text/plain": [
       "<Figure size 432x288 with 2 Axes>"
      ]
     },
     "metadata": {
      "needs_background": "light"
     },
     "output_type": "display_data"
    }
   ],
   "source": [
    "confusion_matrix = pd.crosstab(Y_train, labels, rownames=['Actual'], colnames=['Predicted'])\n",
    "\n",
    "sns.heatmap(confusion_matrix, annot=True, cmap=\"Blues\")\n",
    "plt.show()"
   ]
  },
  {
   "cell_type": "markdown",
   "id": "21e3f1d7",
   "metadata": {},
   "source": [
    "#### Test values"
   ]
  },
  {
   "cell_type": "code",
   "execution_count": 15,
   "id": "4aa04d9c",
   "metadata": {},
   "outputs": [],
   "source": [
    "y_pred=model.predict(X_test)"
   ]
  },
  {
   "cell_type": "code",
   "execution_count": 16,
   "id": "c9d03afa",
   "metadata": {},
   "outputs": [
    {
     "data": {
      "image/png": "[encoded data removed]",
      "text/plain": [
       "<Figure size 432x288 with 2 Axes>"
      ]
     },
     "metadata": {
      "needs_background": "light"
     },
     "output_type": "display_data"
    }
   ],
   "source": [
    "confusion_matrix = pd.crosstab(Y_test, y_pred, rownames=['Actual'], colnames=['Predicted'])\n",
    "\n",
    "sns.heatmap(confusion_matrix, annot=True, cmap=\"Blues\")\n",
    "plt.show()"
   ]
  },
  {
   "cell_type": "markdown",
   "id": "27a827dc",
   "metadata": {},
   "source": [
    "Observations:\n",
    "\n",
    " * STD works great to identify the N3 segments\n",
    " * STD works fairly well to identify periods awake and N2\n",
    " * STD doesn't seem to be working on REM identification\n",
    " * The low count of N1 segments makes it difficult to assess its accuracy.\n",
    " * It should be considered that it is possible that the third group of STD corresponds to epileptic seizures."
   ]
  },
  {
   "cell_type": "markdown",
   "id": "334397c6",
   "metadata": {},
   "source": [
    "## Medians: Lobes"
   ]
  },
  {
   "cell_type": "markdown",
   "id": "693e821f",
   "metadata": {},
   "source": [
    "Now we will obtain the average value for each band dividing each channel into lobes. The lobes taken into account were: Frontal, occipital, parietal, temporal, and central(even though it isn't a cerebral lobe, it doesn't share the same characteristics as the frontal or parietal lobes)."
   ]
  },
  {
   "cell_type": "markdown",
   "id": "be58cda3",
   "metadata": {},
   "source": [
    "#### Importing the data"
   ]
  },
  {
   "cell_type": "code",
   "execution_count": 19,
   "id": "729029c1",
   "metadata": {},
   "outputs": [],
   "source": [
    "data=pd.read_csv(\"Extracted_data/Data_medians_lobes.csv\")"
   ]
  },
  {
   "cell_type": "code",
   "execution_count": 20,
   "id": "89571664",
   "metadata": {},
   "outputs": [],
   "source": [
    "del data['Unnamed: 0']"
   ]
  },
  {
   "cell_type": "code",
   "execution_count": 21,
   "id": "a2b73a0c",
   "metadata": {},
   "outputs": [],
   "source": [
    "# 0: Awake\n",
    "# 1: N1\n",
    "# 2: N2\n",
    "# 3: N3\n",
    "# 4: REM\n",
    "\n",
    "for i in range(0,len(data)):\n",
    "    if data.iloc[i,-1]=='Awake':\n",
    "        data.iloc[i,-1]=0\n",
    "    elif data.iloc[i,-1]=='N1':\n",
    "        data.iloc[i,-1]=1\n",
    "    elif data.iloc[i,-1]=='N2':\n",
    "        data.iloc[i,-1]=2\n",
    "    elif data.iloc[i,-1]=='N3':\n",
    "        data.iloc[i,-1]=3\n",
    "    elif data.iloc[i,-1]=='REM':\n",
    "        data.iloc[i,-1]=4\n",
    "    else:\n",
    "        data.iloc[i,-1]=np.nan"
   ]
  },
  {
   "cell_type": "markdown",
   "id": "9e32e3d4",
   "metadata": {},
   "source": [
    "#### Adapting the data"
   ]
  },
  {
   "cell_type": "code",
   "execution_count": 22,
   "id": "ad3b703f",
   "metadata": {},
   "outputs": [],
   "source": [
    "data_2=data.dropna()"
   ]
  },
  {
   "cell_type": "code",
   "execution_count": 23,
   "id": "4b13bc70",
   "metadata": {},
   "outputs": [],
   "source": [
    "# Standardize the data\n",
    "X = StandardScaler().fit_transform(data_2.iloc[:,:35])\n",
    "\n",
    "Y=data_2.iloc[:,-1].to_numpy()\n",
    "\n",
    "X_train=X[:int(len(X)*0.9)]\n",
    "X_test=X[int(len(X)*0.9):]\n",
    "\n",
    "Y_train=Y[:int(len(X)*0.9)]\n",
    "Y_test=Y[int(len(X)*0.9):]"
   ]
  },
  {
   "cell_type": "markdown",
   "id": "4bdfe6ff",
   "metadata": {},
   "source": [
    "#### Defining a Kmeans model"
   ]
  },
  {
   "cell_type": "code",
   "execution_count": 24,
   "id": "3f929c5b",
   "metadata": {},
   "outputs": [],
   "source": [
    "# Run local implementation of kmeans\n",
    "model = KMeans(n_clusters=6, max_iter=100, init='random',n_init=10)"
   ]
  },
  {
   "cell_type": "code",
   "execution_count": 25,
   "id": "6ba63907",
   "metadata": {},
   "outputs": [
    {
     "data": {
      "text/plain": [
       "KMeans(init='random', max_iter=100, n_clusters=6)"
      ]
     },
     "execution_count": 25,
     "metadata": {},
     "output_type": "execute_result"
    }
   ],
   "source": [
    "model.fit(X_train)"
   ]
  },
  {
   "cell_type": "code",
   "execution_count": 26,
   "id": "39896a60",
   "metadata": {},
   "outputs": [],
   "source": [
    "#Obtaining clusters centroid\n",
    "centroids = model.cluster_centers_\n",
    "\n",
    "#To obtain the labels of each cluster\n",
    "labels = model.labels_"
   ]
  },
  {
   "cell_type": "markdown",
   "id": "f4f6f9c4",
   "metadata": {},
   "source": [
    "#### Train values"
   ]
  },
  {
   "cell_type": "code",
   "execution_count": 27,
   "id": "575a528f",
   "metadata": {
    "scrolled": true
   },
   "outputs": [
    {
     "data": {
      "image/png": "[encoded data removed]",
      "text/plain": [
       "<Figure size 432x288 with 2 Axes>"
      ]
     },
     "metadata": {
      "needs_background": "light"
     },
     "output_type": "display_data"
    }
   ],
   "source": [
    "confusion_matrix = pd.crosstab(Y_train, labels, rownames=['Actual'], colnames=['Predicted'])\n",
    "\n",
    "sns.heatmap(confusion_matrix, annot=True, cmap=\"Blues\")\n",
    "plt.show()"
   ]
  },
  {
   "cell_type": "markdown",
   "id": "486f57f4",
   "metadata": {},
   "source": [
    "#### Test values"
   ]
  },
  {
   "cell_type": "code",
   "execution_count": 28,
   "id": "8e6f5e38",
   "metadata": {},
   "outputs": [],
   "source": [
    "y_pred=model.predict(X_test)"
   ]
  },
  {
   "cell_type": "code",
   "execution_count": 29,
   "id": "dfb1c090",
   "metadata": {},
   "outputs": [
    {
     "data": {
      "image/png": "[encoded data removed]",
      "text/plain": [
       "<Figure size 432x288 with 2 Axes>"
      ]
     },
     "metadata": {
      "needs_background": "light"
     },
     "output_type": "display_data"
    }
   ],
   "source": [
    "confusion_matrix = pd.crosstab(Y_test, y_pred, rownames=['Actual'], colnames=['Predicted'])\n",
    "\n",
    "sns.heatmap(confusion_matrix, annot=True, cmap=\"Blues\")\n",
    "plt.show()"
   ]
  },
  {
   "cell_type": "markdown",
   "id": "1b10446c",
   "metadata": {},
   "source": [
    "Observations:\n",
    "* Lobe method confuses N2 with N3\n",
    "* Moderately defined awake periods\n",
    "* First and last group very similar: One may correspond to epilepsy"
   ]
  },
  {
   "cell_type": "markdown",
   "id": "3cbdab82",
   "metadata": {},
   "source": [
    "## Data_medians_horizontal"
   ]
  },
  {
   "cell_type": "markdown",
   "id": "3427b2ac",
   "metadata": {},
   "source": [
    "This data consists of horizontal bipolar derivations, similar to the double banana, but in a perpendicular direction. "
   ]
  },
  {
   "cell_type": "markdown",
   "id": "5853fe1e",
   "metadata": {},
   "source": [
    "#### Importing the data"
   ]
  },
  {
   "cell_type": "code",
   "execution_count": 30,
   "id": "8bb6cecb",
   "metadata": {},
   "outputs": [],
   "source": [
    "data=pd.read_csv(\"Extracted_data/Data_medians_horizontal.csv\")"
   ]
  },
  {
   "cell_type": "markdown",
   "id": "de0010b9",
   "metadata": {},
   "source": [
    "#### Adapting the data"
   ]
  },
  {
   "cell_type": "code",
   "execution_count": 31,
   "id": "d9a6930e",
   "metadata": {},
   "outputs": [],
   "source": [
    "del data['Unnamed: 0']"
   ]
  },
  {
   "cell_type": "code",
   "execution_count": 32,
   "id": "413e05dd",
   "metadata": {},
   "outputs": [],
   "source": [
    "# 0: Awake\n",
    "# 1: N1\n",
    "# 2: N2\n",
    "# 3: N3\n",
    "# 4: REM\n",
    "\n",
    "for i in range(0,len(data)):\n",
    "    if data.iloc[i,-1]=='Awake':\n",
    "        data.iloc[i,-1]=0\n",
    "    elif data.iloc[i,-1]=='N1':\n",
    "        data.iloc[i,-1]=1\n",
    "    elif data.iloc[i,-1]=='N2':\n",
    "        data.iloc[i,-1]=2\n",
    "    elif data.iloc[i,-1]=='N3':\n",
    "        data.iloc[i,-1]=3\n",
    "    elif data.iloc[i,-1]=='REM':\n",
    "        data.iloc[i,-1]=4\n",
    "    else:\n",
    "        data.iloc[i,-1]=np.nan"
   ]
  },
  {
   "cell_type": "code",
   "execution_count": 33,
   "id": "467b14ac",
   "metadata": {},
   "outputs": [],
   "source": [
    "data_2=data.dropna()"
   ]
  },
  {
   "cell_type": "code",
   "execution_count": 34,
   "id": "97189621",
   "metadata": {},
   "outputs": [],
   "source": [
    "# Standardize the data\n",
    "X = StandardScaler().fit_transform(data_2.iloc[:,:35])\n",
    "\n",
    "Y=data_2.iloc[:,-1].to_numpy()\n",
    "\n",
    "X_train=X[:int(len(X)*0.9)]\n",
    "X_test=X[int(len(X)*0.9):]\n",
    "\n",
    "Y_train=Y[:int(len(X)*0.9)]\n",
    "Y_test=Y[int(len(X)*0.9):]"
   ]
  },
  {
   "cell_type": "markdown",
   "id": "2c5b3993",
   "metadata": {},
   "source": [
    "#### Defining a Kmeans model"
   ]
  },
  {
   "cell_type": "code",
   "execution_count": 35,
   "id": "b9499bba",
   "metadata": {},
   "outputs": [],
   "source": [
    "# Run local implementation of kmeans\n",
    "model = KMeans(n_clusters=6, max_iter=100, init='random',n_init=10)"
   ]
  },
  {
   "cell_type": "code",
   "execution_count": 36,
   "id": "9b194f0d",
   "metadata": {},
   "outputs": [
    {
     "data": {
      "text/plain": [
       "KMeans(init='random', max_iter=100, n_clusters=6)"
      ]
     },
     "execution_count": 36,
     "metadata": {},
     "output_type": "execute_result"
    }
   ],
   "source": [
    "model.fit(X_train)"
   ]
  },
  {
   "cell_type": "code",
   "execution_count": 37,
   "id": "9ef8d1d2",
   "metadata": {},
   "outputs": [],
   "source": [
    "#Obtaining clusters centroid\n",
    "centroids = model.cluster_centers_\n",
    "\n",
    "#To obtain the labels of each cluster\n",
    "labels = model.labels_"
   ]
  },
  {
   "cell_type": "markdown",
   "id": "5c1201bf",
   "metadata": {},
   "source": [
    "#### Train values"
   ]
  },
  {
   "cell_type": "code",
   "execution_count": 38,
   "id": "98349289",
   "metadata": {
    "scrolled": true
   },
   "outputs": [
    {
     "data": {
      "image/png": "[encoded data removed]",
      "text/plain": [
       "<Figure size 432x288 with 2 Axes>"
      ]
     },
     "metadata": {
      "needs_background": "light"
     },
     "output_type": "display_data"
    }
   ],
   "source": [
    "confusion_matrix = pd.crosstab(Y_train, labels, rownames=['Actual'], colnames=['Predicted'])\n",
    "\n",
    "sns.heatmap(confusion_matrix, annot=True, cmap=\"Blues\")\n",
    "plt.show()"
   ]
  },
  {
   "cell_type": "markdown",
   "id": "1f09de51",
   "metadata": {},
   "source": [
    "#### Test values"
   ]
  },
  {
   "cell_type": "code",
   "execution_count": 39,
   "id": "6e0742ab",
   "metadata": {},
   "outputs": [],
   "source": [
    "y_pred=model.predict(X_test)"
   ]
  },
  {
   "cell_type": "code",
   "execution_count": 40,
   "id": "1bec9bae",
   "metadata": {
    "scrolled": true
   },
   "outputs": [
    {
     "data": {
      "image/png": "[encoded data removed]",
      "text/plain": [
       "<Figure size 432x288 with 2 Axes>"
      ]
     },
     "metadata": {
      "needs_background": "light"
     },
     "output_type": "display_data"
    }
   ],
   "source": [
    "confusion_matrix = pd.crosstab(Y_test, y_pred, rownames=['Actual'], colnames=['Predicted'])\n",
    "\n",
    "sns.heatmap(confusion_matrix, annot=True, cmap=\"Blues\")\n",
    "plt.show()"
   ]
  },
  {
   "cell_type": "markdown",
   "id": "07c94506",
   "metadata": {},
   "source": [
    "Observations:\n",
    "* Two groups correspond to N2 and N3. Possibly one corresponds to segments with attacks\n",
    "* No group is particularly defined"
   ]
  },
  {
   "cell_type": "markdown",
   "id": "686edd64",
   "metadata": {},
   "source": [
    "## Data_medians_vertical"
   ]
  },
  {
   "cell_type": "markdown",
   "id": "264f836d",
   "metadata": {},
   "source": [
    "Median values of the vertical bipolar derivations. Very similar to the first test but instead of using the standard derivation among the values, we will use the mean value of medians. "
   ]
  },
  {
   "cell_type": "markdown",
   "id": "80d353ff",
   "metadata": {},
   "source": [
    "#### Importing the data"
   ]
  },
  {
   "cell_type": "code",
   "execution_count": 41,
   "id": "d558f68a",
   "metadata": {},
   "outputs": [],
   "source": [
    "data=pd.read_csv(\"Extracted_data/Data_medians_vertical.csv\")"
   ]
  },
  {
   "cell_type": "markdown",
   "id": "7c9ddfec",
   "metadata": {},
   "source": [
    "#### Adapting the data"
   ]
  },
  {
   "cell_type": "code",
   "execution_count": 42,
   "id": "5a6643f2",
   "metadata": {},
   "outputs": [],
   "source": [
    "del data['Unnamed: 0']"
   ]
  },
  {
   "cell_type": "code",
   "execution_count": 43,
   "id": "596517ac",
   "metadata": {},
   "outputs": [],
   "source": [
    "# 0: Awake\n",
    "# 1: N1\n",
    "# 2: N2\n",
    "# 3: N3\n",
    "# 4: REM\n",
    "\n",
    "for i in range(0,len(data)):\n",
    "    if data.iloc[i,-1]=='Awake':\n",
    "        data.iloc[i,-1]=0\n",
    "    elif data.iloc[i,-1]=='N1':\n",
    "        data.iloc[i,-1]=1\n",
    "    elif data.iloc[i,-1]=='N2':\n",
    "        data.iloc[i,-1]=2\n",
    "    elif data.iloc[i,-1]=='N3':\n",
    "        data.iloc[i,-1]=3\n",
    "    elif data.iloc[i,-1]=='REM':\n",
    "        data.iloc[i,-1]=4\n",
    "    else:\n",
    "        data.iloc[i,-1]=np.nan"
   ]
  },
  {
   "cell_type": "code",
   "execution_count": 44,
   "id": "f3670dbf",
   "metadata": {},
   "outputs": [],
   "source": [
    "data_2=data.dropna()"
   ]
  },
  {
   "cell_type": "code",
   "execution_count": 45,
   "id": "2e1797c8",
   "metadata": {},
   "outputs": [],
   "source": [
    "# Standardize the data\n",
    "X = StandardScaler().fit_transform(data_2.iloc[:,:35])\n",
    "\n",
    "Y=data_2.iloc[:,-1].to_numpy()\n",
    "\n",
    "X_train=X[:int(len(X)*0.9)]\n",
    "X_test=X[int(len(X)*0.9):]\n",
    "\n",
    "Y_train=Y[:int(len(X)*0.9)]\n",
    "Y_test=Y[int(len(X)*0.9):]"
   ]
  },
  {
   "cell_type": "markdown",
   "id": "84b0c0c2",
   "metadata": {},
   "source": [
    "#### Defining a Kmeans model"
   ]
  },
  {
   "cell_type": "code",
   "execution_count": 46,
   "id": "92a164dc",
   "metadata": {},
   "outputs": [],
   "source": [
    "# Run local implementation of kmeans\n",
    "model = KMeans(n_clusters=6, max_iter=100, init='random',n_init=10)"
   ]
  },
  {
   "cell_type": "code",
   "execution_count": 47,
   "id": "d92ae2ac",
   "metadata": {},
   "outputs": [
    {
     "data": {
      "text/plain": [
       "KMeans(init='random', max_iter=100, n_clusters=6)"
      ]
     },
     "execution_count": 47,
     "metadata": {},
     "output_type": "execute_result"
    }
   ],
   "source": [
    "model.fit(X_train)"
   ]
  },
  {
   "cell_type": "code",
   "execution_count": 48,
   "id": "5f5ffbcc",
   "metadata": {},
   "outputs": [],
   "source": [
    "data_2=data.dropna()"
   ]
  },
  {
   "cell_type": "markdown",
   "id": "09c9565a",
   "metadata": {},
   "source": [
    "#### Train values"
   ]
  },
  {
   "cell_type": "code",
   "execution_count": 49,
   "id": "fe83fc0f",
   "metadata": {},
   "outputs": [],
   "source": [
    "#Obtaining clusters centroid\n",
    "centroids = model.cluster_centers_\n",
    "\n",
    "#To obtain the labels of each cluster\n",
    "labels = model.labels_"
   ]
  },
  {
   "cell_type": "code",
   "execution_count": 50,
   "id": "330d7ebc",
   "metadata": {
    "scrolled": true
   },
   "outputs": [
    {
     "data": {
      "image/png": "[encoded data removed]",
      "text/plain": [
       "<Figure size 432x288 with 2 Axes>"
      ]
     },
     "metadata": {
      "needs_background": "light"
     },
     "output_type": "display_data"
    }
   ],
   "source": [
    "confusion_matrix = pd.crosstab(Y_train, labels, rownames=['Actual'], colnames=['Predicted'])\n",
    "\n",
    "sns.heatmap(confusion_matrix, annot=True, cmap=\"Blues\")\n",
    "plt.show()"
   ]
  },
  {
   "cell_type": "markdown",
   "id": "e86ed606",
   "metadata": {},
   "source": [
    "#### Test values"
   ]
  },
  {
   "cell_type": "code",
   "execution_count": 51,
   "id": "9483236a",
   "metadata": {},
   "outputs": [],
   "source": [
    "y_pred=model.predict(X_test)"
   ]
  },
  {
   "cell_type": "code",
   "execution_count": 52,
   "id": "d06f56db",
   "metadata": {
    "scrolled": false
   },
   "outputs": [
    {
     "data": {
      "image/png": "[encoded data removed]",
      "text/plain": [
       "<Figure size 432x288 with 2 Axes>"
      ]
     },
     "metadata": {
      "needs_background": "light"
     },
     "output_type": "display_data"
    }
   ],
   "source": [
    "confusion_matrix = pd.crosstab(Y_test, y_pred, rownames=['Actual'], colnames=['Predicted'])\n",
    "\n",
    "sns.heatmap(confusion_matrix, annot=True, cmap=\"Blues\")\n",
    "plt.show()"
   ]
  },
  {
   "cell_type": "markdown",
   "id": "38829ab1",
   "metadata": {},
   "source": [
    "## Data_lobes_std"
   ]
  },
  {
   "cell_type": "markdown",
   "id": "5e1b92db",
   "metadata": {},
   "source": [
    "Single electrode recordings with the electrodes are classified into lobes. The value of interest here is the standard derivation in a single class of electrodes. Let's remember that the median value wasn't very accurate in the correct classification of N2 and N3 fragments. We hope that the electrophysiological properties of each stage are more distinguishable by using standard derivation."
   ]
  },
  {
   "cell_type": "markdown",
   "id": "8dcf966a",
   "metadata": {},
   "source": [
    "#### Importing the data"
   ]
  },
  {
   "cell_type": "code",
   "execution_count": 53,
   "id": "70f63e08",
   "metadata": {},
   "outputs": [],
   "source": [
    "data=pd.read_csv(\"Extracted_data/Data_medians_3.csv\")"
   ]
  },
  {
   "cell_type": "markdown",
   "id": "69dcfa4c",
   "metadata": {},
   "source": [
    "#### Adapting the data"
   ]
  },
  {
   "cell_type": "code",
   "execution_count": 54,
   "id": "992c92fa",
   "metadata": {},
   "outputs": [],
   "source": [
    "del data['Unnamed: 0']"
   ]
  },
  {
   "cell_type": "code",
   "execution_count": 55,
   "id": "fcd6f5bd",
   "metadata": {},
   "outputs": [],
   "source": [
    "# 0: Awake\n",
    "# 1: N1\n",
    "# 2: N2\n",
    "# 3: N3\n",
    "# 4: REM\n",
    "\n",
    "for i in range(0,len(data)):\n",
    "    if data.iloc[i,-1]=='Awake':\n",
    "        data.iloc[i,-1]=0\n",
    "    elif data.iloc[i,-1]=='N1':\n",
    "        data.iloc[i,-1]=1\n",
    "    elif data.iloc[i,-1]=='N2':\n",
    "        data.iloc[i,-1]=2\n",
    "    elif data.iloc[i,-1]=='N3':\n",
    "        data.iloc[i,-1]=3\n",
    "    elif data.iloc[i,-1]=='REM':\n",
    "        data.iloc[i,-1]=4\n",
    "    else:\n",
    "        data.iloc[i,-1]=np.nan"
   ]
  },
  {
   "cell_type": "code",
   "execution_count": 56,
   "id": "6da882df",
   "metadata": {},
   "outputs": [],
   "source": [
    "data_2=data.dropna()"
   ]
  },
  {
   "cell_type": "code",
   "execution_count": 57,
   "id": "909ffd89",
   "metadata": {},
   "outputs": [],
   "source": [
    "# Standardize the data\n",
    "X = StandardScaler().fit_transform(data_2.iloc[:,:25])\n",
    "\n",
    "Y=data_2.iloc[:,-1].to_numpy()\n",
    "\n",
    "X_train=X[:int(len(X)*0.9)]\n",
    "X_test=X[int(len(X)*0.9):]\n",
    "\n",
    "Y_train=Y[:int(len(X)*0.9)]\n",
    "Y_test=Y[int(len(X)*0.9):]"
   ]
  },
  {
   "cell_type": "markdown",
   "id": "f3e6d659",
   "metadata": {},
   "source": [
    "#### Defining a Kmeans model"
   ]
  },
  {
   "cell_type": "code",
   "execution_count": 58,
   "id": "f471aa95",
   "metadata": {},
   "outputs": [],
   "source": [
    "# Run local implementation of kmeans\n",
    "model = KMeans(n_clusters=6, max_iter=100, init='random',n_init=10)"
   ]
  },
  {
   "cell_type": "code",
   "execution_count": 59,
   "id": "a7eeb7c0",
   "metadata": {},
   "outputs": [
    {
     "data": {
      "text/plain": [
       "KMeans(init='random', max_iter=100, n_clusters=6)"
      ]
     },
     "execution_count": 59,
     "metadata": {},
     "output_type": "execute_result"
    }
   ],
   "source": [
    "model.fit(X_train)"
   ]
  },
  {
   "cell_type": "markdown",
   "id": "56122c8b",
   "metadata": {},
   "source": [
    "#### Train values"
   ]
  },
  {
   "cell_type": "code",
   "execution_count": 60,
   "id": "cbd0bf31",
   "metadata": {},
   "outputs": [],
   "source": [
    "#Obtaining clusters centroid\n",
    "centroids = model.cluster_centers_\n",
    "\n",
    "#To obtain the labels of each cluster\n",
    "labels = model.labels_"
   ]
  },
  {
   "cell_type": "code",
   "execution_count": 61,
   "id": "e76bcb7f",
   "metadata": {
    "scrolled": true
   },
   "outputs": [
    {
     "data": {
      "image/png": "[encoded data removed]",
      "text/plain": [
       "<Figure size 432x288 with 2 Axes>"
      ]
     },
     "metadata": {
      "needs_background": "light"
     },
     "output_type": "display_data"
    }
   ],
   "source": [
    "confusion_matrix = pd.crosstab(Y_train, labels, rownames=['Actual'], colnames=['Predicted'])\n",
    "\n",
    "sns.heatmap(confusion_matrix, annot=True, cmap=\"Blues\")\n",
    "plt.show()"
   ]
  },
  {
   "cell_type": "markdown",
   "id": "e4587979",
   "metadata": {},
   "source": [
    "#### Test values"
   ]
  },
  {
   "cell_type": "code",
   "execution_count": 62,
   "id": "ec66edc4",
   "metadata": {},
   "outputs": [],
   "source": [
    "y_pred=model.predict(X_test)"
   ]
  },
  {
   "cell_type": "code",
   "execution_count": 63,
   "id": "cbd28bdc",
   "metadata": {
    "scrolled": true
   },
   "outputs": [
    {
     "data": {
      "image/png": "[encoded data removed]",
      "text/plain": [
       "<Figure size 432x288 with 2 Axes>"
      ]
     },
     "metadata": {
      "needs_background": "light"
     },
     "output_type": "display_data"
    }
   ],
   "source": [
    "confusion_matrix = pd.crosstab(Y_test, y_pred, rownames=['Actual'], colnames=['Predicted'])\n",
    "\n",
    "sns.heatmap(confusion_matrix, annot=True, cmap=\"Blues\")\n",
    "plt.show()"
   ]
  },
  {
   "cell_type": "code",
   "execution_count": 64,
   "id": "4e187460",
   "metadata": {
    "scrolled": true
   },
   "outputs": [
    {
     "data": {
      "text/plain": [
       "array([1.10639682, 1.15550397, 1.19108799, 1.1278308 , 1.13799211,\n",
       "       1.20562992, 1.22571886, 1.30946676, 1.29401192, 1.2754787 ,\n",
       "       1.29055034, 1.35164439, 1.11808464, 1.15387115, 1.14641472,\n",
       "       1.20852432, 1.26136467, 1.22864774, 0.18717068])"
      ]
     },
     "execution_count": 64,
     "metadata": {},
     "output_type": "execute_result"
    }
   ],
   "source": [
    "np.std(centroids,axis=0)"
   ]
  },
  {
   "cell_type": "markdown",
   "id": "989e2003",
   "metadata": {},
   "source": [
    "Observations: \n",
    "* Even though the correct classification of N2 and N3 fragments improved, the REM stage accuracy greatly decreased.\n",
    "* Awake periods also experienced a decreased accuracy. "
   ]
  },
  {
   "cell_type": "markdown",
   "id": "9c256435",
   "metadata": {},
   "source": [
    "## Data_lobes_mean"
   ]
  },
  {
   "cell_type": "markdown",
   "id": "97459458",
   "metadata": {},
   "source": [
    "We already tried the median value and the standard deviation for the lobe analysis. Each had its strengths and weaknesses. We hope the mean value can provide information both about the skewness of the PSD and the main frequency. "
   ]
  },
  {
   "cell_type": "markdown",
   "id": "f58fcb9a",
   "metadata": {},
   "source": [
    "#### Importing the data"
   ]
  },
  {
   "cell_type": "code",
   "execution_count": 65,
   "id": "43167dc4",
   "metadata": {},
   "outputs": [],
   "source": [
    "data=pd.read_csv(\"Extracted_data/Data_medians_lobe_STD.csv\")"
   ]
  },
  {
   "cell_type": "markdown",
   "id": "f5c44eec",
   "metadata": {},
   "source": [
    "#### Adapting the data"
   ]
  },
  {
   "cell_type": "code",
   "execution_count": 66,
   "id": "09c92d3e",
   "metadata": {},
   "outputs": [],
   "source": [
    "del data['Unnamed: 0']"
   ]
  },
  {
   "cell_type": "code",
   "execution_count": 67,
   "id": "59a49dd6",
   "metadata": {},
   "outputs": [],
   "source": [
    "# 0: Awake\n",
    "# 1: N1\n",
    "# 2: N2\n",
    "# 3: N3\n",
    "# 4: REM\n",
    "\n",
    "for i in range(0,len(data)):\n",
    "    if data.iloc[i,-1]=='Awake':\n",
    "        data.iloc[i,-1]=0\n",
    "    elif data.iloc[i,-1]=='N1':\n",
    "        data.iloc[i,-1]=1\n",
    "    elif data.iloc[i,-1]=='N2':\n",
    "        data.iloc[i,-1]=2\n",
    "    elif data.iloc[i,-1]=='N3':\n",
    "        data.iloc[i,-1]=3\n",
    "    elif data.iloc[i,-1]=='REM':\n",
    "        data.iloc[i,-1]=4\n",
    "    else:\n",
    "        data.iloc[i,-1]=np.nan"
   ]
  },
  {
   "cell_type": "code",
   "execution_count": 68,
   "id": "4a04ad24",
   "metadata": {},
   "outputs": [],
   "source": [
    "data_2=data.dropna()"
   ]
  },
  {
   "cell_type": "code",
   "execution_count": 69,
   "id": "24b02841",
   "metadata": {},
   "outputs": [],
   "source": [
    "# Standardize the data\n",
    "X = StandardScaler().fit_transform(data_2.iloc[:,:25])\n",
    "\n",
    "Y=data_2.iloc[:,-1].to_numpy()\n",
    "\n",
    "X_train=X[:int(len(X)*0.9)]\n",
    "X_test=X[int(len(X)*0.9):]\n",
    "\n",
    "Y_train=Y[:int(len(X)*0.9)]\n",
    "Y_validate=Y[int(len(X)*0.9):]"
   ]
  },
  {
   "cell_type": "markdown",
   "id": "ee029b84",
   "metadata": {},
   "source": [
    "#### Defining a Kmeans model"
   ]
  },
  {
   "cell_type": "code",
   "execution_count": 70,
   "id": "e7ae3461",
   "metadata": {},
   "outputs": [],
   "source": [
    "# Run local implementation of kmeans\n",
    "model = KMeans(n_clusters=6, max_iter=100, init='random',n_init=10)"
   ]
  },
  {
   "cell_type": "code",
   "execution_count": 71,
   "id": "be14c604",
   "metadata": {
    "scrolled": true
   },
   "outputs": [
    {
     "data": {
      "text/plain": [
       "KMeans(init='random', max_iter=100, n_clusters=6)"
      ]
     },
     "execution_count": 71,
     "metadata": {},
     "output_type": "execute_result"
    }
   ],
   "source": [
    "model.fit(X_train)"
   ]
  },
  {
   "cell_type": "code",
   "execution_count": 72,
   "id": "1761dcb9",
   "metadata": {},
   "outputs": [],
   "source": [
    "#Obtaining clusters centroid\n",
    "centroids = model.cluster_centers_\n",
    "\n",
    "#To obtain the labels of each cluster\n",
    "labels = model.labels_"
   ]
  },
  {
   "cell_type": "markdown",
   "id": "155f07a2",
   "metadata": {},
   "source": [
    "#### Train values"
   ]
  },
  {
   "cell_type": "code",
   "execution_count": 73,
   "id": "36fd747a",
   "metadata": {},
   "outputs": [],
   "source": [
    "#Obtaining clusters centroid\n",
    "centroids = model.cluster_centers_\n",
    "\n",
    "#To obtain the labels of each cluster\n",
    "labels = model.labels_"
   ]
  },
  {
   "cell_type": "code",
   "execution_count": 74,
   "id": "89330af7",
   "metadata": {
    "scrolled": true
   },
   "outputs": [
    {
     "data": {
      "image/png": "[encoded data removed]",
      "text/plain": [
       "<Figure size 432x288 with 2 Axes>"
      ]
     },
     "metadata": {
      "needs_background": "light"
     },
     "output_type": "display_data"
    }
   ],
   "source": [
    "confusion_matrix = pd.crosstab(Y_train, labels, rownames=['Actual'], colnames=['Predicted'])\n",
    "\n",
    "sns.heatmap(confusion_matrix, annot=True, cmap=\"Blues\")\n",
    "plt.show()"
   ]
  },
  {
   "cell_type": "markdown",
   "id": "ca15fadf",
   "metadata": {},
   "source": [
    "#### Test values"
   ]
  },
  {
   "cell_type": "code",
   "execution_count": 75,
   "id": "0e64b0af",
   "metadata": {},
   "outputs": [],
   "source": [
    "y_pred=model.predict(X_test)"
   ]
  },
  {
   "cell_type": "code",
   "execution_count": 76,
   "id": "55222bf7",
   "metadata": {
    "scrolled": true
   },
   "outputs": [
    {
     "data": {
      "image/png": "[encoded data removed]",
      "text/plain": [
       "<Figure size 432x288 with 2 Axes>"
      ]
     },
     "metadata": {
      "needs_background": "light"
     },
     "output_type": "display_data"
    }
   ],
   "source": [
    "confusion_matrix = pd.crosstab(Y_test, y_pred, rownames=['Actual'], colnames=['Predicted'])\n",
    "\n",
    "sns.heatmap(confusion_matrix, annot=True, cmap=\"Blues\")\n",
    "plt.show()"
   ]
  },
  {
   "cell_type": "markdown",
   "id": "c20a3e83",
   "metadata": {},
   "source": [
    "Observations:\n",
    "* Somehow we have worse results than with the median and with the STD.\n",
    "* Maybe the best parameter group includes both the median and the STD, but with a generalized version of parameters. "
   ]
  },
  {
   "cell_type": "markdown",
   "id": "d78504ff",
   "metadata": {},
   "source": [
    "## Data_lobes_std+medians"
   ]
  },
  {
   "cell_type": "markdown",
   "id": "3db85b5e",
   "metadata": {},
   "source": [
    "Now we will try to use the two best parameter groups and hope the algorithm won't be over-adjusted to the data. "
   ]
  },
  {
   "cell_type": "markdown",
   "id": "431aab69",
   "metadata": {},
   "source": [
    "#### Importing the data"
   ]
  },
  {
   "cell_type": "code",
   "execution_count": 78,
   "id": "b38ac16d",
   "metadata": {},
   "outputs": [],
   "source": [
    "data=pd.read_csv(\"Extracted_data/Data_medians_4.csv\")"
   ]
  },
  {
   "cell_type": "markdown",
   "id": "154deaf5",
   "metadata": {},
   "source": [
    "#### Adapting the data"
   ]
  },
  {
   "cell_type": "code",
   "execution_count": 79,
   "id": "818330f3",
   "metadata": {},
   "outputs": [],
   "source": [
    "del data['Unnamed: 0']"
   ]
  },
  {
   "cell_type": "code",
   "execution_count": 80,
   "id": "815f018f",
   "metadata": {},
   "outputs": [],
   "source": [
    "del data['38']"
   ]
  },
  {
   "cell_type": "code",
   "execution_count": 81,
   "id": "36d77567",
   "metadata": {},
   "outputs": [],
   "source": [
    "# 0: Awake\n",
    "# 1: N1\n",
    "# 2: N2\n",
    "# 3: N3\n",
    "# 4: REM\n",
    "\n",
    "for i in range(0,len(data)):\n",
    "    if data.iloc[i,-1]=='Awake':\n",
    "        data.iloc[i,-1]=0\n",
    "    elif data.iloc[i,-1]=='N1':\n",
    "        data.iloc[i,-1]=1\n",
    "    elif data.iloc[i,-1]=='N2':\n",
    "        data.iloc[i,-1]=2\n",
    "    elif data.iloc[i,-1]=='N3':\n",
    "        data.iloc[i,-1]=3\n",
    "    elif data.iloc[i,-1]=='REM':\n",
    "        data.iloc[i,-1]=4\n",
    "    else:\n",
    "        data.iloc[i,-1]=np.nan"
   ]
  },
  {
   "cell_type": "code",
   "execution_count": 82,
   "id": "7819618f",
   "metadata": {},
   "outputs": [],
   "source": [
    "data_2=data.dropna()"
   ]
  },
  {
   "cell_type": "code",
   "execution_count": 83,
   "id": "33384343",
   "metadata": {},
   "outputs": [],
   "source": [
    "# Standardize the data\n",
    "X = StandardScaler().fit_transform(data_2.iloc[:,:17])\n",
    "\n",
    "Y=data_2.iloc[:,-1].to_numpy()\n",
    "\n",
    "X_train=X[:int(len(X)*0.85)]\n",
    "X_test=X[int(len(X)*0.85):]\n",
    "\n",
    "Y_train=Y[:int(len(X)*0.85)]\n",
    "Y_test=Y[int(len(X)*0.85):]"
   ]
  },
  {
   "cell_type": "markdown",
   "id": "c2bc5fb3",
   "metadata": {},
   "source": [
    "#### Defining a Kmeans model"
   ]
  },
  {
   "cell_type": "code",
   "execution_count": 84,
   "id": "44824daa",
   "metadata": {},
   "outputs": [],
   "source": [
    "# Run local implementation of kmeans\n",
    "model = KMeans(n_clusters=6, max_iter=100, init='random',n_init=10)"
   ]
  },
  {
   "cell_type": "code",
   "execution_count": 85,
   "id": "731ed8aa",
   "metadata": {},
   "outputs": [
    {
     "data": {
      "text/plain": [
       "KMeans(init='random', max_iter=100, n_clusters=6)"
      ]
     },
     "execution_count": 85,
     "metadata": {},
     "output_type": "execute_result"
    }
   ],
   "source": [
    "model.fit(X_train)"
   ]
  },
  {
   "cell_type": "code",
   "execution_count": 86,
   "id": "891605be",
   "metadata": {},
   "outputs": [],
   "source": [
    "#Obtaining clusters centroid\n",
    "centroids = model.cluster_centers_\n",
    "\n",
    "#To obtain the labels of each cluster\n",
    "labels = model.labels_"
   ]
  },
  {
   "cell_type": "markdown",
   "id": "db3f1dac",
   "metadata": {},
   "source": [
    "#### Train values"
   ]
  },
  {
   "cell_type": "code",
   "execution_count": 87,
   "id": "88ba8269",
   "metadata": {},
   "outputs": [],
   "source": [
    "y_pred=model.predict(X_train)"
   ]
  },
  {
   "cell_type": "code",
   "execution_count": 88,
   "id": "f550eed8",
   "metadata": {},
   "outputs": [
    {
     "data": {
      "text/plain": [
       "(157,)"
      ]
     },
     "execution_count": 88,
     "metadata": {},
     "output_type": "execute_result"
    }
   ],
   "source": [
    "np.shape(Y)"
   ]
  },
  {
   "cell_type": "code",
   "execution_count": 89,
   "id": "30d0c07b",
   "metadata": {
    "scrolled": true
   },
   "outputs": [
    {
     "data": {
      "image/png": "[encoded data removed]",
      "text/plain": [
       "<Figure size 432x288 with 2 Axes>"
      ]
     },
     "metadata": {
      "needs_background": "light"
     },
     "output_type": "display_data"
    }
   ],
   "source": [
    "confusion_matrix = pd.crosstab(Y_train, y_pred, rownames=['Actual'], colnames=['Predicted'])\n",
    "\n",
    "sns.heatmap(confusion_matrix, annot=True, cmap=\"Blues\")\n",
    "plt.show()"
   ]
  },
  {
   "cell_type": "code",
   "execution_count": 90,
   "id": "0e8a5d79",
   "metadata": {},
   "outputs": [
    {
     "data": {
      "text/plain": [
       "(6, 17)"
      ]
     },
     "execution_count": 90,
     "metadata": {},
     "output_type": "execute_result"
    }
   ],
   "source": [
    "np.shape(centroids)"
   ]
  },
  {
   "cell_type": "code",
   "execution_count": 91,
   "id": "ec3d6745",
   "metadata": {
    "scrolled": true
   },
   "outputs": [
    {
     "data": {
      "text/plain": [
       "array([1.31508141, 1.44789848, 1.4518577 , 1.50542897, 1.74182931,\n",
       "       1.68103272, 1.43457101, 1.64228555, 1.57416316, 1.62400309,\n",
       "       1.85653065, 1.81386237, 1.35501158, 1.47113136, 1.41265323,\n",
       "       1.41818002, 1.65714423])"
      ]
     },
     "execution_count": 91,
     "metadata": {},
     "output_type": "execute_result"
    }
   ],
   "source": [
    "np.std(centroids,axis=0)"
   ]
  },
  {
   "cell_type": "markdown",
   "id": "8f6c7eb2",
   "metadata": {},
   "source": [
    "#### Test values"
   ]
  },
  {
   "cell_type": "code",
   "execution_count": 92,
   "id": "508c3c5a",
   "metadata": {},
   "outputs": [],
   "source": [
    "y_pred=model.predict(X_test)"
   ]
  },
  {
   "cell_type": "code",
   "execution_count": 93,
   "id": "babfad58",
   "metadata": {
    "scrolled": true
   },
   "outputs": [
    {
     "data": {
      "image/png": "[encoded data removed]",
      "text/plain": [
       "<Figure size 432x288 with 2 Axes>"
      ]
     },
     "metadata": {
      "needs_background": "light"
     },
     "output_type": "display_data"
    }
   ],
   "source": [
    "confusion_matrix = pd.crosstab(Y_test, y_pred, rownames=['Actual'], colnames=['Predicted'])\n",
    "\n",
    "sns.heatmap(confusion_matrix, annot=True, cmap=\"Blues\")\n",
    "plt.show()"
   ]
  },
  {
   "cell_type": "markdown",
   "id": "b90325ab",
   "metadata": {},
   "source": [
    "## Keras"
   ]
  },
  {
   "cell_type": "code",
   "execution_count": 94,
   "id": "f7036d42",
   "metadata": {},
   "outputs": [],
   "source": [
    "from sklearn.neighbors import KNeighborsClassifier"
   ]
  },
  {
   "cell_type": "markdown",
   "id": "a551fbf3",
   "metadata": {},
   "source": [
    "The following series of experiments take means and standard deviations of the 6 main areas: Frontal, left temporal, right temporal, central, parietal, and occipital. 10-second segments were taken that were not on the border of a sleep stage. A PSD was obtained for each segment and each electrode. The first three quintiles were calculated for each PSD (ie when the area under the curve corresponded to 20%, 40%, and 60% of the total area). Finally, the average of each quintile was obtained for each area and all the segments of the same sleep phase, as well as the standard deviation.\n",
    "\n",
    "Finally, the activity and mobility of each stage were calculated. These two values are two of the Hjorth parameters and are calculated as:\n",
    "\n",
    "Activity $\\rightarrow A=\\sigma_0^2$\n",
    "\n",
    "Mobility $\\rightarrow M=\\frac{\\sigma_1}{\\sigma_0}$\n",
    "\n",
    "Where $\\sigma_i$ represents the variance of the ith derivative of the EEG recording. That is, $\\sigma_0$ is the variance of the raw EEG values. For the Hjorth parameters, all available electrodes were collapsed."
   ]
  },
  {
   "cell_type": "code",
   "execution_count": 128,
   "id": "5c8d8395",
   "metadata": {},
   "outputs": [],
   "source": [
    "data=pd.read_csv(\"Extracted_data/Data_medians_4.csv\")\n",
    "del data['Unnamed: 0']\n",
    "del data['38']"
   ]
  },
  {
   "cell_type": "code",
   "execution_count": 129,
   "id": "e3fd011c",
   "metadata": {},
   "outputs": [],
   "source": [
    "for i in range(0,len(data)):\n",
    "    if data.iloc[i,-1]!='Awake':\n",
    "        if data.iloc[i,-1]!='N1':\n",
    "            if data.iloc[i,-1]!='N2':\n",
    "                if data.iloc[i,-1]!='N3':\n",
    "                    if data.iloc[i,-1]!='REM':\n",
    "                        data.iloc[i,-1]=np.nan"
   ]
  },
  {
   "cell_type": "code",
   "execution_count": 130,
   "id": "9dc32cc1",
   "metadata": {},
   "outputs": [
    {
     "data": {
      "text/html": [
       "<div>\n",
       "<style scoped>\n",
       "    .dataframe tbody tr th:only-of-type {\n",
       "        vertical-align: middle;\n",
       "    }\n",
       "\n",
       "    .dataframe tbody tr th {\n",
       "        vertical-align: top;\n",
       "    }\n",
       "\n",
       "    .dataframe thead th {\n",
       "        text-align: right;\n",
       "    }\n",
       "</style>\n",
       "<table border=\"1\" class=\"dataframe\">\n",
       "  <thead>\n",
       "    <tr style=\"text-align: right;\">\n",
       "      <th></th>\n",
       "      <th>0</th>\n",
       "      <th>1</th>\n",
       "      <th>2</th>\n",
       "      <th>3</th>\n",
       "      <th>4</th>\n",
       "      <th>5</th>\n",
       "      <th>6</th>\n",
       "      <th>7</th>\n",
       "      <th>8</th>\n",
       "      <th>9</th>\n",
       "      <th>...</th>\n",
       "      <th>29</th>\n",
       "      <th>30</th>\n",
       "      <th>31</th>\n",
       "      <th>32</th>\n",
       "      <th>33</th>\n",
       "      <th>34</th>\n",
       "      <th>35</th>\n",
       "      <th>36</th>\n",
       "      <th>37</th>\n",
       "      <th>39</th>\n",
       "    </tr>\n",
       "  </thead>\n",
       "  <tbody>\n",
       "    <tr>\n",
       "      <th>0</th>\n",
       "      <td>19.911429</td>\n",
       "      <td>21.826667</td>\n",
       "      <td>19.901111</td>\n",
       "      <td>19.076667</td>\n",
       "      <td>21.918889</td>\n",
       "      <td>14.850000</td>\n",
       "      <td>58.638571</td>\n",
       "      <td>60.644444</td>\n",
       "      <td>61.956667</td>\n",
       "      <td>57.580000</td>\n",
       "      <td>...</td>\n",
       "      <td>210.934721</td>\n",
       "      <td>627.235043</td>\n",
       "      <td>648.175431</td>\n",
       "      <td>626.022091</td>\n",
       "      <td>643.377231</td>\n",
       "      <td>540.470154</td>\n",
       "      <td>495.039453</td>\n",
       "      <td>4.422272e+07</td>\n",
       "      <td>0.001152</td>\n",
       "      <td>Awake</td>\n",
       "    </tr>\n",
       "    <tr>\n",
       "      <th>1</th>\n",
       "      <td>40.660000</td>\n",
       "      <td>35.816667</td>\n",
       "      <td>38.405556</td>\n",
       "      <td>42.591111</td>\n",
       "      <td>40.958889</td>\n",
       "      <td>37.191667</td>\n",
       "      <td>148.707143</td>\n",
       "      <td>114.740000</td>\n",
       "      <td>116.255556</td>\n",
       "      <td>180.642222</td>\n",
       "      <td>...</td>\n",
       "      <td>601.949326</td>\n",
       "      <td>2122.510839</td>\n",
       "      <td>1710.063114</td>\n",
       "      <td>1684.448166</td>\n",
       "      <td>3062.885569</td>\n",
       "      <td>2100.222584</td>\n",
       "      <td>1750.616297</td>\n",
       "      <td>2.508360e+06</td>\n",
       "      <td>0.002201</td>\n",
       "      <td>N2</td>\n",
       "    </tr>\n",
       "    <tr>\n",
       "      <th>2</th>\n",
       "      <td>28.203333</td>\n",
       "      <td>24.951111</td>\n",
       "      <td>25.603333</td>\n",
       "      <td>33.302222</td>\n",
       "      <td>28.286667</td>\n",
       "      <td>24.416667</td>\n",
       "      <td>104.157619</td>\n",
       "      <td>78.117778</td>\n",
       "      <td>77.450000</td>\n",
       "      <td>141.416667</td>\n",
       "      <td>...</td>\n",
       "      <td>395.701329</td>\n",
       "      <td>1433.984345</td>\n",
       "      <td>1147.643210</td>\n",
       "      <td>1131.199674</td>\n",
       "      <td>2268.983257</td>\n",
       "      <td>1375.903119</td>\n",
       "      <td>1170.567469</td>\n",
       "      <td>1.469640e+06</td>\n",
       "      <td>0.001673</td>\n",
       "      <td>REM</td>\n",
       "    </tr>\n",
       "    <tr>\n",
       "      <th>3</th>\n",
       "      <td>18.286190</td>\n",
       "      <td>16.575556</td>\n",
       "      <td>17.173333</td>\n",
       "      <td>22.212222</td>\n",
       "      <td>18.586667</td>\n",
       "      <td>15.928333</td>\n",
       "      <td>72.619048</td>\n",
       "      <td>55.015556</td>\n",
       "      <td>55.386667</td>\n",
       "      <td>98.113333</td>\n",
       "      <td>...</td>\n",
       "      <td>258.530174</td>\n",
       "      <td>951.861362</td>\n",
       "      <td>774.702891</td>\n",
       "      <td>776.389821</td>\n",
       "      <td>1493.072896</td>\n",
       "      <td>943.001124</td>\n",
       "      <td>787.208156</td>\n",
       "      <td>5.040967e+06</td>\n",
       "      <td>0.002785</td>\n",
       "      <td>N2</td>\n",
       "    </tr>\n",
       "    <tr>\n",
       "      <th>4</th>\n",
       "      <td>11.339524</td>\n",
       "      <td>10.327778</td>\n",
       "      <td>11.073333</td>\n",
       "      <td>9.653333</td>\n",
       "      <td>12.070000</td>\n",
       "      <td>10.046667</td>\n",
       "      <td>42.745238</td>\n",
       "      <td>33.640000</td>\n",
       "      <td>34.700000</td>\n",
       "      <td>37.300000</td>\n",
       "      <td>...</td>\n",
       "      <td>156.242749</td>\n",
       "      <td>587.817203</td>\n",
       "      <td>465.337699</td>\n",
       "      <td>467.104798</td>\n",
       "      <td>546.078070</td>\n",
       "      <td>612.918988</td>\n",
       "      <td>465.555425</td>\n",
       "      <td>9.224363e+06</td>\n",
       "      <td>0.001658</td>\n",
       "      <td>N3</td>\n",
       "    </tr>\n",
       "    <tr>\n",
       "      <th>...</th>\n",
       "      <td>...</td>\n",
       "      <td>...</td>\n",
       "      <td>...</td>\n",
       "      <td>...</td>\n",
       "      <td>...</td>\n",
       "      <td>...</td>\n",
       "      <td>...</td>\n",
       "      <td>...</td>\n",
       "      <td>...</td>\n",
       "      <td>...</td>\n",
       "      <td>...</td>\n",
       "      <td>...</td>\n",
       "      <td>...</td>\n",
       "      <td>...</td>\n",
       "      <td>...</td>\n",
       "      <td>...</td>\n",
       "      <td>...</td>\n",
       "      <td>...</td>\n",
       "      <td>...</td>\n",
       "      <td>...</td>\n",
       "      <td>...</td>\n",
       "    </tr>\n",
       "    <tr>\n",
       "      <th>160</th>\n",
       "      <td>23.572857</td>\n",
       "      <td>21.060000</td>\n",
       "      <td>22.835556</td>\n",
       "      <td>24.652222</td>\n",
       "      <td>19.970000</td>\n",
       "      <td>18.556667</td>\n",
       "      <td>62.023810</td>\n",
       "      <td>55.311111</td>\n",
       "      <td>62.484444</td>\n",
       "      <td>65.027778</td>\n",
       "      <td>...</td>\n",
       "      <td>233.876713</td>\n",
       "      <td>956.606279</td>\n",
       "      <td>901.840306</td>\n",
       "      <td>1079.626406</td>\n",
       "      <td>1000.445620</td>\n",
       "      <td>627.724242</td>\n",
       "      <td>663.898963</td>\n",
       "      <td>1.033058e+05</td>\n",
       "      <td>0.000996</td>\n",
       "      <td>REM</td>\n",
       "    </tr>\n",
       "    <tr>\n",
       "      <th>161</th>\n",
       "      <td>18.736190</td>\n",
       "      <td>16.664444</td>\n",
       "      <td>17.992222</td>\n",
       "      <td>19.476667</td>\n",
       "      <td>16.011111</td>\n",
       "      <td>14.800000</td>\n",
       "      <td>47.885238</td>\n",
       "      <td>42.373333</td>\n",
       "      <td>47.960000</td>\n",
       "      <td>49.993333</td>\n",
       "      <td>...</td>\n",
       "      <td>179.285611</td>\n",
       "      <td>731.916047</td>\n",
       "      <td>694.028468</td>\n",
       "      <td>835.901439</td>\n",
       "      <td>759.237127</td>\n",
       "      <td>474.306587</td>\n",
       "      <td>509.926345</td>\n",
       "      <td>3.701008e+04</td>\n",
       "      <td>0.000528</td>\n",
       "      <td>N1</td>\n",
       "    </tr>\n",
       "    <tr>\n",
       "      <th>162</th>\n",
       "      <td>14.926190</td>\n",
       "      <td>13.685556</td>\n",
       "      <td>14.278889</td>\n",
       "      <td>15.434444</td>\n",
       "      <td>12.957778</td>\n",
       "      <td>11.726667</td>\n",
       "      <td>37.418571</td>\n",
       "      <td>33.524444</td>\n",
       "      <td>37.350000</td>\n",
       "      <td>38.766667</td>\n",
       "      <td>...</td>\n",
       "      <td>137.755238</td>\n",
       "      <td>558.178258</td>\n",
       "      <td>505.701924</td>\n",
       "      <td>648.375509</td>\n",
       "      <td>566.989604</td>\n",
       "      <td>363.330987</td>\n",
       "      <td>390.608436</td>\n",
       "      <td>9.521701e+04</td>\n",
       "      <td>0.000363</td>\n",
       "      <td>N2</td>\n",
       "    </tr>\n",
       "    <tr>\n",
       "      <th>163</th>\n",
       "      <td>10.816190</td>\n",
       "      <td>9.702222</td>\n",
       "      <td>10.213333</td>\n",
       "      <td>10.985556</td>\n",
       "      <td>9.072222</td>\n",
       "      <td>8.145000</td>\n",
       "      <td>27.838095</td>\n",
       "      <td>24.458889</td>\n",
       "      <td>27.936667</td>\n",
       "      <td>28.534444</td>\n",
       "      <td>...</td>\n",
       "      <td>99.599288</td>\n",
       "      <td>449.385031</td>\n",
       "      <td>411.347601</td>\n",
       "      <td>560.246779</td>\n",
       "      <td>459.417619</td>\n",
       "      <td>270.892424</td>\n",
       "      <td>296.452757</td>\n",
       "      <td>6.754039e+06</td>\n",
       "      <td>0.000063</td>\n",
       "      <td>N3</td>\n",
       "    </tr>\n",
       "    <tr>\n",
       "      <th>164</th>\n",
       "      <td>4.886190</td>\n",
       "      <td>4.464444</td>\n",
       "      <td>4.621111</td>\n",
       "      <td>4.972222</td>\n",
       "      <td>4.191111</td>\n",
       "      <td>3.780000</td>\n",
       "      <td>12.803333</td>\n",
       "      <td>12.212222</td>\n",
       "      <td>13.241111</td>\n",
       "      <td>14.298889</td>\n",
       "      <td>...</td>\n",
       "      <td>41.261791</td>\n",
       "      <td>165.142991</td>\n",
       "      <td>188.748088</td>\n",
       "      <td>225.965814</td>\n",
       "      <td>206.167366</td>\n",
       "      <td>122.058242</td>\n",
       "      <td>109.744217</td>\n",
       "      <td>2.577399e+06</td>\n",
       "      <td>0.000092</td>\n",
       "      <td>N2</td>\n",
       "    </tr>\n",
       "  </tbody>\n",
       "</table>\n",
       "<p>165 rows × 39 columns</p>\n",
       "</div>"
      ],
      "text/plain": [
       "             0          1          2          3          4          5  \\\n",
       "0    19.911429  21.826667  19.901111  19.076667  21.918889  14.850000   \n",
       "1    40.660000  35.816667  38.405556  42.591111  40.958889  37.191667   \n",
       "2    28.203333  24.951111  25.603333  33.302222  28.286667  24.416667   \n",
       "3    18.286190  16.575556  17.173333  22.212222  18.586667  15.928333   \n",
       "4    11.339524  10.327778  11.073333   9.653333  12.070000  10.046667   \n",
       "..         ...        ...        ...        ...        ...        ...   \n",
       "160  23.572857  21.060000  22.835556  24.652222  19.970000  18.556667   \n",
       "161  18.736190  16.664444  17.992222  19.476667  16.011111  14.800000   \n",
       "162  14.926190  13.685556  14.278889  15.434444  12.957778  11.726667   \n",
       "163  10.816190   9.702222  10.213333  10.985556   9.072222   8.145000   \n",
       "164   4.886190   4.464444   4.621111   4.972222   4.191111   3.780000   \n",
       "\n",
       "              6           7           8           9  ...          29  \\\n",
       "0     58.638571   60.644444   61.956667   57.580000  ...  210.934721   \n",
       "1    148.707143  114.740000  116.255556  180.642222  ...  601.949326   \n",
       "2    104.157619   78.117778   77.450000  141.416667  ...  395.701329   \n",
       "3     72.619048   55.015556   55.386667   98.113333  ...  258.530174   \n",
       "4     42.745238   33.640000   34.700000   37.300000  ...  156.242749   \n",
       "..          ...         ...         ...         ...  ...         ...   \n",
       "160   62.023810   55.311111   62.484444   65.027778  ...  233.876713   \n",
       "161   47.885238   42.373333   47.960000   49.993333  ...  179.285611   \n",
       "162   37.418571   33.524444   37.350000   38.766667  ...  137.755238   \n",
       "163   27.838095   24.458889   27.936667   28.534444  ...   99.599288   \n",
       "164   12.803333   12.212222   13.241111   14.298889  ...   41.261791   \n",
       "\n",
       "              30           31           32           33           34  \\\n",
       "0     627.235043   648.175431   626.022091   643.377231   540.470154   \n",
       "1    2122.510839  1710.063114  1684.448166  3062.885569  2100.222584   \n",
       "2    1433.984345  1147.643210  1131.199674  2268.983257  1375.903119   \n",
       "3     951.861362   774.702891   776.389821  1493.072896   943.001124   \n",
       "4     587.817203   465.337699   467.104798   546.078070   612.918988   \n",
       "..           ...          ...          ...          ...          ...   \n",
       "160   956.606279   901.840306  1079.626406  1000.445620   627.724242   \n",
       "161   731.916047   694.028468   835.901439   759.237127   474.306587   \n",
       "162   558.178258   505.701924   648.375509   566.989604   363.330987   \n",
       "163   449.385031   411.347601   560.246779   459.417619   270.892424   \n",
       "164   165.142991   188.748088   225.965814   206.167366   122.058242   \n",
       "\n",
       "              35            36        37     39  \n",
       "0     495.039453  4.422272e+07  0.001152  Awake  \n",
       "1    1750.616297  2.508360e+06  0.002201     N2  \n",
       "2    1170.567469  1.469640e+06  0.001673    REM  \n",
       "3     787.208156  5.040967e+06  0.002785     N2  \n",
       "4     465.555425  9.224363e+06  0.001658     N3  \n",
       "..           ...           ...       ...    ...  \n",
       "160   663.898963  1.033058e+05  0.000996    REM  \n",
       "161   509.926345  3.701008e+04  0.000528     N1  \n",
       "162   390.608436  9.521701e+04  0.000363     N2  \n",
       "163   296.452757  6.754039e+06  0.000063     N3  \n",
       "164   109.744217  2.577399e+06  0.000092     N2  \n",
       "\n",
       "[165 rows x 39 columns]"
      ]
     },
     "execution_count": 130,
     "metadata": {},
     "output_type": "execute_result"
    }
   ],
   "source": [
    "data"
   ]
  },
  {
   "cell_type": "code",
   "execution_count": 131,
   "id": "30f833ca",
   "metadata": {},
   "outputs": [],
   "source": [
    "data_2=data.dropna()"
   ]
  },
  {
   "cell_type": "code",
   "execution_count": 132,
   "id": "b1fb8b26",
   "metadata": {},
   "outputs": [],
   "source": [
    "# Standardize the data\n",
    "X = StandardScaler().fit_transform(data_2.iloc[:,:35])\n",
    "\n",
    "Y=data_2.iloc[:,-1].to_numpy()\n",
    "\n",
    "X_train=X[:int(len(X)*0.75)]\n",
    "X_test=X[int(len(X)*0.75):]\n",
    "\n",
    "Y_train=Y[:int(len(X)*0.75)]\n",
    "Y_test=Y[int(len(X)*0.75):]"
   ]
  },
  {
   "cell_type": "code",
   "execution_count": 102,
   "id": "358ddcfb",
   "metadata": {},
   "outputs": [],
   "source": [
    "k_neighbor=KNeighborsClassifier(5)"
   ]
  },
  {
   "cell_type": "code",
   "execution_count": 103,
   "id": "485d4c56",
   "metadata": {},
   "outputs": [
    {
     "name": "stdout",
     "output_type": "stream",
     "text": [
      "(117, 35)\n",
      "(117,)\n"
     ]
    }
   ],
   "source": [
    "print(np.shape(X_train))\n",
    "print(np.shape(Y_train))"
   ]
  },
  {
   "cell_type": "code",
   "execution_count": 104,
   "id": "b258e810",
   "metadata": {},
   "outputs": [
    {
     "data": {
      "text/plain": [
       "array(['Awake', 'N2', 'REM', 'N2', 'N3', 'REM', 'N3', 'REM', 'N2', 'N3',\n",
       "       'REM', 'Awake', 'N2', 'N2', 'N3', 'REM', 'Awake', 'N2', 'N2', 'N3',\n",
       "       'N3', 'Awake', 'REM', 'N2', 'Awake', 'N2', 'N3', 'REM', 'N3',\n",
       "       'REM', 'Awake', 'REM', 'Awake', 'Awake', 'N2', 'Awake', 'N3',\n",
       "       'Awake', 'N2', 'N3', 'REM', 'N2', 'N3', 'N2', 'N1', 'N2', 'N3',\n",
       "       'N2', 'N1', 'N3', 'N3', 'N2', 'N2', 'REM', 'N2', 'Awake', 'N3',\n",
       "       'N2', 'N3', 'N2', 'Awake', 'N2', 'N3', 'Awake', 'N2', 'Awake',\n",
       "       'REM', 'N2', 'Awake', 'N2', 'N3', 'N2', 'N3', 'N2', 'N2', 'N3',\n",
       "       'Awake', 'N1', 'Awake', 'Awake', 'N2', 'N3', 'REM', 'N2', 'N3',\n",
       "       'N2', 'Awake', 'N3', 'N2', 'N3', 'N2', 'N3', 'REM', 'N2', 'N2',\n",
       "       'N3', 'N2', 'N2', 'REM', 'N3', 'REM', 'N2', 'Awake', 'N2', 'N3',\n",
       "       'N2', 'N3', 'N2', 'N3', 'REM', 'Awake', 'N2', 'N3', 'REM', 'N3',\n",
       "       'REM', 'N2'], dtype=object)"
      ]
     },
     "execution_count": 104,
     "metadata": {},
     "output_type": "execute_result"
    }
   ],
   "source": [
    "Y_train"
   ]
  },
  {
   "cell_type": "code",
   "execution_count": 105,
   "id": "9f71177c",
   "metadata": {},
   "outputs": [
    {
     "data": {
      "text/plain": [
       "KNeighborsClassifier()"
      ]
     },
     "execution_count": 105,
     "metadata": {},
     "output_type": "execute_result"
    }
   ],
   "source": [
    "k_neighbor.fit(X_train,Y_train)"
   ]
  },
  {
   "cell_type": "code",
   "execution_count": 106,
   "id": "0e6acc02",
   "metadata": {},
   "outputs": [],
   "source": [
    "y_pred=k_neighbor.predict(X_train)"
   ]
  },
  {
   "cell_type": "code",
   "execution_count": 107,
   "id": "b173eea0",
   "metadata": {},
   "outputs": [
    {
     "data": {
      "image/png": "[encoded data removed]",
      "text/plain": [
       "<Figure size 432x288 with 2 Axes>"
      ]
     },
     "metadata": {
      "needs_background": "light"
     },
     "output_type": "display_data"
    }
   ],
   "source": [
    "confusion_matrix = pd.crosstab(Y_train, y_pred, rownames=['Actual'], colnames=['Predicted'])\n",
    "\n",
    "sns.heatmap(confusion_matrix, annot=True, cmap=\"Blues\")\n",
    "plt.show()"
   ]
  },
  {
   "cell_type": "code",
   "execution_count": 108,
   "id": "4cf2af8a",
   "metadata": {},
   "outputs": [
    {
     "data": {
      "text/plain": [
       "0.4188034188034188"
      ]
     },
     "execution_count": 108,
     "metadata": {},
     "output_type": "execute_result"
    }
   ],
   "source": [
    "sum(confusion_matrix.iloc[i,i] for i in range(0,len(confusion_matrix)))/len(Y_train)"
   ]
  },
  {
   "cell_type": "code",
   "execution_count": 109,
   "id": "231380ac",
   "metadata": {},
   "outputs": [],
   "source": [
    "y_pred=k_neighbor.predict(X_test)"
   ]
  },
  {
   "cell_type": "code",
   "execution_count": 110,
   "id": "05f8fd8b",
   "metadata": {},
   "outputs": [
    {
     "data": {
      "image/png": "[encoded data removed]",
      "text/plain": [
       "<Figure size 432x288 with 2 Axes>"
      ]
     },
     "metadata": {
      "needs_background": "light"
     },
     "output_type": "display_data"
    }
   ],
   "source": [
    "confusion_matrix = pd.crosstab(Y_test, y_pred, rownames=['Actual'], colnames=['Predicted'])\n",
    "\n",
    "sns.heatmap(confusion_matrix, annot=True, cmap=\"Blues\")\n",
    "plt.show()"
   ]
  },
  {
   "cell_type": "code",
   "execution_count": 111,
   "id": "1f53e814",
   "metadata": {},
   "outputs": [
    {
     "data": {
      "text/plain": [
       "0.325"
      ]
     },
     "execution_count": 111,
     "metadata": {},
     "output_type": "execute_result"
    }
   ],
   "source": [
    "sum(confusion_matrix.iloc[i,i] for i in range(0,len(confusion_matrix)))/len(Y_test)"
   ]
  },
  {
   "cell_type": "markdown",
   "id": "cd972c45",
   "metadata": {},
   "source": [
    "## Comparison between sections"
   ]
  },
  {
   "cell_type": "markdown",
   "id": "4e7fac5e",
   "metadata": {},
   "source": [
    "From the last lesson, we learned that epileptic attacks occur mostly in the N2 and N3 sleep stages. So now we will try to split the sub-segments of each stage into two clusters. We expect that, with the correct set of parameters, one of the clusters will correspond to epileptic seizures and the other will correspond to normal recordings.  \n",
    "\n",
    "Please note that this classification can't be evaluated and validated because there are no markings that allow us to compare the results to a gold standard. "
   ]
  },
  {
   "cell_type": "markdown",
   "id": "8b397efe",
   "metadata": {},
   "source": [
    "### N2"
   ]
  },
  {
   "cell_type": "code",
   "execution_count": 112,
   "id": "a17936c2",
   "metadata": {},
   "outputs": [],
   "source": [
    "data_c=data"
   ]
  },
  {
   "cell_type": "code",
   "execution_count": 113,
   "id": "822aa293",
   "metadata": {},
   "outputs": [],
   "source": [
    "for i in range(0,len(data)):\n",
    "    if data.iloc[i,-1]!=\"N2\":\n",
    "        data_c.iloc[i,-1]=np.nan"
   ]
  },
  {
   "cell_type": "code",
   "execution_count": 114,
   "id": "d674ddea",
   "metadata": {},
   "outputs": [],
   "source": [
    "data_c=data_c.dropna()"
   ]
  },
  {
   "cell_type": "code",
   "execution_count": 115,
   "id": "bc9e64e7",
   "metadata": {},
   "outputs": [],
   "source": [
    "# Standardize the data\n",
    "X = StandardScaler().fit_transform(data_c.iloc[:,:37])\n",
    "\n",
    "X_train=X[:int(len(X)*0.75)]"
   ]
  },
  {
   "cell_type": "code",
   "execution_count": 116,
   "id": "2ec541e7",
   "metadata": {},
   "outputs": [],
   "source": [
    "# Run local implementation of kmeans\n",
    "model = KMeans(n_clusters=2, max_iter=100, init='random',n_init=10)"
   ]
  },
  {
   "cell_type": "code",
   "execution_count": 117,
   "id": "e7b7cb66",
   "metadata": {},
   "outputs": [
    {
     "data": {
      "text/plain": [
       "KMeans(init='random', max_iter=100, n_clusters=2)"
      ]
     },
     "execution_count": 117,
     "metadata": {},
     "output_type": "execute_result"
    }
   ],
   "source": [
    "model.fit(X)"
   ]
  },
  {
   "cell_type": "code",
   "execution_count": 118,
   "id": "0f52d7f6",
   "metadata": {},
   "outputs": [],
   "source": [
    "#Obtaining clusters centroid\n",
    "centroids = model.cluster_centers_"
   ]
  },
  {
   "cell_type": "code",
   "execution_count": 119,
   "id": "bf42c55a",
   "metadata": {},
   "outputs": [
    {
     "data": {
      "text/plain": [
       "array([[-0.61783467, -0.62070957, -0.61891999, -0.62231813, -0.59319319,\n",
       "        -0.58682692, -0.58719187, -0.59447495, -0.57491152, -0.58687597,\n",
       "        -0.55478317, -0.55559992, -0.54025856, -0.6013481 , -0.56503859,\n",
       "        -0.55747612, -0.56713299, -0.56355206, -0.61688024, -0.62213048,\n",
       "        -0.62049631, -0.6234374 , -0.59625971, -0.59148912, -0.58258563,\n",
       "        -0.59645084, -0.57565797, -0.58404583, -0.5579193 , -0.56066686,\n",
       "        -0.52861544, -0.60169546, -0.55909407, -0.55051283, -0.56889795,\n",
       "        -0.56726235,  0.03406   ],\n",
       "       [ 1.11210241,  1.11727723,  1.11405598,  1.12017263,  1.06774773,\n",
       "         1.05628846,  1.05694536,  1.07005492,  1.03484073,  1.05637674,\n",
       "         0.99860971,  1.00007986,  0.9724654 ,  1.08242657,  1.01706945,\n",
       "         1.00345702,  1.02083938,  1.0143937 ,  1.11038443,  1.11983486,\n",
       "         1.11689335,  1.12218731,  1.07326748,  1.06468042,  1.04865413,\n",
       "         1.07361151,  1.03618435,  1.0512825 ,  1.00425474,  1.00920034,\n",
       "         0.95150778,  1.08305183,  1.00636933,  0.99092309,  1.02401631,\n",
       "         1.02107224, -0.06130801]])"
      ]
     },
     "execution_count": 119,
     "metadata": {},
     "output_type": "execute_result"
    }
   ],
   "source": [
    "centroids"
   ]
  },
  {
   "cell_type": "code",
   "execution_count": 120,
   "id": "23dbc20f",
   "metadata": {},
   "outputs": [
    {
     "data": {
      "text/plain": [
       "array([-1.72993707, -1.7379868 , -1.73297596, -1.74249076, -1.66094092,\n",
       "       -1.64311539, -1.64413722, -1.66452987, -1.60975225, -1.64325271,\n",
       "       -1.55339288, -1.55567978, -1.51272396, -1.68377467, -1.58210804,\n",
       "       -1.56093315, -1.58797237, -1.57794576, -1.72726467, -1.74196534,\n",
       "       -1.73738966, -1.74562471, -1.66952719, -1.65616955, -1.63123976,\n",
       "       -1.67006235, -1.61184232, -1.63532833, -1.56217404, -1.5698672 ,\n",
       "       -1.48012322, -1.68474729, -1.56546341, -1.54143592, -1.59291426,\n",
       "       -1.58833459,  0.09536801])"
      ]
     },
     "execution_count": 120,
     "metadata": {},
     "output_type": "execute_result"
    }
   ],
   "source": [
    "centroids[0]-centroids[1]"
   ]
  },
  {
   "cell_type": "code",
   "execution_count": 121,
   "id": "ab04a4f4",
   "metadata": {},
   "outputs": [],
   "source": [
    "#To obtain the labels of each cluster\n",
    "labels = model.labels_"
   ]
  },
  {
   "cell_type": "code",
   "execution_count": 122,
   "id": "67ef1be2",
   "metadata": {
    "scrolled": false
   },
   "outputs": [
    {
     "data": {
      "text/plain": [
       "<matplotlib.legend.Legend at 0x7fa2bda879d0>"
      ]
     },
     "execution_count": 122,
     "metadata": {},
     "output_type": "execute_result"
    },
    {
     "data": {
      "image/png": "[encoded data removed]",
      "text/plain": [
       "<Figure size 720x504 with 1 Axes>"
      ]
     },
     "metadata": {
      "needs_background": "light"
     },
     "output_type": "display_data"
    }
   ],
   "source": [
    "# Creating figure\n",
    "fig = plt.figure(figsize = (10, 7))\n",
    "ax = plt.axes(projection =\"3d\")\n",
    "x=-2\n",
    "y=1\n",
    "z=30\n",
    "ax.scatter3D(X[labels>0][:,x],X[labels>0][:,y],X[labels>0][:,z],label=\"Group 1\")\n",
    "ax.scatter3D(centroids[1,x],centroids[1,y],centroids[1,0],label=\"Center 1\",marker='*')\n",
    "ax.scatter3D(X[labels<1][:,x],X[labels<1][:,y],X[labels<1][:,z],label=\"Group 2\")\n",
    "ax.scatter3D(centroids[0,x],centroids[0,y],centroids[0,z],label=\"Center 2\",marker='*')\n",
    "ax.set_ylabel(\"M\")\n",
    "ax.set_xlabel(\"Activity\")\n",
    "ax.set_zlabel(\"First frontal quintil\")\n",
    "ax.legend()\n"
   ]
  },
  {
   "cell_type": "markdown",
   "id": "2349c917",
   "metadata": {},
   "source": [
    "Observations: \n",
    "\n",
    "* The first group has the mayority of points and is more compact than the second group.\n",
    "* The sub-segments that are classified in the second group have more extreme parameters. This might be due to the precence of an artifact or because it corresponds to a epileptic seizure. \n",
    "* Based on the positions of the centroids we can infer that, if the clasification is correct, the first group corresponds to epileptic seizures and the second group to normal recodings. \n",
    "* Every single parameter is higher in the first group except the movility. "
   ]
  },
  {
   "cell_type": "markdown",
   "id": "25c461ba",
   "metadata": {},
   "source": [
    "### N3"
   ]
  },
  {
   "cell_type": "code",
   "execution_count": 133,
   "id": "1ed4b043",
   "metadata": {},
   "outputs": [],
   "source": [
    "data_c=data"
   ]
  },
  {
   "cell_type": "code",
   "execution_count": 134,
   "id": "a6676613",
   "metadata": {},
   "outputs": [],
   "source": [
    "for i in range(0,len(data)):\n",
    "    if data.iloc[i,-1]!=\"N3\":\n",
    "        data_c.iloc[i,-1]=np.nan"
   ]
  },
  {
   "cell_type": "code",
   "execution_count": 135,
   "id": "6db2445a",
   "metadata": {},
   "outputs": [],
   "source": [
    "data_c=data_c.dropna()"
   ]
  },
  {
   "cell_type": "code",
   "execution_count": 136,
   "id": "f9710963",
   "metadata": {
    "scrolled": true
   },
   "outputs": [
    {
     "data": {
      "text/html": [
       "<div>\n",
       "<style scoped>\n",
       "    .dataframe tbody tr th:only-of-type {\n",
       "        vertical-align: middle;\n",
       "    }\n",
       "\n",
       "    .dataframe tbody tr th {\n",
       "        vertical-align: top;\n",
       "    }\n",
       "\n",
       "    .dataframe thead th {\n",
       "        text-align: right;\n",
       "    }\n",
       "</style>\n",
       "<table border=\"1\" class=\"dataframe\">\n",
       "  <thead>\n",
       "    <tr style=\"text-align: right;\">\n",
       "      <th></th>\n",
       "      <th>0</th>\n",
       "      <th>1</th>\n",
       "      <th>2</th>\n",
       "      <th>3</th>\n",
       "      <th>4</th>\n",
       "      <th>5</th>\n",
       "      <th>6</th>\n",
       "      <th>7</th>\n",
       "      <th>8</th>\n",
       "      <th>9</th>\n",
       "      <th>...</th>\n",
       "      <th>29</th>\n",
       "      <th>30</th>\n",
       "      <th>31</th>\n",
       "      <th>32</th>\n",
       "      <th>33</th>\n",
       "      <th>34</th>\n",
       "      <th>35</th>\n",
       "      <th>36</th>\n",
       "      <th>37</th>\n",
       "      <th>39</th>\n",
       "    </tr>\n",
       "  </thead>\n",
       "  <tbody>\n",
       "    <tr>\n",
       "      <th>4</th>\n",
       "      <td>11.339524</td>\n",
       "      <td>10.327778</td>\n",
       "      <td>11.073333</td>\n",
       "      <td>9.653333</td>\n",
       "      <td>12.070000</td>\n",
       "      <td>10.046667</td>\n",
       "      <td>42.745238</td>\n",
       "      <td>33.640000</td>\n",
       "      <td>34.700000</td>\n",
       "      <td>37.300000</td>\n",
       "      <td>...</td>\n",
       "      <td>156.242749</td>\n",
       "      <td>587.817203</td>\n",
       "      <td>465.337699</td>\n",
       "      <td>467.104798</td>\n",
       "      <td>546.078070</td>\n",
       "      <td>612.918988</td>\n",
       "      <td>465.555425</td>\n",
       "      <td>9.224363e+06</td>\n",
       "      <td>0.001658</td>\n",
       "      <td>N3</td>\n",
       "    </tr>\n",
       "    <tr>\n",
       "      <th>6</th>\n",
       "      <td>26.998571</td>\n",
       "      <td>26.215556</td>\n",
       "      <td>29.127778</td>\n",
       "      <td>29.162222</td>\n",
       "      <td>28.964444</td>\n",
       "      <td>28.295000</td>\n",
       "      <td>61.641429</td>\n",
       "      <td>60.512222</td>\n",
       "      <td>82.962222</td>\n",
       "      <td>74.073333</td>\n",
       "      <td>...</td>\n",
       "      <td>399.858713</td>\n",
       "      <td>875.714794</td>\n",
       "      <td>795.695026</td>\n",
       "      <td>1081.203383</td>\n",
       "      <td>976.650182</td>\n",
       "      <td>1007.277740</td>\n",
       "      <td>1048.574140</td>\n",
       "      <td>2.324112e+07</td>\n",
       "      <td>0.000369</td>\n",
       "      <td>N3</td>\n",
       "    </tr>\n",
       "    <tr>\n",
       "      <th>9</th>\n",
       "      <td>10.481905</td>\n",
       "      <td>10.418889</td>\n",
       "      <td>11.724444</td>\n",
       "      <td>11.373333</td>\n",
       "      <td>10.986667</td>\n",
       "      <td>10.811667</td>\n",
       "      <td>25.147143</td>\n",
       "      <td>24.993333</td>\n",
       "      <td>33.655556</td>\n",
       "      <td>28.965556</td>\n",
       "      <td>...</td>\n",
       "      <td>144.186463</td>\n",
       "      <td>329.504906</td>\n",
       "      <td>299.966163</td>\n",
       "      <td>400.458743</td>\n",
       "      <td>347.526865</td>\n",
       "      <td>350.097442</td>\n",
       "      <td>367.198218</td>\n",
       "      <td>3.268244e+07</td>\n",
       "      <td>0.000392</td>\n",
       "      <td>N3</td>\n",
       "    </tr>\n",
       "    <tr>\n",
       "      <th>14</th>\n",
       "      <td>34.483810</td>\n",
       "      <td>39.271111</td>\n",
       "      <td>39.704444</td>\n",
       "      <td>42.848889</td>\n",
       "      <td>52.626667</td>\n",
       "      <td>48.441667</td>\n",
       "      <td>87.269048</td>\n",
       "      <td>112.805556</td>\n",
       "      <td>105.626667</td>\n",
       "      <td>113.292222</td>\n",
       "      <td>...</td>\n",
       "      <td>660.603977</td>\n",
       "      <td>810.729764</td>\n",
       "      <td>1178.118628</td>\n",
       "      <td>1073.187894</td>\n",
       "      <td>1112.275571</td>\n",
       "      <td>1286.495199</td>\n",
       "      <td>1287.632856</td>\n",
       "      <td>4.220465e+07</td>\n",
       "      <td>0.001066</td>\n",
       "      <td>N3</td>\n",
       "    </tr>\n",
       "    <tr>\n",
       "      <th>20</th>\n",
       "      <td>12.452381</td>\n",
       "      <td>13.240000</td>\n",
       "      <td>13.191111</td>\n",
       "      <td>12.627778</td>\n",
       "      <td>13.446667</td>\n",
       "      <td>12.915000</td>\n",
       "      <td>25.688571</td>\n",
       "      <td>26.050000</td>\n",
       "      <td>26.112222</td>\n",
       "      <td>24.443333</td>\n",
       "      <td>...</td>\n",
       "      <td>129.994494</td>\n",
       "      <td>235.258307</td>\n",
       "      <td>273.743060</td>\n",
       "      <td>243.592546</td>\n",
       "      <td>257.479009</td>\n",
       "      <td>283.038934</td>\n",
       "      <td>254.441075</td>\n",
       "      <td>1.402703e+08</td>\n",
       "      <td>0.000571</td>\n",
       "      <td>N3</td>\n",
       "    </tr>\n",
       "    <tr>\n",
       "      <th>22</th>\n",
       "      <td>19.874286</td>\n",
       "      <td>17.511111</td>\n",
       "      <td>15.896667</td>\n",
       "      <td>18.567778</td>\n",
       "      <td>17.408889</td>\n",
       "      <td>16.461667</td>\n",
       "      <td>44.143333</td>\n",
       "      <td>35.455556</td>\n",
       "      <td>31.470000</td>\n",
       "      <td>38.522222</td>\n",
       "      <td>...</td>\n",
       "      <td>168.509782</td>\n",
       "      <td>466.936157</td>\n",
       "      <td>369.663944</td>\n",
       "      <td>313.986636</td>\n",
       "      <td>401.507249</td>\n",
       "      <td>355.099730</td>\n",
       "      <td>326.303332</td>\n",
       "      <td>3.574233e+08</td>\n",
       "      <td>0.000113</td>\n",
       "      <td>N3</td>\n",
       "    </tr>\n",
       "    <tr>\n",
       "      <th>29</th>\n",
       "      <td>31.032857</td>\n",
       "      <td>29.833333</td>\n",
       "      <td>29.096667</td>\n",
       "      <td>26.802222</td>\n",
       "      <td>27.352222</td>\n",
       "      <td>28.403333</td>\n",
       "      <td>58.532857</td>\n",
       "      <td>54.425556</td>\n",
       "      <td>53.760000</td>\n",
       "      <td>52.906667</td>\n",
       "      <td>...</td>\n",
       "      <td>279.149177</td>\n",
       "      <td>601.866864</td>\n",
       "      <td>564.956831</td>\n",
       "      <td>556.644310</td>\n",
       "      <td>581.754025</td>\n",
       "      <td>529.543763</td>\n",
       "      <td>548.070935</td>\n",
       "      <td>2.867187e+08</td>\n",
       "      <td>0.000065</td>\n",
       "      <td>N3</td>\n",
       "    </tr>\n",
       "    <tr>\n",
       "      <th>32</th>\n",
       "      <td>20.797619</td>\n",
       "      <td>19.597778</td>\n",
       "      <td>19.213333</td>\n",
       "      <td>17.788889</td>\n",
       "      <td>17.948889</td>\n",
       "      <td>18.641667</td>\n",
       "      <td>39.318571</td>\n",
       "      <td>36.075556</td>\n",
       "      <td>35.627778</td>\n",
       "      <td>35.066667</td>\n",
       "      <td>...</td>\n",
       "      <td>183.913391</td>\n",
       "      <td>396.192725</td>\n",
       "      <td>369.603986</td>\n",
       "      <td>365.086165</td>\n",
       "      <td>380.098674</td>\n",
       "      <td>346.435712</td>\n",
       "      <td>360.993817</td>\n",
       "      <td>2.020305e+08</td>\n",
       "      <td>0.000056</td>\n",
       "      <td>N3</td>\n",
       "    </tr>\n",
       "    <tr>\n",
       "      <th>41</th>\n",
       "      <td>17.056190</td>\n",
       "      <td>15.736667</td>\n",
       "      <td>17.441111</td>\n",
       "      <td>18.685556</td>\n",
       "      <td>18.053333</td>\n",
       "      <td>16.200000</td>\n",
       "      <td>38.504286</td>\n",
       "      <td>36.480000</td>\n",
       "      <td>38.413333</td>\n",
       "      <td>39.751111</td>\n",
       "      <td>...</td>\n",
       "      <td>173.948698</td>\n",
       "      <td>390.992855</td>\n",
       "      <td>354.784589</td>\n",
       "      <td>378.417194</td>\n",
       "      <td>408.356892</td>\n",
       "      <td>385.593292</td>\n",
       "      <td>350.101424</td>\n",
       "      <td>3.644143e+08</td>\n",
       "      <td>0.000212</td>\n",
       "      <td>N3</td>\n",
       "    </tr>\n",
       "    <tr>\n",
       "      <th>44</th>\n",
       "      <td>22.938571</td>\n",
       "      <td>20.206667</td>\n",
       "      <td>24.743333</td>\n",
       "      <td>23.447778</td>\n",
       "      <td>24.880000</td>\n",
       "      <td>20.580000</td>\n",
       "      <td>58.670000</td>\n",
       "      <td>48.557778</td>\n",
       "      <td>63.928889</td>\n",
       "      <td>59.466667</td>\n",
       "      <td>...</td>\n",
       "      <td>262.032101</td>\n",
       "      <td>660.175106</td>\n",
       "      <td>555.743070</td>\n",
       "      <td>728.627763</td>\n",
       "      <td>655.188247</td>\n",
       "      <td>701.497471</td>\n",
       "      <td>598.048333</td>\n",
       "      <td>9.533055e+07</td>\n",
       "      <td>0.000159</td>\n",
       "      <td>N3</td>\n",
       "    </tr>\n",
       "    <tr>\n",
       "      <th>47</th>\n",
       "      <td>13.509524</td>\n",
       "      <td>12.738889</td>\n",
       "      <td>15.117778</td>\n",
       "      <td>14.091111</td>\n",
       "      <td>14.761111</td>\n",
       "      <td>12.363333</td>\n",
       "      <td>34.662381</td>\n",
       "      <td>30.922222</td>\n",
       "      <td>40.020000</td>\n",
       "      <td>36.181111</td>\n",
       "      <td>...</td>\n",
       "      <td>158.756784</td>\n",
       "      <td>389.865403</td>\n",
       "      <td>345.386991</td>\n",
       "      <td>449.811277</td>\n",
       "      <td>390.568133</td>\n",
       "      <td>418.003661</td>\n",
       "      <td>363.520168</td>\n",
       "      <td>6.683818e+07</td>\n",
       "      <td>0.000195</td>\n",
       "      <td>N3</td>\n",
       "    </tr>\n",
       "    <tr>\n",
       "      <th>52</th>\n",
       "      <td>27.002857</td>\n",
       "      <td>30.531111</td>\n",
       "      <td>27.175556</td>\n",
       "      <td>30.455556</td>\n",
       "      <td>23.521111</td>\n",
       "      <td>30.885000</td>\n",
       "      <td>53.664286</td>\n",
       "      <td>67.217778</td>\n",
       "      <td>57.476667</td>\n",
       "      <td>63.621111</td>\n",
       "      <td>...</td>\n",
       "      <td>383.438299</td>\n",
       "      <td>662.537763</td>\n",
       "      <td>1230.418855</td>\n",
       "      <td>798.101891</td>\n",
       "      <td>925.404313</td>\n",
       "      <td>537.842633</td>\n",
       "      <td>1396.628739</td>\n",
       "      <td>1.886213e+07</td>\n",
       "      <td>0.000228</td>\n",
       "      <td>N3</td>\n",
       "    </tr>\n",
       "    <tr>\n",
       "      <th>55</th>\n",
       "      <td>6.249524</td>\n",
       "      <td>6.042222</td>\n",
       "      <td>6.161111</td>\n",
       "      <td>6.868889</td>\n",
       "      <td>5.803333</td>\n",
       "      <td>5.753333</td>\n",
       "      <td>11.253333</td>\n",
       "      <td>10.975556</td>\n",
       "      <td>11.208889</td>\n",
       "      <td>12.394444</td>\n",
       "      <td>...</td>\n",
       "      <td>48.283386</td>\n",
       "      <td>98.718814</td>\n",
       "      <td>93.877851</td>\n",
       "      <td>96.610335</td>\n",
       "      <td>116.956018</td>\n",
       "      <td>94.046291</td>\n",
       "      <td>92.639052</td>\n",
       "      <td>1.967117e+07</td>\n",
       "      <td>0.000181</td>\n",
       "      <td>N3</td>\n",
       "    </tr>\n",
       "    <tr>\n",
       "      <th>56</th>\n",
       "      <td>30.269524</td>\n",
       "      <td>27.227778</td>\n",
       "      <td>27.304444</td>\n",
       "      <td>31.934444</td>\n",
       "      <td>29.443333</td>\n",
       "      <td>27.925000</td>\n",
       "      <td>61.611429</td>\n",
       "      <td>56.700000</td>\n",
       "      <td>51.467778</td>\n",
       "      <td>63.308889</td>\n",
       "      <td>...</td>\n",
       "      <td>295.746814</td>\n",
       "      <td>636.094697</td>\n",
       "      <td>524.642010</td>\n",
       "      <td>493.004100</td>\n",
       "      <td>610.609312</td>\n",
       "      <td>542.743026</td>\n",
       "      <td>533.690439</td>\n",
       "      <td>9.170754e+07</td>\n",
       "      <td>0.000226</td>\n",
       "      <td>N3</td>\n",
       "    </tr>\n",
       "    <tr>\n",
       "      <th>63</th>\n",
       "      <td>22.354286</td>\n",
       "      <td>22.023333</td>\n",
       "      <td>19.170000</td>\n",
       "      <td>21.132222</td>\n",
       "      <td>20.140000</td>\n",
       "      <td>20.373333</td>\n",
       "      <td>55.316667</td>\n",
       "      <td>51.916667</td>\n",
       "      <td>40.483333</td>\n",
       "      <td>48.080000</td>\n",
       "      <td>...</td>\n",
       "      <td>221.670005</td>\n",
       "      <td>657.426995</td>\n",
       "      <td>563.646951</td>\n",
       "      <td>401.770693</td>\n",
       "      <td>631.536068</td>\n",
       "      <td>495.514555</td>\n",
       "      <td>447.726223</td>\n",
       "      <td>1.532783e+09</td>\n",
       "      <td>0.000261</td>\n",
       "      <td>N3</td>\n",
       "    </tr>\n",
       "    <tr>\n",
       "      <th>65</th>\n",
       "      <td>12.850476</td>\n",
       "      <td>12.911111</td>\n",
       "      <td>11.314444</td>\n",
       "      <td>12.953333</td>\n",
       "      <td>12.010000</td>\n",
       "      <td>12.263333</td>\n",
       "      <td>32.771905</td>\n",
       "      <td>31.150000</td>\n",
       "      <td>24.155556</td>\n",
       "      <td>31.478889</td>\n",
       "      <td>...</td>\n",
       "      <td>133.566442</td>\n",
       "      <td>393.295247</td>\n",
       "      <td>350.744256</td>\n",
       "      <td>242.966376</td>\n",
       "      <td>477.452683</td>\n",
       "      <td>294.922349</td>\n",
       "      <td>291.012161</td>\n",
       "      <td>3.030377e+08</td>\n",
       "      <td>0.000256</td>\n",
       "      <td>N3</td>\n",
       "    </tr>\n",
       "    <tr>\n",
       "      <th>69</th>\n",
       "      <td>21.699048</td>\n",
       "      <td>16.857778</td>\n",
       "      <td>16.901111</td>\n",
       "      <td>14.498889</td>\n",
       "      <td>19.883333</td>\n",
       "      <td>12.946667</td>\n",
       "      <td>60.640952</td>\n",
       "      <td>49.612222</td>\n",
       "      <td>47.582222</td>\n",
       "      <td>43.042222</td>\n",
       "      <td>...</td>\n",
       "      <td>184.263274</td>\n",
       "      <td>727.622711</td>\n",
       "      <td>573.013377</td>\n",
       "      <td>546.437332</td>\n",
       "      <td>516.997233</td>\n",
       "      <td>558.992780</td>\n",
       "      <td>427.396602</td>\n",
       "      <td>9.360937e+06</td>\n",
       "      <td>0.000407</td>\n",
       "      <td>N3</td>\n",
       "    </tr>\n",
       "    <tr>\n",
       "      <th>77</th>\n",
       "      <td>3.702857</td>\n",
       "      <td>3.464444</td>\n",
       "      <td>3.512222</td>\n",
       "      <td>3.314444</td>\n",
       "      <td>3.535556</td>\n",
       "      <td>3.431667</td>\n",
       "      <td>7.904286</td>\n",
       "      <td>7.245556</td>\n",
       "      <td>7.262222</td>\n",
       "      <td>6.896667</td>\n",
       "      <td>...</td>\n",
       "      <td>21.421253</td>\n",
       "      <td>47.885933</td>\n",
       "      <td>44.538181</td>\n",
       "      <td>42.768123</td>\n",
       "      <td>44.231258</td>\n",
       "      <td>48.017281</td>\n",
       "      <td>43.032654</td>\n",
       "      <td>5.721059e+07</td>\n",
       "      <td>0.000639</td>\n",
       "      <td>N3</td>\n",
       "    </tr>\n",
       "    <tr>\n",
       "      <th>79</th>\n",
       "      <td>26.012857</td>\n",
       "      <td>25.021111</td>\n",
       "      <td>25.410000</td>\n",
       "      <td>25.485556</td>\n",
       "      <td>24.295556</td>\n",
       "      <td>20.575000</td>\n",
       "      <td>65.421429</td>\n",
       "      <td>70.426667</td>\n",
       "      <td>62.573333</td>\n",
       "      <td>68.556667</td>\n",
       "      <td>...</td>\n",
       "      <td>266.678385</td>\n",
       "      <td>981.816777</td>\n",
       "      <td>1021.609019</td>\n",
       "      <td>811.503872</td>\n",
       "      <td>1061.325166</td>\n",
       "      <td>649.918134</td>\n",
       "      <td>565.242040</td>\n",
       "      <td>3.889402e+07</td>\n",
       "      <td>0.000400</td>\n",
       "      <td>N3</td>\n",
       "    </tr>\n",
       "    <tr>\n",
       "      <th>82</th>\n",
       "      <td>26.410952</td>\n",
       "      <td>23.981111</td>\n",
       "      <td>25.848889</td>\n",
       "      <td>26.752222</td>\n",
       "      <td>24.001111</td>\n",
       "      <td>23.941667</td>\n",
       "      <td>63.301905</td>\n",
       "      <td>59.346667</td>\n",
       "      <td>62.635556</td>\n",
       "      <td>59.471111</td>\n",
       "      <td>...</td>\n",
       "      <td>273.349123</td>\n",
       "      <td>718.692429</td>\n",
       "      <td>688.950026</td>\n",
       "      <td>721.330118</td>\n",
       "      <td>642.779865</td>\n",
       "      <td>529.542734</td>\n",
       "      <td>546.895263</td>\n",
       "      <td>4.879537e+07</td>\n",
       "      <td>0.000291</td>\n",
       "      <td>N3</td>\n",
       "    </tr>\n",
       "    <tr>\n",
       "      <th>88</th>\n",
       "      <td>14.148571</td>\n",
       "      <td>12.938889</td>\n",
       "      <td>11.632222</td>\n",
       "      <td>13.528889</td>\n",
       "      <td>12.736667</td>\n",
       "      <td>12.380000</td>\n",
       "      <td>28.691905</td>\n",
       "      <td>26.242222</td>\n",
       "      <td>24.961111</td>\n",
       "      <td>27.225556</td>\n",
       "      <td>...</td>\n",
       "      <td>126.354677</td>\n",
       "      <td>327.491416</td>\n",
       "      <td>300.667696</td>\n",
       "      <td>288.439385</td>\n",
       "      <td>309.124707</td>\n",
       "      <td>293.245258</td>\n",
       "      <td>288.084486</td>\n",
       "      <td>1.020876e+07</td>\n",
       "      <td>0.000219</td>\n",
       "      <td>N3</td>\n",
       "    </tr>\n",
       "    <tr>\n",
       "      <th>91</th>\n",
       "      <td>31.956667</td>\n",
       "      <td>27.707778</td>\n",
       "      <td>18.122222</td>\n",
       "      <td>29.747778</td>\n",
       "      <td>27.568889</td>\n",
       "      <td>23.048333</td>\n",
       "      <td>91.949048</td>\n",
       "      <td>63.400000</td>\n",
       "      <td>50.353333</td>\n",
       "      <td>66.278889</td>\n",
       "      <td>...</td>\n",
       "      <td>244.080074</td>\n",
       "      <td>1986.062811</td>\n",
       "      <td>1082.466498</td>\n",
       "      <td>879.061319</td>\n",
       "      <td>1003.909821</td>\n",
       "      <td>766.299146</td>\n",
       "      <td>617.692599</td>\n",
       "      <td>1.250906e+07</td>\n",
       "      <td>0.000206</td>\n",
       "      <td>N3</td>\n",
       "    </tr>\n",
       "    <tr>\n",
       "      <th>94</th>\n",
       "      <td>22.989524</td>\n",
       "      <td>20.058889</td>\n",
       "      <td>14.544444</td>\n",
       "      <td>20.261111</td>\n",
       "      <td>18.684444</td>\n",
       "      <td>15.398333</td>\n",
       "      <td>73.354762</td>\n",
       "      <td>48.211111</td>\n",
       "      <td>37.993333</td>\n",
       "      <td>46.555556</td>\n",
       "      <td>...</td>\n",
       "      <td>162.397470</td>\n",
       "      <td>1703.199243</td>\n",
       "      <td>884.173153</td>\n",
       "      <td>865.625408</td>\n",
       "      <td>752.394480</td>\n",
       "      <td>543.215938</td>\n",
       "      <td>427.940223</td>\n",
       "      <td>2.291153e+07</td>\n",
       "      <td>0.000121</td>\n",
       "      <td>N3</td>\n",
       "    </tr>\n",
       "    <tr>\n",
       "      <th>96</th>\n",
       "      <td>8.130476</td>\n",
       "      <td>7.284444</td>\n",
       "      <td>6.515556</td>\n",
       "      <td>7.003333</td>\n",
       "      <td>6.388889</td>\n",
       "      <td>5.288333</td>\n",
       "      <td>25.550476</td>\n",
       "      <td>17.801111</td>\n",
       "      <td>19.468889</td>\n",
       "      <td>15.501111</td>\n",
       "      <td>...</td>\n",
       "      <td>49.980521</td>\n",
       "      <td>579.800415</td>\n",
       "      <td>370.898427</td>\n",
       "      <td>527.854273</td>\n",
       "      <td>242.218301</td>\n",
       "      <td>161.193851</td>\n",
       "      <td>129.802689</td>\n",
       "      <td>1.167292e+07</td>\n",
       "      <td>0.000173</td>\n",
       "      <td>N3</td>\n",
       "    </tr>\n",
       "    <tr>\n",
       "      <th>98</th>\n",
       "      <td>11.078571</td>\n",
       "      <td>13.480000</td>\n",
       "      <td>9.510000</td>\n",
       "      <td>12.590000</td>\n",
       "      <td>10.761111</td>\n",
       "      <td>8.158333</td>\n",
       "      <td>33.675714</td>\n",
       "      <td>41.008889</td>\n",
       "      <td>29.511111</td>\n",
       "      <td>37.497778</td>\n",
       "      <td>...</td>\n",
       "      <td>106.413721</td>\n",
       "      <td>438.797076</td>\n",
       "      <td>484.642007</td>\n",
       "      <td>377.384311</td>\n",
       "      <td>415.397009</td>\n",
       "      <td>354.127376</td>\n",
       "      <td>286.121791</td>\n",
       "      <td>2.376138e+07</td>\n",
       "      <td>0.000372</td>\n",
       "      <td>N3</td>\n",
       "    </tr>\n",
       "    <tr>\n",
       "      <th>102</th>\n",
       "      <td>48.024286</td>\n",
       "      <td>45.288889</td>\n",
       "      <td>56.105556</td>\n",
       "      <td>38.996667</td>\n",
       "      <td>42.208889</td>\n",
       "      <td>46.661667</td>\n",
       "      <td>172.341905</td>\n",
       "      <td>156.258889</td>\n",
       "      <td>187.771111</td>\n",
       "      <td>129.700000</td>\n",
       "      <td>...</td>\n",
       "      <td>756.633924</td>\n",
       "      <td>3039.386077</td>\n",
       "      <td>2380.556244</td>\n",
       "      <td>2878.895408</td>\n",
       "      <td>1864.050784</td>\n",
       "      <td>1554.563101</td>\n",
       "      <td>1766.158443</td>\n",
       "      <td>4.743891e+05</td>\n",
       "      <td>0.000940</td>\n",
       "      <td>N3</td>\n",
       "    </tr>\n",
       "    <tr>\n",
       "      <th>106</th>\n",
       "      <td>16.691905</td>\n",
       "      <td>17.795556</td>\n",
       "      <td>17.750000</td>\n",
       "      <td>13.072222</td>\n",
       "      <td>15.040000</td>\n",
       "      <td>13.595000</td>\n",
       "      <td>44.405714</td>\n",
       "      <td>50.278889</td>\n",
       "      <td>47.530000</td>\n",
       "      <td>29.537778</td>\n",
       "      <td>...</td>\n",
       "      <td>140.196937</td>\n",
       "      <td>744.050453</td>\n",
       "      <td>741.812404</td>\n",
       "      <td>684.449737</td>\n",
       "      <td>414.872184</td>\n",
       "      <td>479.822748</td>\n",
       "      <td>307.205007</td>\n",
       "      <td>7.949271e+06</td>\n",
       "      <td>0.000346</td>\n",
       "      <td>N3</td>\n",
       "    </tr>\n",
       "    <tr>\n",
       "      <th>111</th>\n",
       "      <td>39.234762</td>\n",
       "      <td>38.838889</td>\n",
       "      <td>38.456667</td>\n",
       "      <td>38.068889</td>\n",
       "      <td>36.417778</td>\n",
       "      <td>33.683333</td>\n",
       "      <td>75.847619</td>\n",
       "      <td>76.986667</td>\n",
       "      <td>76.892222</td>\n",
       "      <td>72.163333</td>\n",
       "      <td>...</td>\n",
       "      <td>313.933238</td>\n",
       "      <td>783.234271</td>\n",
       "      <td>785.081986</td>\n",
       "      <td>834.365976</td>\n",
       "      <td>736.142512</td>\n",
       "      <td>695.171512</td>\n",
       "      <td>657.977234</td>\n",
       "      <td>5.047649e+06</td>\n",
       "      <td>0.003162</td>\n",
       "      <td>N3</td>\n",
       "    </tr>\n",
       "    <tr>\n",
       "      <th>113</th>\n",
       "      <td>26.122381</td>\n",
       "      <td>24.840000</td>\n",
       "      <td>25.090000</td>\n",
       "      <td>25.616667</td>\n",
       "      <td>24.204444</td>\n",
       "      <td>21.866667</td>\n",
       "      <td>48.101905</td>\n",
       "      <td>45.718889</td>\n",
       "      <td>47.163333</td>\n",
       "      <td>46.223333</td>\n",
       "      <td>...</td>\n",
       "      <td>206.259057</td>\n",
       "      <td>508.891489</td>\n",
       "      <td>507.931461</td>\n",
       "      <td>540.571387</td>\n",
       "      <td>478.699402</td>\n",
       "      <td>447.418727</td>\n",
       "      <td>424.540621</td>\n",
       "      <td>2.048876e+08</td>\n",
       "      <td>0.000277</td>\n",
       "      <td>N3</td>\n",
       "    </tr>\n",
       "    <tr>\n",
       "      <th>115</th>\n",
       "      <td>30.772857</td>\n",
       "      <td>37.638889</td>\n",
       "      <td>40.477778</td>\n",
       "      <td>30.845556</td>\n",
       "      <td>33.401111</td>\n",
       "      <td>35.395000</td>\n",
       "      <td>102.132381</td>\n",
       "      <td>124.227778</td>\n",
       "      <td>131.256667</td>\n",
       "      <td>109.773333</td>\n",
       "      <td>...</td>\n",
       "      <td>605.024322</td>\n",
       "      <td>1928.838600</td>\n",
       "      <td>1911.900744</td>\n",
       "      <td>1976.685758</td>\n",
       "      <td>1885.518235</td>\n",
       "      <td>1451.778778</td>\n",
       "      <td>1591.044722</td>\n",
       "      <td>5.051843e+06</td>\n",
       "      <td>0.000230</td>\n",
       "      <td>N3</td>\n",
       "    </tr>\n",
       "    <tr>\n",
       "      <th>119</th>\n",
       "      <td>20.350000</td>\n",
       "      <td>18.946667</td>\n",
       "      <td>27.378889</td>\n",
       "      <td>18.882222</td>\n",
       "      <td>21.194444</td>\n",
       "      <td>15.316667</td>\n",
       "      <td>63.618095</td>\n",
       "      <td>64.472222</td>\n",
       "      <td>85.874444</td>\n",
       "      <td>60.328889</td>\n",
       "      <td>...</td>\n",
       "      <td>244.212924</td>\n",
       "      <td>807.615376</td>\n",
       "      <td>834.401797</td>\n",
       "      <td>1621.700797</td>\n",
       "      <td>786.025970</td>\n",
       "      <td>754.618554</td>\n",
       "      <td>663.226873</td>\n",
       "      <td>2.203814e+06</td>\n",
       "      <td>0.000565</td>\n",
       "      <td>N3</td>\n",
       "    </tr>\n",
       "    <tr>\n",
       "      <th>121</th>\n",
       "      <td>7.587619</td>\n",
       "      <td>7.875556</td>\n",
       "      <td>10.221111</td>\n",
       "      <td>6.840000</td>\n",
       "      <td>7.737778</td>\n",
       "      <td>5.386667</td>\n",
       "      <td>23.472381</td>\n",
       "      <td>26.840000</td>\n",
       "      <td>35.091111</td>\n",
       "      <td>21.463333</td>\n",
       "      <td>...</td>\n",
       "      <td>71.407751</td>\n",
       "      <td>295.966877</td>\n",
       "      <td>361.806818</td>\n",
       "      <td>743.585816</td>\n",
       "      <td>275.536118</td>\n",
       "      <td>265.440138</td>\n",
       "      <td>216.778679</td>\n",
       "      <td>2.882108e+06</td>\n",
       "      <td>0.000623</td>\n",
       "      <td>N3</td>\n",
       "    </tr>\n",
       "    <tr>\n",
       "      <th>126</th>\n",
       "      <td>17.987619</td>\n",
       "      <td>15.767778</td>\n",
       "      <td>16.215556</td>\n",
       "      <td>18.902222</td>\n",
       "      <td>16.343333</td>\n",
       "      <td>15.956667</td>\n",
       "      <td>32.170000</td>\n",
       "      <td>29.741111</td>\n",
       "      <td>30.374444</td>\n",
       "      <td>36.917778</td>\n",
       "      <td>...</td>\n",
       "      <td>151.865404</td>\n",
       "      <td>308.896578</td>\n",
       "      <td>287.130775</td>\n",
       "      <td>293.200326</td>\n",
       "      <td>444.668751</td>\n",
       "      <td>292.554209</td>\n",
       "      <td>302.807136</td>\n",
       "      <td>1.635488e+08</td>\n",
       "      <td>0.000204</td>\n",
       "      <td>N3</td>\n",
       "    </tr>\n",
       "    <tr>\n",
       "      <th>130</th>\n",
       "      <td>4.200000</td>\n",
       "      <td>3.641111</td>\n",
       "      <td>3.693333</td>\n",
       "      <td>4.238889</td>\n",
       "      <td>3.674444</td>\n",
       "      <td>3.561667</td>\n",
       "      <td>7.272857</td>\n",
       "      <td>6.743333</td>\n",
       "      <td>6.746667</td>\n",
       "      <td>8.026667</td>\n",
       "      <td>...</td>\n",
       "      <td>28.214914</td>\n",
       "      <td>54.663652</td>\n",
       "      <td>49.433609</td>\n",
       "      <td>49.256356</td>\n",
       "      <td>71.999100</td>\n",
       "      <td>50.639364</td>\n",
       "      <td>51.094968</td>\n",
       "      <td>4.744499e+08</td>\n",
       "      <td>0.000126</td>\n",
       "      <td>N3</td>\n",
       "    </tr>\n",
       "    <tr>\n",
       "      <th>132</th>\n",
       "      <td>16.167619</td>\n",
       "      <td>28.574444</td>\n",
       "      <td>30.382222</td>\n",
       "      <td>23.164444</td>\n",
       "      <td>25.064444</td>\n",
       "      <td>23.246667</td>\n",
       "      <td>38.160476</td>\n",
       "      <td>72.165556</td>\n",
       "      <td>75.347778</td>\n",
       "      <td>48.813333</td>\n",
       "      <td>...</td>\n",
       "      <td>263.592880</td>\n",
       "      <td>448.815948</td>\n",
       "      <td>1578.282792</td>\n",
       "      <td>1730.909541</td>\n",
       "      <td>506.564951</td>\n",
       "      <td>566.225446</td>\n",
       "      <td>555.668905</td>\n",
       "      <td>4.273410e+07</td>\n",
       "      <td>0.000158</td>\n",
       "      <td>N3</td>\n",
       "    </tr>\n",
       "    <tr>\n",
       "      <th>137</th>\n",
       "      <td>2.534286</td>\n",
       "      <td>2.466667</td>\n",
       "      <td>2.526667</td>\n",
       "      <td>2.556667</td>\n",
       "      <td>2.502222</td>\n",
       "      <td>2.265000</td>\n",
       "      <td>4.841429</td>\n",
       "      <td>4.704444</td>\n",
       "      <td>4.878889</td>\n",
       "      <td>4.747778</td>\n",
       "      <td>...</td>\n",
       "      <td>13.632215</td>\n",
       "      <td>29.314164</td>\n",
       "      <td>27.933372</td>\n",
       "      <td>28.957759</td>\n",
       "      <td>28.136708</td>\n",
       "      <td>29.234411</td>\n",
       "      <td>25.364101</td>\n",
       "      <td>3.148235e+07</td>\n",
       "      <td>0.000190</td>\n",
       "      <td>N3</td>\n",
       "    </tr>\n",
       "    <tr>\n",
       "      <th>140</th>\n",
       "      <td>15.134286</td>\n",
       "      <td>15.461111</td>\n",
       "      <td>15.403333</td>\n",
       "      <td>16.684444</td>\n",
       "      <td>15.866667</td>\n",
       "      <td>14.901667</td>\n",
       "      <td>34.830952</td>\n",
       "      <td>37.225556</td>\n",
       "      <td>37.133333</td>\n",
       "      <td>41.551111</td>\n",
       "      <td>...</td>\n",
       "      <td>179.454228</td>\n",
       "      <td>456.293709</td>\n",
       "      <td>496.922674</td>\n",
       "      <td>482.631157</td>\n",
       "      <td>540.505234</td>\n",
       "      <td>437.217073</td>\n",
       "      <td>459.117927</td>\n",
       "      <td>2.925963e+07</td>\n",
       "      <td>0.000163</td>\n",
       "      <td>N3</td>\n",
       "    </tr>\n",
       "    <tr>\n",
       "      <th>145</th>\n",
       "      <td>27.841429</td>\n",
       "      <td>29.337778</td>\n",
       "      <td>29.293333</td>\n",
       "      <td>27.997778</td>\n",
       "      <td>25.055556</td>\n",
       "      <td>25.330000</td>\n",
       "      <td>53.556667</td>\n",
       "      <td>58.505556</td>\n",
       "      <td>58.205556</td>\n",
       "      <td>54.065556</td>\n",
       "      <td>...</td>\n",
       "      <td>253.110709</td>\n",
       "      <td>671.441757</td>\n",
       "      <td>742.741410</td>\n",
       "      <td>737.986796</td>\n",
       "      <td>650.834585</td>\n",
       "      <td>573.037639</td>\n",
       "      <td>577.772239</td>\n",
       "      <td>3.294283e+07</td>\n",
       "      <td>0.000260</td>\n",
       "      <td>N3</td>\n",
       "    </tr>\n",
       "    <tr>\n",
       "      <th>149</th>\n",
       "      <td>12.059524</td>\n",
       "      <td>12.661111</td>\n",
       "      <td>12.512222</td>\n",
       "      <td>12.027778</td>\n",
       "      <td>10.525556</td>\n",
       "      <td>10.926667</td>\n",
       "      <td>25.241905</td>\n",
       "      <td>28.402222</td>\n",
       "      <td>27.533333</td>\n",
       "      <td>25.598889</td>\n",
       "      <td>...</td>\n",
       "      <td>113.256666</td>\n",
       "      <td>310.814455</td>\n",
       "      <td>348.890665</td>\n",
       "      <td>340.459252</td>\n",
       "      <td>299.829648</td>\n",
       "      <td>258.393600</td>\n",
       "      <td>266.383254</td>\n",
       "      <td>4.062186e+07</td>\n",
       "      <td>0.000196</td>\n",
       "      <td>N3</td>\n",
       "    </tr>\n",
       "    <tr>\n",
       "      <th>153</th>\n",
       "      <td>34.179524</td>\n",
       "      <td>33.141111</td>\n",
       "      <td>31.646667</td>\n",
       "      <td>33.260000</td>\n",
       "      <td>31.634444</td>\n",
       "      <td>29.551667</td>\n",
       "      <td>76.524762</td>\n",
       "      <td>73.398889</td>\n",
       "      <td>66.352222</td>\n",
       "      <td>67.616667</td>\n",
       "      <td>...</td>\n",
       "      <td>285.148926</td>\n",
       "      <td>1049.807550</td>\n",
       "      <td>1083.384077</td>\n",
       "      <td>932.847137</td>\n",
       "      <td>859.836816</td>\n",
       "      <td>730.518049</td>\n",
       "      <td>677.864444</td>\n",
       "      <td>1.908625e+07</td>\n",
       "      <td>0.000203</td>\n",
       "      <td>N3</td>\n",
       "    </tr>\n",
       "    <tr>\n",
       "      <th>154</th>\n",
       "      <td>26.902381</td>\n",
       "      <td>27.300000</td>\n",
       "      <td>25.703333</td>\n",
       "      <td>26.954444</td>\n",
       "      <td>25.543333</td>\n",
       "      <td>24.010000</td>\n",
       "      <td>61.178571</td>\n",
       "      <td>67.254444</td>\n",
       "      <td>59.908889</td>\n",
       "      <td>59.874444</td>\n",
       "      <td>...</td>\n",
       "      <td>250.997183</td>\n",
       "      <td>794.803224</td>\n",
       "      <td>1074.479630</td>\n",
       "      <td>890.432675</td>\n",
       "      <td>792.040132</td>\n",
       "      <td>675.661065</td>\n",
       "      <td>623.961387</td>\n",
       "      <td>2.925272e+07</td>\n",
       "      <td>0.000156</td>\n",
       "      <td>N3</td>\n",
       "    </tr>\n",
       "    <tr>\n",
       "      <th>158</th>\n",
       "      <td>28.656190</td>\n",
       "      <td>26.148889</td>\n",
       "      <td>28.142222</td>\n",
       "      <td>29.854444</td>\n",
       "      <td>25.000000</td>\n",
       "      <td>23.476667</td>\n",
       "      <td>71.534286</td>\n",
       "      <td>65.567778</td>\n",
       "      <td>72.303333</td>\n",
       "      <td>75.062222</td>\n",
       "      <td>...</td>\n",
       "      <td>290.153260</td>\n",
       "      <td>1118.145036</td>\n",
       "      <td>1082.963101</td>\n",
       "      <td>1274.547841</td>\n",
       "      <td>1167.185522</td>\n",
       "      <td>768.765636</td>\n",
       "      <td>805.499974</td>\n",
       "      <td>1.381545e+07</td>\n",
       "      <td>0.000045</td>\n",
       "      <td>N3</td>\n",
       "    </tr>\n",
       "    <tr>\n",
       "      <th>163</th>\n",
       "      <td>10.816190</td>\n",
       "      <td>9.702222</td>\n",
       "      <td>10.213333</td>\n",
       "      <td>10.985556</td>\n",
       "      <td>9.072222</td>\n",
       "      <td>8.145000</td>\n",
       "      <td>27.838095</td>\n",
       "      <td>24.458889</td>\n",
       "      <td>27.936667</td>\n",
       "      <td>28.534444</td>\n",
       "      <td>...</td>\n",
       "      <td>99.599288</td>\n",
       "      <td>449.385031</td>\n",
       "      <td>411.347601</td>\n",
       "      <td>560.246779</td>\n",
       "      <td>459.417619</td>\n",
       "      <td>270.892424</td>\n",
       "      <td>296.452757</td>\n",
       "      <td>6.754039e+06</td>\n",
       "      <td>0.000063</td>\n",
       "      <td>N3</td>\n",
       "    </tr>\n",
       "  </tbody>\n",
       "</table>\n",
       "<p>43 rows × 39 columns</p>\n",
       "</div>"
      ],
      "text/plain": [
       "             0          1          2          3          4          5  \\\n",
       "4    11.339524  10.327778  11.073333   9.653333  12.070000  10.046667   \n",
       "6    26.998571  26.215556  29.127778  29.162222  28.964444  28.295000   \n",
       "9    10.481905  10.418889  11.724444  11.373333  10.986667  10.811667   \n",
       "14   34.483810  39.271111  39.704444  42.848889  52.626667  48.441667   \n",
       "20   12.452381  13.240000  13.191111  12.627778  13.446667  12.915000   \n",
       "22   19.874286  17.511111  15.896667  18.567778  17.408889  16.461667   \n",
       "29   31.032857  29.833333  29.096667  26.802222  27.352222  28.403333   \n",
       "32   20.797619  19.597778  19.213333  17.788889  17.948889  18.641667   \n",
       "41   17.056190  15.736667  17.441111  18.685556  18.053333  16.200000   \n",
       "44   22.938571  20.206667  24.743333  23.447778  24.880000  20.580000   \n",
       "47   13.509524  12.738889  15.117778  14.091111  14.761111  12.363333   \n",
       "52   27.002857  30.531111  27.175556  30.455556  23.521111  30.885000   \n",
       "55    6.249524   6.042222   6.161111   6.868889   5.803333   5.753333   \n",
       "56   30.269524  27.227778  27.304444  31.934444  29.443333  27.925000   \n",
       "63   22.354286  22.023333  19.170000  21.132222  20.140000  20.373333   \n",
       "65   12.850476  12.911111  11.314444  12.953333  12.010000  12.263333   \n",
       "69   21.699048  16.857778  16.901111  14.498889  19.883333  12.946667   \n",
       "77    3.702857   3.464444   3.512222   3.314444   3.535556   3.431667   \n",
       "79   26.012857  25.021111  25.410000  25.485556  24.295556  20.575000   \n",
       "82   26.410952  23.981111  25.848889  26.752222  24.001111  23.941667   \n",
       "88   14.148571  12.938889  11.632222  13.528889  12.736667  12.380000   \n",
       "91   31.956667  27.707778  18.122222  29.747778  27.568889  23.048333   \n",
       "94   22.989524  20.058889  14.544444  20.261111  18.684444  15.398333   \n",
       "96    8.130476   7.284444   6.515556   7.003333   6.388889   5.288333   \n",
       "98   11.078571  13.480000   9.510000  12.590000  10.761111   8.158333   \n",
       "102  48.024286  45.288889  56.105556  38.996667  42.208889  46.661667   \n",
       "106  16.691905  17.795556  17.750000  13.072222  15.040000  13.595000   \n",
       "111  39.234762  38.838889  38.456667  38.068889  36.417778  33.683333   \n",
       "113  26.122381  24.840000  25.090000  25.616667  24.204444  21.866667   \n",
       "115  30.772857  37.638889  40.477778  30.845556  33.401111  35.395000   \n",
       "119  20.350000  18.946667  27.378889  18.882222  21.194444  15.316667   \n",
       "121   7.587619   7.875556  10.221111   6.840000   7.737778   5.386667   \n",
       "126  17.987619  15.767778  16.215556  18.902222  16.343333  15.956667   \n",
       "130   4.200000   3.641111   3.693333   4.238889   3.674444   3.561667   \n",
       "132  16.167619  28.574444  30.382222  23.164444  25.064444  23.246667   \n",
       "137   2.534286   2.466667   2.526667   2.556667   2.502222   2.265000   \n",
       "140  15.134286  15.461111  15.403333  16.684444  15.866667  14.901667   \n",
       "145  27.841429  29.337778  29.293333  27.997778  25.055556  25.330000   \n",
       "149  12.059524  12.661111  12.512222  12.027778  10.525556  10.926667   \n",
       "153  34.179524  33.141111  31.646667  33.260000  31.634444  29.551667   \n",
       "154  26.902381  27.300000  25.703333  26.954444  25.543333  24.010000   \n",
       "158  28.656190  26.148889  28.142222  29.854444  25.000000  23.476667   \n",
       "163  10.816190   9.702222  10.213333  10.985556   9.072222   8.145000   \n",
       "\n",
       "              6           7           8           9  ...          29  \\\n",
       "4     42.745238   33.640000   34.700000   37.300000  ...  156.242749   \n",
       "6     61.641429   60.512222   82.962222   74.073333  ...  399.858713   \n",
       "9     25.147143   24.993333   33.655556   28.965556  ...  144.186463   \n",
       "14    87.269048  112.805556  105.626667  113.292222  ...  660.603977   \n",
       "20    25.688571   26.050000   26.112222   24.443333  ...  129.994494   \n",
       "22    44.143333   35.455556   31.470000   38.522222  ...  168.509782   \n",
       "29    58.532857   54.425556   53.760000   52.906667  ...  279.149177   \n",
       "32    39.318571   36.075556   35.627778   35.066667  ...  183.913391   \n",
       "41    38.504286   36.480000   38.413333   39.751111  ...  173.948698   \n",
       "44    58.670000   48.557778   63.928889   59.466667  ...  262.032101   \n",
       "47    34.662381   30.922222   40.020000   36.181111  ...  158.756784   \n",
       "52    53.664286   67.217778   57.476667   63.621111  ...  383.438299   \n",
       "55    11.253333   10.975556   11.208889   12.394444  ...   48.283386   \n",
       "56    61.611429   56.700000   51.467778   63.308889  ...  295.746814   \n",
       "63    55.316667   51.916667   40.483333   48.080000  ...  221.670005   \n",
       "65    32.771905   31.150000   24.155556   31.478889  ...  133.566442   \n",
       "69    60.640952   49.612222   47.582222   43.042222  ...  184.263274   \n",
       "77     7.904286    7.245556    7.262222    6.896667  ...   21.421253   \n",
       "79    65.421429   70.426667   62.573333   68.556667  ...  266.678385   \n",
       "82    63.301905   59.346667   62.635556   59.471111  ...  273.349123   \n",
       "88    28.691905   26.242222   24.961111   27.225556  ...  126.354677   \n",
       "91    91.949048   63.400000   50.353333   66.278889  ...  244.080074   \n",
       "94    73.354762   48.211111   37.993333   46.555556  ...  162.397470   \n",
       "96    25.550476   17.801111   19.468889   15.501111  ...   49.980521   \n",
       "98    33.675714   41.008889   29.511111   37.497778  ...  106.413721   \n",
       "102  172.341905  156.258889  187.771111  129.700000  ...  756.633924   \n",
       "106   44.405714   50.278889   47.530000   29.537778  ...  140.196937   \n",
       "111   75.847619   76.986667   76.892222   72.163333  ...  313.933238   \n",
       "113   48.101905   45.718889   47.163333   46.223333  ...  206.259057   \n",
       "115  102.132381  124.227778  131.256667  109.773333  ...  605.024322   \n",
       "119   63.618095   64.472222   85.874444   60.328889  ...  244.212924   \n",
       "121   23.472381   26.840000   35.091111   21.463333  ...   71.407751   \n",
       "126   32.170000   29.741111   30.374444   36.917778  ...  151.865404   \n",
       "130    7.272857    6.743333    6.746667    8.026667  ...   28.214914   \n",
       "132   38.160476   72.165556   75.347778   48.813333  ...  263.592880   \n",
       "137    4.841429    4.704444    4.878889    4.747778  ...   13.632215   \n",
       "140   34.830952   37.225556   37.133333   41.551111  ...  179.454228   \n",
       "145   53.556667   58.505556   58.205556   54.065556  ...  253.110709   \n",
       "149   25.241905   28.402222   27.533333   25.598889  ...  113.256666   \n",
       "153   76.524762   73.398889   66.352222   67.616667  ...  285.148926   \n",
       "154   61.178571   67.254444   59.908889   59.874444  ...  250.997183   \n",
       "158   71.534286   65.567778   72.303333   75.062222  ...  290.153260   \n",
       "163   27.838095   24.458889   27.936667   28.534444  ...   99.599288   \n",
       "\n",
       "              30           31           32           33           34  \\\n",
       "4     587.817203   465.337699   467.104798   546.078070   612.918988   \n",
       "6     875.714794   795.695026  1081.203383   976.650182  1007.277740   \n",
       "9     329.504906   299.966163   400.458743   347.526865   350.097442   \n",
       "14    810.729764  1178.118628  1073.187894  1112.275571  1286.495199   \n",
       "20    235.258307   273.743060   243.592546   257.479009   283.038934   \n",
       "22    466.936157   369.663944   313.986636   401.507249   355.099730   \n",
       "29    601.866864   564.956831   556.644310   581.754025   529.543763   \n",
       "32    396.192725   369.603986   365.086165   380.098674   346.435712   \n",
       "41    390.992855   354.784589   378.417194   408.356892   385.593292   \n",
       "44    660.175106   555.743070   728.627763   655.188247   701.497471   \n",
       "47    389.865403   345.386991   449.811277   390.568133   418.003661   \n",
       "52    662.537763  1230.418855   798.101891   925.404313   537.842633   \n",
       "55     98.718814    93.877851    96.610335   116.956018    94.046291   \n",
       "56    636.094697   524.642010   493.004100   610.609312   542.743026   \n",
       "63    657.426995   563.646951   401.770693   631.536068   495.514555   \n",
       "65    393.295247   350.744256   242.966376   477.452683   294.922349   \n",
       "69    727.622711   573.013377   546.437332   516.997233   558.992780   \n",
       "77     47.885933    44.538181    42.768123    44.231258    48.017281   \n",
       "79    981.816777  1021.609019   811.503872  1061.325166   649.918134   \n",
       "82    718.692429   688.950026   721.330118   642.779865   529.542734   \n",
       "88    327.491416   300.667696   288.439385   309.124707   293.245258   \n",
       "91   1986.062811  1082.466498   879.061319  1003.909821   766.299146   \n",
       "94   1703.199243   884.173153   865.625408   752.394480   543.215938   \n",
       "96    579.800415   370.898427   527.854273   242.218301   161.193851   \n",
       "98    438.797076   484.642007   377.384311   415.397009   354.127376   \n",
       "102  3039.386077  2380.556244  2878.895408  1864.050784  1554.563101   \n",
       "106   744.050453   741.812404   684.449737   414.872184   479.822748   \n",
       "111   783.234271   785.081986   834.365976   736.142512   695.171512   \n",
       "113   508.891489   507.931461   540.571387   478.699402   447.418727   \n",
       "115  1928.838600  1911.900744  1976.685758  1885.518235  1451.778778   \n",
       "119   807.615376   834.401797  1621.700797   786.025970   754.618554   \n",
       "121   295.966877   361.806818   743.585816   275.536118   265.440138   \n",
       "126   308.896578   287.130775   293.200326   444.668751   292.554209   \n",
       "130    54.663652    49.433609    49.256356    71.999100    50.639364   \n",
       "132   448.815948  1578.282792  1730.909541   506.564951   566.225446   \n",
       "137    29.314164    27.933372    28.957759    28.136708    29.234411   \n",
       "140   456.293709   496.922674   482.631157   540.505234   437.217073   \n",
       "145   671.441757   742.741410   737.986796   650.834585   573.037639   \n",
       "149   310.814455   348.890665   340.459252   299.829648   258.393600   \n",
       "153  1049.807550  1083.384077   932.847137   859.836816   730.518049   \n",
       "154   794.803224  1074.479630   890.432675   792.040132   675.661065   \n",
       "158  1118.145036  1082.963101  1274.547841  1167.185522   768.765636   \n",
       "163   449.385031   411.347601   560.246779   459.417619   270.892424   \n",
       "\n",
       "              35            36        37  39  \n",
       "4     465.555425  9.224363e+06  0.001658  N3  \n",
       "6    1048.574140  2.324112e+07  0.000369  N3  \n",
       "9     367.198218  3.268244e+07  0.000392  N3  \n",
       "14   1287.632856  4.220465e+07  0.001066  N3  \n",
       "20    254.441075  1.402703e+08  0.000571  N3  \n",
       "22    326.303332  3.574233e+08  0.000113  N3  \n",
       "29    548.070935  2.867187e+08  0.000065  N3  \n",
       "32    360.993817  2.020305e+08  0.000056  N3  \n",
       "41    350.101424  3.644143e+08  0.000212  N3  \n",
       "44    598.048333  9.533055e+07  0.000159  N3  \n",
       "47    363.520168  6.683818e+07  0.000195  N3  \n",
       "52   1396.628739  1.886213e+07  0.000228  N3  \n",
       "55     92.639052  1.967117e+07  0.000181  N3  \n",
       "56    533.690439  9.170754e+07  0.000226  N3  \n",
       "63    447.726223  1.532783e+09  0.000261  N3  \n",
       "65    291.012161  3.030377e+08  0.000256  N3  \n",
       "69    427.396602  9.360937e+06  0.000407  N3  \n",
       "77     43.032654  5.721059e+07  0.000639  N3  \n",
       "79    565.242040  3.889402e+07  0.000400  N3  \n",
       "82    546.895263  4.879537e+07  0.000291  N3  \n",
       "88    288.084486  1.020876e+07  0.000219  N3  \n",
       "91    617.692599  1.250906e+07  0.000206  N3  \n",
       "94    427.940223  2.291153e+07  0.000121  N3  \n",
       "96    129.802689  1.167292e+07  0.000173  N3  \n",
       "98    286.121791  2.376138e+07  0.000372  N3  \n",
       "102  1766.158443  4.743891e+05  0.000940  N3  \n",
       "106   307.205007  7.949271e+06  0.000346  N3  \n",
       "111   657.977234  5.047649e+06  0.003162  N3  \n",
       "113   424.540621  2.048876e+08  0.000277  N3  \n",
       "115  1591.044722  5.051843e+06  0.000230  N3  \n",
       "119   663.226873  2.203814e+06  0.000565  N3  \n",
       "121   216.778679  2.882108e+06  0.000623  N3  \n",
       "126   302.807136  1.635488e+08  0.000204  N3  \n",
       "130    51.094968  4.744499e+08  0.000126  N3  \n",
       "132   555.668905  4.273410e+07  0.000158  N3  \n",
       "137    25.364101  3.148235e+07  0.000190  N3  \n",
       "140   459.117927  2.925963e+07  0.000163  N3  \n",
       "145   577.772239  3.294283e+07  0.000260  N3  \n",
       "149   266.383254  4.062186e+07  0.000196  N3  \n",
       "153   677.864444  1.908625e+07  0.000203  N3  \n",
       "154   623.961387  2.925272e+07  0.000156  N3  \n",
       "158   805.499974  1.381545e+07  0.000045  N3  \n",
       "163   296.452757  6.754039e+06  0.000063  N3  \n",
       "\n",
       "[43 rows x 39 columns]"
      ]
     },
     "execution_count": 136,
     "metadata": {},
     "output_type": "execute_result"
    }
   ],
   "source": [
    "data_c"
   ]
  },
  {
   "cell_type": "code",
   "execution_count": 137,
   "id": "f7225f51",
   "metadata": {},
   "outputs": [],
   "source": [
    "# Standardize the data\n",
    "X = StandardScaler().fit_transform(data_c.iloc[:,:37])\n",
    "\n",
    "X_train=X[:int(len(X)*0.75)]"
   ]
  },
  {
   "cell_type": "code",
   "execution_count": 138,
   "id": "664b0295",
   "metadata": {},
   "outputs": [],
   "source": [
    "# Run local implementation of kmeans\n",
    "model = KMeans(n_clusters=2, max_iter=100, init='random',n_init=10)"
   ]
  },
  {
   "cell_type": "code",
   "execution_count": 139,
   "id": "b2cc0d36",
   "metadata": {},
   "outputs": [
    {
     "data": {
      "text/plain": [
       "KMeans(init='random', max_iter=100, n_clusters=2)"
      ]
     },
     "execution_count": 139,
     "metadata": {},
     "output_type": "execute_result"
    }
   ],
   "source": [
    "model.fit(X)"
   ]
  },
  {
   "cell_type": "code",
   "execution_count": 140,
   "id": "af93345e",
   "metadata": {},
   "outputs": [],
   "source": [
    "#Obtaining clusters centroid\n",
    "centroids = model.cluster_centers_"
   ]
  },
  {
   "cell_type": "code",
   "execution_count": 141,
   "id": "0b0a1073",
   "metadata": {},
   "outputs": [
    {
     "data": {
      "text/plain": [
       "array([[ 0.9022813 ,  0.94666278,  0.94364226,  0.96600637,  0.92142726,\n",
       "         0.91359058,  0.78781903,  0.86812783,  0.84073075,  0.91252208,\n",
       "         0.83504189,  0.84035134,  0.64084523,  0.83582256,  0.78937134,\n",
       "         0.83271777,  0.82464295,  0.82983492,  0.89916541,  0.94996185,\n",
       "         0.94533212,  0.96746171,  0.92697076,  0.91912787,  0.77404641,\n",
       "         0.86492543,  0.83912937,  0.91035214,  0.84266109,  0.84449831,\n",
       "         0.61796436,  0.83180087,  0.77590607,  0.83014204,  0.83089472,\n",
       "         0.83230979, -0.28308837],\n",
       "       [-0.64964254, -0.6815972 , -0.67942243, -0.69552458, -0.66342762,\n",
       "        -0.65778521, -0.5672297 , -0.62505204, -0.60532614, -0.65701589,\n",
       "        -0.60123016, -0.60505296, -0.46140856, -0.60179224, -0.56834737,\n",
       "        -0.5995568 , -0.59374292, -0.59748114, -0.64739909, -0.68397253,\n",
       "        -0.68063912, -0.69657243, -0.66741894, -0.66177207, -0.55731341,\n",
       "        -0.62274631, -0.60417314, -0.65545354, -0.60671598, -0.60803878,\n",
       "        -0.44493434, -0.59889663, -0.55865237, -0.59770227, -0.5982442 ,\n",
       "        -0.59926305,  0.20382363]])"
      ]
     },
     "execution_count": 141,
     "metadata": {},
     "output_type": "execute_result"
    }
   ],
   "source": [
    "centroids"
   ]
  },
  {
   "cell_type": "code",
   "execution_count": 142,
   "id": "9dfa7cb4",
   "metadata": {},
   "outputs": [
    {
     "data": {
      "text/plain": [
       "array([ 1.55192384,  1.62825998,  1.62306469,  1.66153095,  1.58485488,\n",
       "        1.57137579,  1.35504874,  1.49317986,  1.44605689,  1.56953797,\n",
       "        1.43627205,  1.44540431,  1.10225379,  1.43761481,  1.35771871,\n",
       "        1.43227457,  1.41838587,  1.42731607,  1.5465645 ,  1.63393438,\n",
       "        1.62597124,  1.66403414,  1.5943897 ,  1.58089994,  1.33135982,\n",
       "        1.48767174,  1.44330251,  1.56580567,  1.44937707,  1.45253709,\n",
       "        1.0628987 ,  1.4306975 ,  1.33455845,  1.42784432,  1.42913892,\n",
       "        1.43157284, -0.486912  ])"
      ]
     },
     "execution_count": 142,
     "metadata": {},
     "output_type": "execute_result"
    }
   ],
   "source": [
    "centroids[0]-centroids[1]"
   ]
  },
  {
   "cell_type": "code",
   "execution_count": 143,
   "id": "fc2353da",
   "metadata": {},
   "outputs": [],
   "source": [
    "#To obtain the labels of each cluster\n",
    "labels = model.labels_"
   ]
  },
  {
   "cell_type": "code",
   "execution_count": 144,
   "id": "d92199ea",
   "metadata": {
    "scrolled": false
   },
   "outputs": [
    {
     "data": {
      "text/plain": [
       "<matplotlib.legend.Legend at 0x7fa2be9241f0>"
      ]
     },
     "execution_count": 144,
     "metadata": {},
     "output_type": "execute_result"
    },
    {
     "data": {
      "image/png": "[encoded data removed]",
      "text/plain": [
       "<Figure size 720x504 with 1 Axes>"
      ]
     },
     "metadata": {
      "needs_background": "light"
     },
     "output_type": "display_data"
    }
   ],
   "source": [
    "# Creating figure\n",
    "fig = plt.figure(figsize = (10, 7))\n",
    "ax = plt.axes(projection =\"3d\")\n",
    "x=-2\n",
    "y=1\n",
    "z=30\n",
    "ax.scatter3D(X[labels>0][:,x],X[labels>0][:,y],X[labels>0][:,z],label=\"Group 1\")\n",
    "ax.scatter3D(centroids[1,x],centroids[1,y],centroids[1,0],label=\"Center 1\",marker='*')\n",
    "ax.scatter3D(X[labels<1][:,x],X[labels<1][:,y],X[labels<1][:,z],label=\"Group 2\")\n",
    "ax.scatter3D(centroids[0,x],centroids[0,y],centroids[0,z],label=\"Center 2\",marker='*')\n",
    "ax.set_ylabel(\"M\")\n",
    "ax.set_xlabel(\"Activity\")\n",
    "ax.set_zlabel(\"First frontal quintil\")\n",
    "ax.legend()\n"
   ]
  },
  {
   "cell_type": "markdown",
   "id": "6dc2a444",
   "metadata": {},
   "source": [
    "Observations:\n",
    "\n",
    "* The results are very similar to the ones obtained in the N2 stage\n",
    "* The first group corresponds to the more extreme data while the second one has the mayority of the sub-segments \n",
    "* All the parameters expect the mobility are higher in the first goup "
   ]
  },
  {
   "cell_type": "markdown",
   "id": "2da3769e",
   "metadata": {},
   "source": [
    "## Temporal lobe collapse"
   ]
  },
  {
   "cell_type": "markdown",
   "id": "5b64541d",
   "metadata": {},
   "source": [
    "To reduce the number of parameters we will collapse the parameters of the two temporal lobes into a single group. "
   ]
  },
  {
   "cell_type": "code",
   "execution_count": 168,
   "id": "bcc95375",
   "metadata": {},
   "outputs": [],
   "source": [
    "data=pd.read_csv(\"Extracted_data/Data_medians_4.csv\")\n",
    "del data['Unnamed: 0']\n",
    "del data['38']"
   ]
  },
  {
   "cell_type": "code",
   "execution_count": 169,
   "id": "abc7a974",
   "metadata": {},
   "outputs": [],
   "source": [
    "data_t=data"
   ]
  },
  {
   "cell_type": "code",
   "execution_count": 170,
   "id": "195c67dd",
   "metadata": {},
   "outputs": [
    {
     "data": {
      "text/html": [
       "<div>\n",
       "<style scoped>\n",
       "    .dataframe tbody tr th:only-of-type {\n",
       "        vertical-align: middle;\n",
       "    }\n",
       "\n",
       "    .dataframe tbody tr th {\n",
       "        vertical-align: top;\n",
       "    }\n",
       "\n",
       "    .dataframe thead th {\n",
       "        text-align: right;\n",
       "    }\n",
       "</style>\n",
       "<table border=\"1\" class=\"dataframe\">\n",
       "  <thead>\n",
       "    <tr style=\"text-align: right;\">\n",
       "      <th></th>\n",
       "      <th>0</th>\n",
       "      <th>1</th>\n",
       "      <th>2</th>\n",
       "      <th>3</th>\n",
       "      <th>4</th>\n",
       "      <th>5</th>\n",
       "      <th>6</th>\n",
       "      <th>7</th>\n",
       "      <th>8</th>\n",
       "      <th>9</th>\n",
       "      <th>...</th>\n",
       "      <th>29</th>\n",
       "      <th>30</th>\n",
       "      <th>31</th>\n",
       "      <th>32</th>\n",
       "      <th>33</th>\n",
       "      <th>34</th>\n",
       "      <th>35</th>\n",
       "      <th>36</th>\n",
       "      <th>37</th>\n",
       "      <th>39</th>\n",
       "    </tr>\n",
       "  </thead>\n",
       "  <tbody>\n",
       "    <tr>\n",
       "      <th>0</th>\n",
       "      <td>19.911429</td>\n",
       "      <td>21.826667</td>\n",
       "      <td>19.901111</td>\n",
       "      <td>19.076667</td>\n",
       "      <td>21.918889</td>\n",
       "      <td>14.850000</td>\n",
       "      <td>58.638571</td>\n",
       "      <td>60.644444</td>\n",
       "      <td>61.956667</td>\n",
       "      <td>57.580000</td>\n",
       "      <td>...</td>\n",
       "      <td>210.934721</td>\n",
       "      <td>627.235043</td>\n",
       "      <td>648.175431</td>\n",
       "      <td>626.022091</td>\n",
       "      <td>643.377231</td>\n",
       "      <td>540.470154</td>\n",
       "      <td>495.039453</td>\n",
       "      <td>4.422272e+07</td>\n",
       "      <td>0.001152</td>\n",
       "      <td>Awake</td>\n",
       "    </tr>\n",
       "    <tr>\n",
       "      <th>1</th>\n",
       "      <td>40.660000</td>\n",
       "      <td>35.816667</td>\n",
       "      <td>38.405556</td>\n",
       "      <td>42.591111</td>\n",
       "      <td>40.958889</td>\n",
       "      <td>37.191667</td>\n",
       "      <td>148.707143</td>\n",
       "      <td>114.740000</td>\n",
       "      <td>116.255556</td>\n",
       "      <td>180.642222</td>\n",
       "      <td>...</td>\n",
       "      <td>601.949326</td>\n",
       "      <td>2122.510839</td>\n",
       "      <td>1710.063114</td>\n",
       "      <td>1684.448166</td>\n",
       "      <td>3062.885569</td>\n",
       "      <td>2100.222584</td>\n",
       "      <td>1750.616297</td>\n",
       "      <td>2.508360e+06</td>\n",
       "      <td>0.002201</td>\n",
       "      <td>N2</td>\n",
       "    </tr>\n",
       "    <tr>\n",
       "      <th>2</th>\n",
       "      <td>28.203333</td>\n",
       "      <td>24.951111</td>\n",
       "      <td>25.603333</td>\n",
       "      <td>33.302222</td>\n",
       "      <td>28.286667</td>\n",
       "      <td>24.416667</td>\n",
       "      <td>104.157619</td>\n",
       "      <td>78.117778</td>\n",
       "      <td>77.450000</td>\n",
       "      <td>141.416667</td>\n",
       "      <td>...</td>\n",
       "      <td>395.701329</td>\n",
       "      <td>1433.984345</td>\n",
       "      <td>1147.643210</td>\n",
       "      <td>1131.199674</td>\n",
       "      <td>2268.983257</td>\n",
       "      <td>1375.903119</td>\n",
       "      <td>1170.567469</td>\n",
       "      <td>1.469640e+06</td>\n",
       "      <td>0.001673</td>\n",
       "      <td>REM</td>\n",
       "    </tr>\n",
       "    <tr>\n",
       "      <th>3</th>\n",
       "      <td>18.286190</td>\n",
       "      <td>16.575556</td>\n",
       "      <td>17.173333</td>\n",
       "      <td>22.212222</td>\n",
       "      <td>18.586667</td>\n",
       "      <td>15.928333</td>\n",
       "      <td>72.619048</td>\n",
       "      <td>55.015556</td>\n",
       "      <td>55.386667</td>\n",
       "      <td>98.113333</td>\n",
       "      <td>...</td>\n",
       "      <td>258.530174</td>\n",
       "      <td>951.861362</td>\n",
       "      <td>774.702891</td>\n",
       "      <td>776.389821</td>\n",
       "      <td>1493.072896</td>\n",
       "      <td>943.001124</td>\n",
       "      <td>787.208156</td>\n",
       "      <td>5.040967e+06</td>\n",
       "      <td>0.002785</td>\n",
       "      <td>N2</td>\n",
       "    </tr>\n",
       "    <tr>\n",
       "      <th>4</th>\n",
       "      <td>11.339524</td>\n",
       "      <td>10.327778</td>\n",
       "      <td>11.073333</td>\n",
       "      <td>9.653333</td>\n",
       "      <td>12.070000</td>\n",
       "      <td>10.046667</td>\n",
       "      <td>42.745238</td>\n",
       "      <td>33.640000</td>\n",
       "      <td>34.700000</td>\n",
       "      <td>37.300000</td>\n",
       "      <td>...</td>\n",
       "      <td>156.242749</td>\n",
       "      <td>587.817203</td>\n",
       "      <td>465.337699</td>\n",
       "      <td>467.104798</td>\n",
       "      <td>546.078070</td>\n",
       "      <td>612.918988</td>\n",
       "      <td>465.555425</td>\n",
       "      <td>9.224363e+06</td>\n",
       "      <td>0.001658</td>\n",
       "      <td>N3</td>\n",
       "    </tr>\n",
       "    <tr>\n",
       "      <th>...</th>\n",
       "      <td>...</td>\n",
       "      <td>...</td>\n",
       "      <td>...</td>\n",
       "      <td>...</td>\n",
       "      <td>...</td>\n",
       "      <td>...</td>\n",
       "      <td>...</td>\n",
       "      <td>...</td>\n",
       "      <td>...</td>\n",
       "      <td>...</td>\n",
       "      <td>...</td>\n",
       "      <td>...</td>\n",
       "      <td>...</td>\n",
       "      <td>...</td>\n",
       "      <td>...</td>\n",
       "      <td>...</td>\n",
       "      <td>...</td>\n",
       "      <td>...</td>\n",
       "      <td>...</td>\n",
       "      <td>...</td>\n",
       "      <td>...</td>\n",
       "    </tr>\n",
       "    <tr>\n",
       "      <th>160</th>\n",
       "      <td>23.572857</td>\n",
       "      <td>21.060000</td>\n",
       "      <td>22.835556</td>\n",
       "      <td>24.652222</td>\n",
       "      <td>19.970000</td>\n",
       "      <td>18.556667</td>\n",
       "      <td>62.023810</td>\n",
       "      <td>55.311111</td>\n",
       "      <td>62.484444</td>\n",
       "      <td>65.027778</td>\n",
       "      <td>...</td>\n",
       "      <td>233.876713</td>\n",
       "      <td>956.606279</td>\n",
       "      <td>901.840306</td>\n",
       "      <td>1079.626406</td>\n",
       "      <td>1000.445620</td>\n",
       "      <td>627.724242</td>\n",
       "      <td>663.898963</td>\n",
       "      <td>1.033058e+05</td>\n",
       "      <td>0.000996</td>\n",
       "      <td>REM</td>\n",
       "    </tr>\n",
       "    <tr>\n",
       "      <th>161</th>\n",
       "      <td>18.736190</td>\n",
       "      <td>16.664444</td>\n",
       "      <td>17.992222</td>\n",
       "      <td>19.476667</td>\n",
       "      <td>16.011111</td>\n",
       "      <td>14.800000</td>\n",
       "      <td>47.885238</td>\n",
       "      <td>42.373333</td>\n",
       "      <td>47.960000</td>\n",
       "      <td>49.993333</td>\n",
       "      <td>...</td>\n",
       "      <td>179.285611</td>\n",
       "      <td>731.916047</td>\n",
       "      <td>694.028468</td>\n",
       "      <td>835.901439</td>\n",
       "      <td>759.237127</td>\n",
       "      <td>474.306587</td>\n",
       "      <td>509.926345</td>\n",
       "      <td>3.701008e+04</td>\n",
       "      <td>0.000528</td>\n",
       "      <td>N1</td>\n",
       "    </tr>\n",
       "    <tr>\n",
       "      <th>162</th>\n",
       "      <td>14.926190</td>\n",
       "      <td>13.685556</td>\n",
       "      <td>14.278889</td>\n",
       "      <td>15.434444</td>\n",
       "      <td>12.957778</td>\n",
       "      <td>11.726667</td>\n",
       "      <td>37.418571</td>\n",
       "      <td>33.524444</td>\n",
       "      <td>37.350000</td>\n",
       "      <td>38.766667</td>\n",
       "      <td>...</td>\n",
       "      <td>137.755238</td>\n",
       "      <td>558.178258</td>\n",
       "      <td>505.701924</td>\n",
       "      <td>648.375509</td>\n",
       "      <td>566.989604</td>\n",
       "      <td>363.330987</td>\n",
       "      <td>390.608436</td>\n",
       "      <td>9.521701e+04</td>\n",
       "      <td>0.000363</td>\n",
       "      <td>N2</td>\n",
       "    </tr>\n",
       "    <tr>\n",
       "      <th>163</th>\n",
       "      <td>10.816190</td>\n",
       "      <td>9.702222</td>\n",
       "      <td>10.213333</td>\n",
       "      <td>10.985556</td>\n",
       "      <td>9.072222</td>\n",
       "      <td>8.145000</td>\n",
       "      <td>27.838095</td>\n",
       "      <td>24.458889</td>\n",
       "      <td>27.936667</td>\n",
       "      <td>28.534444</td>\n",
       "      <td>...</td>\n",
       "      <td>99.599288</td>\n",
       "      <td>449.385031</td>\n",
       "      <td>411.347601</td>\n",
       "      <td>560.246779</td>\n",
       "      <td>459.417619</td>\n",
       "      <td>270.892424</td>\n",
       "      <td>296.452757</td>\n",
       "      <td>6.754039e+06</td>\n",
       "      <td>0.000063</td>\n",
       "      <td>N3</td>\n",
       "    </tr>\n",
       "    <tr>\n",
       "      <th>164</th>\n",
       "      <td>4.886190</td>\n",
       "      <td>4.464444</td>\n",
       "      <td>4.621111</td>\n",
       "      <td>4.972222</td>\n",
       "      <td>4.191111</td>\n",
       "      <td>3.780000</td>\n",
       "      <td>12.803333</td>\n",
       "      <td>12.212222</td>\n",
       "      <td>13.241111</td>\n",
       "      <td>14.298889</td>\n",
       "      <td>...</td>\n",
       "      <td>41.261791</td>\n",
       "      <td>165.142991</td>\n",
       "      <td>188.748088</td>\n",
       "      <td>225.965814</td>\n",
       "      <td>206.167366</td>\n",
       "      <td>122.058242</td>\n",
       "      <td>109.744217</td>\n",
       "      <td>2.577399e+06</td>\n",
       "      <td>0.000092</td>\n",
       "      <td>N2</td>\n",
       "    </tr>\n",
       "  </tbody>\n",
       "</table>\n",
       "<p>165 rows × 39 columns</p>\n",
       "</div>"
      ],
      "text/plain": [
       "             0          1          2          3          4          5  \\\n",
       "0    19.911429  21.826667  19.901111  19.076667  21.918889  14.850000   \n",
       "1    40.660000  35.816667  38.405556  42.591111  40.958889  37.191667   \n",
       "2    28.203333  24.951111  25.603333  33.302222  28.286667  24.416667   \n",
       "3    18.286190  16.575556  17.173333  22.212222  18.586667  15.928333   \n",
       "4    11.339524  10.327778  11.073333   9.653333  12.070000  10.046667   \n",
       "..         ...        ...        ...        ...        ...        ...   \n",
       "160  23.572857  21.060000  22.835556  24.652222  19.970000  18.556667   \n",
       "161  18.736190  16.664444  17.992222  19.476667  16.011111  14.800000   \n",
       "162  14.926190  13.685556  14.278889  15.434444  12.957778  11.726667   \n",
       "163  10.816190   9.702222  10.213333  10.985556   9.072222   8.145000   \n",
       "164   4.886190   4.464444   4.621111   4.972222   4.191111   3.780000   \n",
       "\n",
       "              6           7           8           9  ...          29  \\\n",
       "0     58.638571   60.644444   61.956667   57.580000  ...  210.934721   \n",
       "1    148.707143  114.740000  116.255556  180.642222  ...  601.949326   \n",
       "2    104.157619   78.117778   77.450000  141.416667  ...  395.701329   \n",
       "3     72.619048   55.015556   55.386667   98.113333  ...  258.530174   \n",
       "4     42.745238   33.640000   34.700000   37.300000  ...  156.242749   \n",
       "..          ...         ...         ...         ...  ...         ...   \n",
       "160   62.023810   55.311111   62.484444   65.027778  ...  233.876713   \n",
       "161   47.885238   42.373333   47.960000   49.993333  ...  179.285611   \n",
       "162   37.418571   33.524444   37.350000   38.766667  ...  137.755238   \n",
       "163   27.838095   24.458889   27.936667   28.534444  ...   99.599288   \n",
       "164   12.803333   12.212222   13.241111   14.298889  ...   41.261791   \n",
       "\n",
       "              30           31           32           33           34  \\\n",
       "0     627.235043   648.175431   626.022091   643.377231   540.470154   \n",
       "1    2122.510839  1710.063114  1684.448166  3062.885569  2100.222584   \n",
       "2    1433.984345  1147.643210  1131.199674  2268.983257  1375.903119   \n",
       "3     951.861362   774.702891   776.389821  1493.072896   943.001124   \n",
       "4     587.817203   465.337699   467.104798   546.078070   612.918988   \n",
       "..           ...          ...          ...          ...          ...   \n",
       "160   956.606279   901.840306  1079.626406  1000.445620   627.724242   \n",
       "161   731.916047   694.028468   835.901439   759.237127   474.306587   \n",
       "162   558.178258   505.701924   648.375509   566.989604   363.330987   \n",
       "163   449.385031   411.347601   560.246779   459.417619   270.892424   \n",
       "164   165.142991   188.748088   225.965814   206.167366   122.058242   \n",
       "\n",
       "              35            36        37     39  \n",
       "0     495.039453  4.422272e+07  0.001152  Awake  \n",
       "1    1750.616297  2.508360e+06  0.002201     N2  \n",
       "2    1170.567469  1.469640e+06  0.001673    REM  \n",
       "3     787.208156  5.040967e+06  0.002785     N2  \n",
       "4     465.555425  9.224363e+06  0.001658     N3  \n",
       "..           ...           ...       ...    ...  \n",
       "160   663.898963  1.033058e+05  0.000996    REM  \n",
       "161   509.926345  3.701008e+04  0.000528     N1  \n",
       "162   390.608436  9.521701e+04  0.000363     N2  \n",
       "163   296.452757  6.754039e+06  0.000063     N3  \n",
       "164   109.744217  2.577399e+06  0.000092     N2  \n",
       "\n",
       "[165 rows x 39 columns]"
      ]
     },
     "execution_count": 170,
     "metadata": {},
     "output_type": "execute_result"
    }
   ],
   "source": [
    "data_t"
   ]
  },
  {
   "cell_type": "markdown",
   "id": "0bea6117",
   "metadata": {},
   "source": [
    "To collapse the values of both temporal lobes, we must find a way to calculate the averages and standard deviations of two groups of the same size. The average is pretty straightforward. Just remember the equations:"
   ]
  },
  {
   "cell_type": "markdown",
   "id": "645b8337",
   "metadata": {},
   "source": [
    "$M_1=\\frac{1}{n_1} \\sum_{n=1}^{n_1} X_n$"
   ]
  },
  {
   "cell_type": "markdown",
   "id": "757e46ab",
   "metadata": {},
   "source": [
    "$M_2=\\frac{1}{n_2} \\sum_{n=1}^{n_2} Y_n$"
   ]
  },
  {
   "cell_type": "markdown",
   "id": "4bda1127",
   "metadata": {},
   "source": [
    "$M_t= \\frac{1}{n_1+n_2} (\\sum_{n=1}^{n_1} X_n + \\sum_{n=1}^{n_2} Y_n)$"
   ]
  },
  {
   "cell_type": "markdown",
   "id": "9af199f6",
   "metadata": {},
   "source": [
    "Note that $n_1=n_2=N$, so:"
   ]
  },
  {
   "cell_type": "markdown",
   "id": "10517bb8",
   "metadata": {},
   "source": [
    "$M_t= \\frac{1}{2 N} (\\sum_{n=1}^{N} X_n + \\sum_{n=1}^{N} Y_n)$"
   ]
  },
  {
   "cell_type": "markdown",
   "id": "2bf54722",
   "metadata": {},
   "source": [
    "$\\therefore M_t=\\frac{M_1+M_2}{2}$"
   ]
  },
  {
   "cell_type": "code",
   "execution_count": 148,
   "id": "6c8049f3",
   "metadata": {},
   "outputs": [],
   "source": [
    "for i in range(0,len(data_t)):\n",
    "     #We collapse the averages of the first quintile\n",
    "    data_t.iloc[i,1]=(data.iloc[i,1]+data.iloc[i,2])/2\n",
    "     # We collapse the averages of the second quintile\n",
    "    data_t.iloc[i,7]=(data.iloc[i,7]+data.iloc[i,8])/2\n",
    "     # We collapse the averages of the third quintile\n",
    "    data_t.iloc[i,13]=(data.iloc[i,13]+data.iloc[i,14])/2\n",
    "    \n",
    "#Remove collapsed data columns\n",
    "del data_t['2']\n",
    "del data_t[\"8\"]\n",
    "del data_t[\"14\"]"
   ]
  },
  {
   "cell_type": "markdown",
   "id": "9e229457",
   "metadata": {},
   "source": [
    "Now we are going to collapse the standard deviations. Let us remember that:"
   ]
  },
  {
   "cell_type": "markdown",
   "id": "b6827b41",
   "metadata": {},
   "source": [
    "$S_1=\\sqrt{\\frac{1}{n_1}\\sum_{i=1}^{n_1}(x_i-\\bar{x}_1)^2}$"
   ]
  },
  {
   "cell_type": "markdown",
   "id": "f1aa7211",
   "metadata": {},
   "source": [
    "$S_2=\\sqrt{\\frac{1}{n_2}\\sum_{i=1}^{n_2}(y_i-\\bar{y}_2)^2}$"
   ]
  },
  {
   "cell_type": "markdown",
   "id": "157b5137",
   "metadata": {},
   "source": [
    "$S_t=\\sqrt{\\frac{1}{2N}\\sum_{i=1}^{N}(x_i-\\bar{y})^2+(y_i-\\bar{y})^2}$"
   ]
  },
  {
   "cell_type": "markdown",
   "id": "f38a5479",
   "metadata": {},
   "source": [
    "En donde $\\bar{y}=\\frac{\\bar{x}_1+\\bar{y}_2}{2}$"
   ]
  },
  {
   "cell_type": "markdown",
   "id": "592f4068",
   "metadata": {},
   "source": [
    "$\\rightarrow S_t= \\sqrt{\\frac{1}{2N}\\sum_{i=1}^{N}(x_i-\\frac{\\bar{x}_1+\\bar{y}_2}{2})^2+(y_i-\\frac{\\bar{x}_1+\\bar{y}_2}{2})^2}$"
   ]
  },
  {
   "cell_type": "markdown",
   "id": "914c6c8c",
   "metadata": {},
   "source": [
    "$\\rightarrow S_t= \\sqrt{\\frac{1}{2N}\\sum_{i=1}^{N}x_i^2-x_i(\\bar{x}_1+\\bar{y}_2)+\\frac{(\\bar{x}_1+\\bar{y}_2)^2}{4}+y_i^2-y_i(\\bar{x}_1+\\bar{y}_2)+\\frac{(\\bar{x}_1+\\bar{y}_2)^2}{4}}$"
   ]
  },
  {
   "cell_type": "markdown",
   "id": "2280f955",
   "metadata": {},
   "source": [
    "$\\rightarrow S_t= \\sqrt{\\frac{1}{2N}\\sum_{i=1}^{N}x_i^2-(x_i+y_i)(\\bar{x}_1+\\bar{y}_2)+\\frac{(\\bar{x}_1+\\bar{y}_2)^2}{2}+y_i^2}$"
   ]
  },
  {
   "cell_type": "markdown",
   "id": "ba594f9d",
   "metadata": {},
   "source": [
    "$\\rightarrow S_t= \\sqrt{\\frac{1}{2N}\\sum_{i=1}^{N}x_i^2-(x_i\\bar{x}_1+x_i\\bar{y}_2+y_i\\bar{x}_1+y_i\\bar{y}_2)+\\frac{(\\bar{x}_1+\\bar{y}_2)^2}{2}+y_i^2}$"
   ]
  },
  {
   "cell_type": "markdown",
   "id": "f642deea",
   "metadata": {},
   "source": [
    "From the standard deviations of the individual groups we can derive that:"
   ]
  },
  {
   "cell_type": "markdown",
   "id": "85d2da1e",
   "metadata": {},
   "source": [
    "$n_1 S_1^2=\\sum_{i=1}^{n_1}(x_i-\\bar{x})^2$"
   ]
  },
  {
   "cell_type": "markdown",
   "id": "57a7dc77",
   "metadata": {},
   "source": [
    "$n_2 S_2^2=\\sum_{i=1}^{n_2}(y_i-\\bar{y})^2$"
   ]
  },
  {
   "cell_type": "markdown",
   "id": "be5d122c",
   "metadata": {},
   "source": [
    "$S_t=\\sqrt{\\frac{1}{2N}(NS_1^2+NS_2^2+N(\\bar{y}_1−\\bar{y})^2+N(\\bar{y}_2−\\bar{y})^2)}$"
   ]
  },
  {
   "cell_type": "markdown",
   "id": "9ee73946",
   "metadata": {},
   "source": [
    "$\\therefore S_t=\\sqrt{\\frac{1}{2}(S_1^2+S_2^2+(\\bar{y}_1−\\bar{y})^2+(\\bar{y}_2−\\bar{y})^2)}$"
   ]
  },
  {
   "cell_type": "code",
   "execution_count": 149,
   "id": "eecab5be",
   "metadata": {},
   "outputs": [
    {
     "data": {
      "text/plain": [
       "20.863888888888887"
      ]
     },
     "execution_count": 149,
     "metadata": {},
     "output_type": "execute_result"
    }
   ],
   "source": [
    "data_t.loc[0,'1']"
   ]
  },
  {
   "cell_type": "code",
   "execution_count": 150,
   "id": "66f27613",
   "metadata": {},
   "outputs": [],
   "source": [
    "for i in range(0,len(data_t)):\n",
    "     #We collapse the standard deviations of the first quintile\n",
    "    data_t.iloc[i,19]=((data.iloc[i,19]**2+data.iloc[i,20]**2+(data.iloc[i,1]-data_t.loc[i ,'1'])**2+(data.iloc[i,2]-data_t.loc[i,'1'])**2)/2)**0.5\n",
    "     # We collapse the standard deviations of the second quintile\n",
    "    data_t.iloc[i,25]=((data.iloc[i,25]**2+data.iloc[i,26]**2+(data.iloc[i,7]-data_t.loc[i ,'7'])**2+(data.iloc[i,8]-data_t.loc[i,'7'])**2)/2)**0.5\n",
    "     # We collapse the standard deviations of the third quintile\n",
    "    data_t.iloc[i,31]=((data.iloc[i,31]**2+data.iloc[i,32]**2+(data.iloc[i,13]-data_t.loc[i ,'13'])**2+(data.iloc[i,14]-data_t.loc[i,'13'])**2)/2)**0.5\n",
    "    \n",
    "#Remove collapsed data columns\n",
    "del data_t['20']\n",
    "del data_t['26']\n",
    "del data_t['32']"
   ]
  },
  {
   "cell_type": "code",
   "execution_count": 151,
   "id": "6e5c9642",
   "metadata": {},
   "outputs": [
    {
     "data": {
      "text/plain": [
       "(165, 33)"
      ]
     },
     "execution_count": 151,
     "metadata": {},
     "output_type": "execute_result"
    }
   ],
   "source": [
    "np.shape(data_t)"
   ]
  },
  {
   "cell_type": "markdown",
   "id": "3f89e825",
   "metadata": {},
   "source": [
    "Notice that we managed to go down 6 dimensions."
   ]
  },
  {
   "cell_type": "markdown",
   "id": "54d45485",
   "metadata": {},
   "source": [
    "### K means"
   ]
  },
  {
   "cell_type": "code",
   "execution_count": 152,
   "id": "1655c2f5",
   "metadata": {},
   "outputs": [],
   "source": [
    "# 0: Awake\n",
    "# 1: N1\n",
    "# 2: N2\n",
    "# 3: N3\n",
    "# 4: REM\n",
    "\n",
    "for i in range(0,len(data_t)):\n",
    "    if data_t.iloc[i,-1]=='Awake':\n",
    "        data_t.iloc[i,-1]=0\n",
    "    elif data_t.iloc[i,-1]=='N1':\n",
    "        data_t.iloc[i,-1]=1\n",
    "    elif data_t.iloc[i,-1]=='N2':\n",
    "        data_t.iloc[i,-1]=2\n",
    "    elif data_t.iloc[i,-1]=='N3':\n",
    "        data_t.iloc[i,-1]=3\n",
    "    elif data_t.iloc[i,-1]=='REM':\n",
    "        data_t.iloc[i,-1]=4\n",
    "    else:\n",
    "        data_t.iloc[i,-1]=np.nan"
   ]
  },
  {
   "cell_type": "code",
   "execution_count": 153,
   "id": "c1cfef1c",
   "metadata": {},
   "outputs": [],
   "source": [
    "data_t2=data_t.dropna()"
   ]
  },
  {
   "cell_type": "code",
   "execution_count": 154,
   "id": "bfcb9e0d",
   "metadata": {},
   "outputs": [
    {
     "data": {
      "text/html": [
       "<div>\n",
       "<style scoped>\n",
       "    .dataframe tbody tr th:only-of-type {\n",
       "        vertical-align: middle;\n",
       "    }\n",
       "\n",
       "    .dataframe tbody tr th {\n",
       "        vertical-align: top;\n",
       "    }\n",
       "\n",
       "    .dataframe thead th {\n",
       "        text-align: right;\n",
       "    }\n",
       "</style>\n",
       "<table border=\"1\" class=\"dataframe\">\n",
       "  <thead>\n",
       "    <tr style=\"text-align: right;\">\n",
       "      <th></th>\n",
       "      <th>0</th>\n",
       "      <th>1</th>\n",
       "      <th>3</th>\n",
       "      <th>4</th>\n",
       "      <th>5</th>\n",
       "      <th>6</th>\n",
       "      <th>7</th>\n",
       "      <th>9</th>\n",
       "      <th>10</th>\n",
       "      <th>11</th>\n",
       "      <th>...</th>\n",
       "      <th>28</th>\n",
       "      <th>29</th>\n",
       "      <th>30</th>\n",
       "      <th>31</th>\n",
       "      <th>33</th>\n",
       "      <th>34</th>\n",
       "      <th>35</th>\n",
       "      <th>36</th>\n",
       "      <th>37</th>\n",
       "      <th>39</th>\n",
       "    </tr>\n",
       "  </thead>\n",
       "  <tbody>\n",
       "    <tr>\n",
       "      <th>0</th>\n",
       "      <td>19.911429</td>\n",
       "      <td>20.863889</td>\n",
       "      <td>19.076667</td>\n",
       "      <td>21.918889</td>\n",
       "      <td>14.850000</td>\n",
       "      <td>58.638571</td>\n",
       "      <td>61.300556</td>\n",
       "      <td>57.580000</td>\n",
       "      <td>54.570000</td>\n",
       "      <td>43.411667</td>\n",
       "      <td>...</td>\n",
       "      <td>240.741312</td>\n",
       "      <td>210.934721</td>\n",
       "      <td>627.235043</td>\n",
       "      <td>648.175431</td>\n",
       "      <td>643.377231</td>\n",
       "      <td>518.721683</td>\n",
       "      <td>495.039453</td>\n",
       "      <td>4.422272e+07</td>\n",
       "      <td>0.001152</td>\n",
       "      <td>0</td>\n",
       "    </tr>\n",
       "    <tr>\n",
       "      <th>1</th>\n",
       "      <td>40.660000</td>\n",
       "      <td>37.111111</td>\n",
       "      <td>42.591111</td>\n",
       "      <td>40.958889</td>\n",
       "      <td>37.191667</td>\n",
       "      <td>148.707143</td>\n",
       "      <td>115.497778</td>\n",
       "      <td>180.642222</td>\n",
       "      <td>136.624444</td>\n",
       "      <td>117.346667</td>\n",
       "      <td>...</td>\n",
       "      <td>663.806544</td>\n",
       "      <td>601.949326</td>\n",
       "      <td>2122.510839</td>\n",
       "      <td>1710.063114</td>\n",
       "      <td>3062.885569</td>\n",
       "      <td>1934.006195</td>\n",
       "      <td>1750.616297</td>\n",
       "      <td>2.508360e+06</td>\n",
       "      <td>0.002201</td>\n",
       "      <td>2</td>\n",
       "    </tr>\n",
       "    <tr>\n",
       "      <th>2</th>\n",
       "      <td>28.203333</td>\n",
       "      <td>25.277222</td>\n",
       "      <td>33.302222</td>\n",
       "      <td>28.286667</td>\n",
       "      <td>24.416667</td>\n",
       "      <td>104.157619</td>\n",
       "      <td>77.783889</td>\n",
       "      <td>141.416667</td>\n",
       "      <td>91.605556</td>\n",
       "      <td>77.440000</td>\n",
       "      <td>...</td>\n",
       "      <td>439.829679</td>\n",
       "      <td>395.701329</td>\n",
       "      <td>1433.984345</td>\n",
       "      <td>1147.643210</td>\n",
       "      <td>2268.983257</td>\n",
       "      <td>1277.791388</td>\n",
       "      <td>1170.567469</td>\n",
       "      <td>1.469640e+06</td>\n",
       "      <td>0.001673</td>\n",
       "      <td>4</td>\n",
       "    </tr>\n",
       "    <tr>\n",
       "      <th>3</th>\n",
       "      <td>18.286190</td>\n",
       "      <td>16.874444</td>\n",
       "      <td>22.212222</td>\n",
       "      <td>18.586667</td>\n",
       "      <td>15.928333</td>\n",
       "      <td>72.619048</td>\n",
       "      <td>55.201111</td>\n",
       "      <td>98.113333</td>\n",
       "      <td>65.053333</td>\n",
       "      <td>53.331667</td>\n",
       "      <td>...</td>\n",
       "      <td>293.769864</td>\n",
       "      <td>258.530174</td>\n",
       "      <td>951.861362</td>\n",
       "      <td>774.702891</td>\n",
       "      <td>1493.072896</td>\n",
       "      <td>868.889384</td>\n",
       "      <td>787.208156</td>\n",
       "      <td>5.040967e+06</td>\n",
       "      <td>0.002785</td>\n",
       "      <td>2</td>\n",
       "    </tr>\n",
       "    <tr>\n",
       "      <th>4</th>\n",
       "      <td>11.339524</td>\n",
       "      <td>10.700556</td>\n",
       "      <td>9.653333</td>\n",
       "      <td>12.070000</td>\n",
       "      <td>10.046667</td>\n",
       "      <td>42.745238</td>\n",
       "      <td>34.170000</td>\n",
       "      <td>37.300000</td>\n",
       "      <td>41.403333</td>\n",
       "      <td>33.041667</td>\n",
       "      <td>...</td>\n",
       "      <td>179.658886</td>\n",
       "      <td>156.242749</td>\n",
       "      <td>587.817203</td>\n",
       "      <td>465.337699</td>\n",
       "      <td>546.078070</td>\n",
       "      <td>544.583428</td>\n",
       "      <td>465.555425</td>\n",
       "      <td>9.224363e+06</td>\n",
       "      <td>0.001658</td>\n",
       "      <td>3</td>\n",
       "    </tr>\n",
       "    <tr>\n",
       "      <th>...</th>\n",
       "      <td>...</td>\n",
       "      <td>...</td>\n",
       "      <td>...</td>\n",
       "      <td>...</td>\n",
       "      <td>...</td>\n",
       "      <td>...</td>\n",
       "      <td>...</td>\n",
       "      <td>...</td>\n",
       "      <td>...</td>\n",
       "      <td>...</td>\n",
       "      <td>...</td>\n",
       "      <td>...</td>\n",
       "      <td>...</td>\n",
       "      <td>...</td>\n",
       "      <td>...</td>\n",
       "      <td>...</td>\n",
       "      <td>...</td>\n",
       "      <td>...</td>\n",
       "      <td>...</td>\n",
       "      <td>...</td>\n",
       "      <td>...</td>\n",
       "    </tr>\n",
       "    <tr>\n",
       "      <th>160</th>\n",
       "      <td>23.572857</td>\n",
       "      <td>21.947778</td>\n",
       "      <td>24.652222</td>\n",
       "      <td>19.970000</td>\n",
       "      <td>18.556667</td>\n",
       "      <td>62.023810</td>\n",
       "      <td>58.897778</td>\n",
       "      <td>65.027778</td>\n",
       "      <td>46.384444</td>\n",
       "      <td>46.100000</td>\n",
       "      <td>...</td>\n",
       "      <td>235.548155</td>\n",
       "      <td>233.876713</td>\n",
       "      <td>956.606279</td>\n",
       "      <td>901.840306</td>\n",
       "      <td>1000.445620</td>\n",
       "      <td>648.364502</td>\n",
       "      <td>663.898963</td>\n",
       "      <td>1.033058e+05</td>\n",
       "      <td>0.000996</td>\n",
       "      <td>4</td>\n",
       "    </tr>\n",
       "    <tr>\n",
       "      <th>161</th>\n",
       "      <td>18.736190</td>\n",
       "      <td>17.328333</td>\n",
       "      <td>19.476667</td>\n",
       "      <td>16.011111</td>\n",
       "      <td>14.800000</td>\n",
       "      <td>47.885238</td>\n",
       "      <td>45.166667</td>\n",
       "      <td>49.993333</td>\n",
       "      <td>35.975556</td>\n",
       "      <td>35.510000</td>\n",
       "      <td>...</td>\n",
       "      <td>180.235205</td>\n",
       "      <td>179.285611</td>\n",
       "      <td>731.916047</td>\n",
       "      <td>694.028468</td>\n",
       "      <td>759.237127</td>\n",
       "      <td>494.270849</td>\n",
       "      <td>509.926345</td>\n",
       "      <td>3.701008e+04</td>\n",
       "      <td>0.000528</td>\n",
       "      <td>1</td>\n",
       "    </tr>\n",
       "    <tr>\n",
       "      <th>162</th>\n",
       "      <td>14.926190</td>\n",
       "      <td>13.982222</td>\n",
       "      <td>15.434444</td>\n",
       "      <td>12.957778</td>\n",
       "      <td>11.726667</td>\n",
       "      <td>37.418571</td>\n",
       "      <td>35.437222</td>\n",
       "      <td>38.766667</td>\n",
       "      <td>28.706667</td>\n",
       "      <td>27.921667</td>\n",
       "      <td>...</td>\n",
       "      <td>139.774550</td>\n",
       "      <td>137.755238</td>\n",
       "      <td>558.178258</td>\n",
       "      <td>505.701924</td>\n",
       "      <td>566.989604</td>\n",
       "      <td>378.484287</td>\n",
       "      <td>390.608436</td>\n",
       "      <td>9.521701e+04</td>\n",
       "      <td>0.000363</td>\n",
       "      <td>2</td>\n",
       "    </tr>\n",
       "    <tr>\n",
       "      <th>163</th>\n",
       "      <td>10.816190</td>\n",
       "      <td>9.957778</td>\n",
       "      <td>10.985556</td>\n",
       "      <td>9.072222</td>\n",
       "      <td>8.145000</td>\n",
       "      <td>27.838095</td>\n",
       "      <td>26.197778</td>\n",
       "      <td>28.534444</td>\n",
       "      <td>20.034444</td>\n",
       "      <td>19.595000</td>\n",
       "      <td>...</td>\n",
       "      <td>101.098596</td>\n",
       "      <td>99.599288</td>\n",
       "      <td>449.385031</td>\n",
       "      <td>411.347601</td>\n",
       "      <td>459.417619</td>\n",
       "      <td>285.576327</td>\n",
       "      <td>296.452757</td>\n",
       "      <td>6.754039e+06</td>\n",
       "      <td>0.000063</td>\n",
       "      <td>3</td>\n",
       "    </tr>\n",
       "    <tr>\n",
       "      <th>164</th>\n",
       "      <td>4.886190</td>\n",
       "      <td>4.542778</td>\n",
       "      <td>4.972222</td>\n",
       "      <td>4.191111</td>\n",
       "      <td>3.780000</td>\n",
       "      <td>12.803333</td>\n",
       "      <td>12.726667</td>\n",
       "      <td>14.298889</td>\n",
       "      <td>10.335556</td>\n",
       "      <td>9.438333</td>\n",
       "      <td>...</td>\n",
       "      <td>43.916360</td>\n",
       "      <td>41.261791</td>\n",
       "      <td>165.142991</td>\n",
       "      <td>188.748088</td>\n",
       "      <td>206.167366</td>\n",
       "      <td>116.909527</td>\n",
       "      <td>109.744217</td>\n",
       "      <td>2.577399e+06</td>\n",
       "      <td>0.000092</td>\n",
       "      <td>2</td>\n",
       "    </tr>\n",
       "  </tbody>\n",
       "</table>\n",
       "<p>157 rows × 33 columns</p>\n",
       "</div>"
      ],
      "text/plain": [
       "             0          1          3          4          5           6  \\\n",
       "0    19.911429  20.863889  19.076667  21.918889  14.850000   58.638571   \n",
       "1    40.660000  37.111111  42.591111  40.958889  37.191667  148.707143   \n",
       "2    28.203333  25.277222  33.302222  28.286667  24.416667  104.157619   \n",
       "3    18.286190  16.874444  22.212222  18.586667  15.928333   72.619048   \n",
       "4    11.339524  10.700556   9.653333  12.070000  10.046667   42.745238   \n",
       "..         ...        ...        ...        ...        ...         ...   \n",
       "160  23.572857  21.947778  24.652222  19.970000  18.556667   62.023810   \n",
       "161  18.736190  17.328333  19.476667  16.011111  14.800000   47.885238   \n",
       "162  14.926190  13.982222  15.434444  12.957778  11.726667   37.418571   \n",
       "163  10.816190   9.957778  10.985556   9.072222   8.145000   27.838095   \n",
       "164   4.886190   4.542778   4.972222   4.191111   3.780000   12.803333   \n",
       "\n",
       "              7           9          10          11  ...          28  \\\n",
       "0     61.300556   57.580000   54.570000   43.411667  ...  240.741312   \n",
       "1    115.497778  180.642222  136.624444  117.346667  ...  663.806544   \n",
       "2     77.783889  141.416667   91.605556   77.440000  ...  439.829679   \n",
       "3     55.201111   98.113333   65.053333   53.331667  ...  293.769864   \n",
       "4     34.170000   37.300000   41.403333   33.041667  ...  179.658886   \n",
       "..          ...         ...         ...         ...  ...         ...   \n",
       "160   58.897778   65.027778   46.384444   46.100000  ...  235.548155   \n",
       "161   45.166667   49.993333   35.975556   35.510000  ...  180.235205   \n",
       "162   35.437222   38.766667   28.706667   27.921667  ...  139.774550   \n",
       "163   26.197778   28.534444   20.034444   19.595000  ...  101.098596   \n",
       "164   12.726667   14.298889   10.335556    9.438333  ...   43.916360   \n",
       "\n",
       "             29           30           31           33           34  \\\n",
       "0    210.934721   627.235043   648.175431   643.377231   518.721683   \n",
       "1    601.949326  2122.510839  1710.063114  3062.885569  1934.006195   \n",
       "2    395.701329  1433.984345  1147.643210  2268.983257  1277.791388   \n",
       "3    258.530174   951.861362   774.702891  1493.072896   868.889384   \n",
       "4    156.242749   587.817203   465.337699   546.078070   544.583428   \n",
       "..          ...          ...          ...          ...          ...   \n",
       "160  233.876713   956.606279   901.840306  1000.445620   648.364502   \n",
       "161  179.285611   731.916047   694.028468   759.237127   494.270849   \n",
       "162  137.755238   558.178258   505.701924   566.989604   378.484287   \n",
       "163   99.599288   449.385031   411.347601   459.417619   285.576327   \n",
       "164   41.261791   165.142991   188.748088   206.167366   116.909527   \n",
       "\n",
       "              35            36        37  39  \n",
       "0     495.039453  4.422272e+07  0.001152   0  \n",
       "1    1750.616297  2.508360e+06  0.002201   2  \n",
       "2    1170.567469  1.469640e+06  0.001673   4  \n",
       "3     787.208156  5.040967e+06  0.002785   2  \n",
       "4     465.555425  9.224363e+06  0.001658   3  \n",
       "..           ...           ...       ...  ..  \n",
       "160   663.898963  1.033058e+05  0.000996   4  \n",
       "161   509.926345  3.701008e+04  0.000528   1  \n",
       "162   390.608436  9.521701e+04  0.000363   2  \n",
       "163   296.452757  6.754039e+06  0.000063   3  \n",
       "164   109.744217  2.577399e+06  0.000092   2  \n",
       "\n",
       "[157 rows x 33 columns]"
      ]
     },
     "execution_count": 154,
     "metadata": {},
     "output_type": "execute_result"
    }
   ],
   "source": [
    "data_t2"
   ]
  },
  {
   "cell_type": "code",
   "execution_count": 155,
   "id": "0bd6205d",
   "metadata": {},
   "outputs": [],
   "source": [
    "# Standardize the data\n",
    "X = StandardScaler().fit_transform(data_t2.iloc[:,:32])\n",
    "\n",
    "Y=data_t2.iloc[:,-1].to_numpy()\n",
    "\n",
    "X_train=X[:int(len(X)*0.85)]\n",
    "X_test=X[int(len(X)*0.85):]\n",
    "\n",
    "Y_train=Y[:int(len(X)*0.85)]\n",
    "Y_test=Y[int(len(X)*0.85):]"
   ]
  },
  {
   "cell_type": "code",
   "execution_count": 156,
   "id": "83909571",
   "metadata": {},
   "outputs": [],
   "source": [
    "# Run local implementation of kmeans\n",
    "model = KMeans(n_clusters=5, max_iter=100, init='random',n_init=10)"
   ]
  },
  {
   "cell_type": "code",
   "execution_count": 157,
   "id": "54c8acda",
   "metadata": {},
   "outputs": [
    {
     "data": {
      "text/plain": [
       "KMeans(init='random', max_iter=100, n_clusters=5)"
      ]
     },
     "execution_count": 157,
     "metadata": {},
     "output_type": "execute_result"
    }
   ],
   "source": [
    "model.fit(X_train)"
   ]
  },
  {
   "cell_type": "code",
   "execution_count": 158,
   "id": "9b135d16",
   "metadata": {},
   "outputs": [],
   "source": [
    "#Obtaining clusters centroid\n",
    "centroids = model.cluster_centers_\n",
    "\n",
    "#To obtain the labels of each cluster\n",
    "labels = model.labels_"
   ]
  },
  {
   "cell_type": "code",
   "execution_count": 159,
   "id": "5fa43889",
   "metadata": {},
   "outputs": [],
   "source": [
    "y_pred=model.predict(X_train)"
   ]
  },
  {
   "cell_type": "code",
   "execution_count": 160,
   "id": "9759a421",
   "metadata": {
    "scrolled": true
   },
   "outputs": [
    {
     "data": {
      "image/png": "[encoded data removed]",
      "text/plain": [
       "<Figure size 432x288 with 2 Axes>"
      ]
     },
     "metadata": {
      "needs_background": "light"
     },
     "output_type": "display_data"
    }
   ],
   "source": [
    "confusion_matrix = pd.crosstab(Y_train, y_pred, rownames=['Actual'], colnames=['Predicted'])\n",
    "\n",
    "sns.heatmap(confusion_matrix, annot=True, cmap=\"Blues\")\n",
    "plt.show()"
   ]
  },
  {
   "cell_type": "markdown",
   "id": "dc97e578",
   "metadata": {},
   "source": [
    "Observations: \n",
    "\n",
    "* By adding the Hjorth parameters the accuracy to identify REM stages increased, however the N2 segment indentifiaction is worse. \n",
    "* Some N2 and N3 segments have similar properties to the awake class. \n",
    "* Other N2 segments were misidentified as REM."
   ]
  },
  {
   "cell_type": "markdown",
   "id": "29a9e19a",
   "metadata": {},
   "source": [
    "### K neighbors"
   ]
  },
  {
   "cell_type": "markdown",
   "id": "ac87c3aa",
   "metadata": {},
   "source": [
    "Now we will try a clustering by neighbors method. By using this type of algorithm we hope to be able to find a big difference between the awake, NREM, and REM segments. Classification between NREM stages (N1, N2, N3) might not be accurate because they correspond to gradual progress. This means that some points of an N2 stage might be closer to an N3 segment than another N2 segment. "
   ]
  },
  {
   "cell_type": "code",
   "execution_count": 171,
   "id": "a4249dc0",
   "metadata": {},
   "outputs": [],
   "source": [
    "for i in range(0,len(data_t)):\n",
    "    if data_t.iloc[i,-1]!='Awake':\n",
    "        if data_t.iloc[i,-1]!='N2':\n",
    "            if data_t.iloc[i,-1]!='N3':\n",
    "                if data_t.iloc[i,-1]!='REM':\n",
    "                    data_t.iloc[i,-1]=np.nan"
   ]
  },
  {
   "cell_type": "code",
   "execution_count": 172,
   "id": "90e35149",
   "metadata": {},
   "outputs": [
    {
     "data": {
      "text/html": [
       "<div>\n",
       "<style scoped>\n",
       "    .dataframe tbody tr th:only-of-type {\n",
       "        vertical-align: middle;\n",
       "    }\n",
       "\n",
       "    .dataframe tbody tr th {\n",
       "        vertical-align: top;\n",
       "    }\n",
       "\n",
       "    .dataframe thead th {\n",
       "        text-align: right;\n",
       "    }\n",
       "</style>\n",
       "<table border=\"1\" class=\"dataframe\">\n",
       "  <thead>\n",
       "    <tr style=\"text-align: right;\">\n",
       "      <th></th>\n",
       "      <th>0</th>\n",
       "      <th>1</th>\n",
       "      <th>2</th>\n",
       "      <th>3</th>\n",
       "      <th>4</th>\n",
       "      <th>5</th>\n",
       "      <th>6</th>\n",
       "      <th>7</th>\n",
       "      <th>8</th>\n",
       "      <th>9</th>\n",
       "      <th>...</th>\n",
       "      <th>29</th>\n",
       "      <th>30</th>\n",
       "      <th>31</th>\n",
       "      <th>32</th>\n",
       "      <th>33</th>\n",
       "      <th>34</th>\n",
       "      <th>35</th>\n",
       "      <th>36</th>\n",
       "      <th>37</th>\n",
       "      <th>39</th>\n",
       "    </tr>\n",
       "  </thead>\n",
       "  <tbody>\n",
       "    <tr>\n",
       "      <th>0</th>\n",
       "      <td>19.911429</td>\n",
       "      <td>21.826667</td>\n",
       "      <td>19.901111</td>\n",
       "      <td>19.076667</td>\n",
       "      <td>21.918889</td>\n",
       "      <td>14.850000</td>\n",
       "      <td>58.638571</td>\n",
       "      <td>60.644444</td>\n",
       "      <td>61.956667</td>\n",
       "      <td>57.580000</td>\n",
       "      <td>...</td>\n",
       "      <td>210.934721</td>\n",
       "      <td>627.235043</td>\n",
       "      <td>648.175431</td>\n",
       "      <td>626.022091</td>\n",
       "      <td>643.377231</td>\n",
       "      <td>540.470154</td>\n",
       "      <td>495.039453</td>\n",
       "      <td>4.422272e+07</td>\n",
       "      <td>0.001152</td>\n",
       "      <td>Awake</td>\n",
       "    </tr>\n",
       "    <tr>\n",
       "      <th>1</th>\n",
       "      <td>40.660000</td>\n",
       "      <td>35.816667</td>\n",
       "      <td>38.405556</td>\n",
       "      <td>42.591111</td>\n",
       "      <td>40.958889</td>\n",
       "      <td>37.191667</td>\n",
       "      <td>148.707143</td>\n",
       "      <td>114.740000</td>\n",
       "      <td>116.255556</td>\n",
       "      <td>180.642222</td>\n",
       "      <td>...</td>\n",
       "      <td>601.949326</td>\n",
       "      <td>2122.510839</td>\n",
       "      <td>1710.063114</td>\n",
       "      <td>1684.448166</td>\n",
       "      <td>3062.885569</td>\n",
       "      <td>2100.222584</td>\n",
       "      <td>1750.616297</td>\n",
       "      <td>2.508360e+06</td>\n",
       "      <td>0.002201</td>\n",
       "      <td>N2</td>\n",
       "    </tr>\n",
       "    <tr>\n",
       "      <th>2</th>\n",
       "      <td>28.203333</td>\n",
       "      <td>24.951111</td>\n",
       "      <td>25.603333</td>\n",
       "      <td>33.302222</td>\n",
       "      <td>28.286667</td>\n",
       "      <td>24.416667</td>\n",
       "      <td>104.157619</td>\n",
       "      <td>78.117778</td>\n",
       "      <td>77.450000</td>\n",
       "      <td>141.416667</td>\n",
       "      <td>...</td>\n",
       "      <td>395.701329</td>\n",
       "      <td>1433.984345</td>\n",
       "      <td>1147.643210</td>\n",
       "      <td>1131.199674</td>\n",
       "      <td>2268.983257</td>\n",
       "      <td>1375.903119</td>\n",
       "      <td>1170.567469</td>\n",
       "      <td>1.469640e+06</td>\n",
       "      <td>0.001673</td>\n",
       "      <td>REM</td>\n",
       "    </tr>\n",
       "    <tr>\n",
       "      <th>3</th>\n",
       "      <td>18.286190</td>\n",
       "      <td>16.575556</td>\n",
       "      <td>17.173333</td>\n",
       "      <td>22.212222</td>\n",
       "      <td>18.586667</td>\n",
       "      <td>15.928333</td>\n",
       "      <td>72.619048</td>\n",
       "      <td>55.015556</td>\n",
       "      <td>55.386667</td>\n",
       "      <td>98.113333</td>\n",
       "      <td>...</td>\n",
       "      <td>258.530174</td>\n",
       "      <td>951.861362</td>\n",
       "      <td>774.702891</td>\n",
       "      <td>776.389821</td>\n",
       "      <td>1493.072896</td>\n",
       "      <td>943.001124</td>\n",
       "      <td>787.208156</td>\n",
       "      <td>5.040967e+06</td>\n",
       "      <td>0.002785</td>\n",
       "      <td>N2</td>\n",
       "    </tr>\n",
       "    <tr>\n",
       "      <th>4</th>\n",
       "      <td>11.339524</td>\n",
       "      <td>10.327778</td>\n",
       "      <td>11.073333</td>\n",
       "      <td>9.653333</td>\n",
       "      <td>12.070000</td>\n",
       "      <td>10.046667</td>\n",
       "      <td>42.745238</td>\n",
       "      <td>33.640000</td>\n",
       "      <td>34.700000</td>\n",
       "      <td>37.300000</td>\n",
       "      <td>...</td>\n",
       "      <td>156.242749</td>\n",
       "      <td>587.817203</td>\n",
       "      <td>465.337699</td>\n",
       "      <td>467.104798</td>\n",
       "      <td>546.078070</td>\n",
       "      <td>612.918988</td>\n",
       "      <td>465.555425</td>\n",
       "      <td>9.224363e+06</td>\n",
       "      <td>0.001658</td>\n",
       "      <td>N3</td>\n",
       "    </tr>\n",
       "    <tr>\n",
       "      <th>...</th>\n",
       "      <td>...</td>\n",
       "      <td>...</td>\n",
       "      <td>...</td>\n",
       "      <td>...</td>\n",
       "      <td>...</td>\n",
       "      <td>...</td>\n",
       "      <td>...</td>\n",
       "      <td>...</td>\n",
       "      <td>...</td>\n",
       "      <td>...</td>\n",
       "      <td>...</td>\n",
       "      <td>...</td>\n",
       "      <td>...</td>\n",
       "      <td>...</td>\n",
       "      <td>...</td>\n",
       "      <td>...</td>\n",
       "      <td>...</td>\n",
       "      <td>...</td>\n",
       "      <td>...</td>\n",
       "      <td>...</td>\n",
       "      <td>...</td>\n",
       "    </tr>\n",
       "    <tr>\n",
       "      <th>160</th>\n",
       "      <td>23.572857</td>\n",
       "      <td>21.060000</td>\n",
       "      <td>22.835556</td>\n",
       "      <td>24.652222</td>\n",
       "      <td>19.970000</td>\n",
       "      <td>18.556667</td>\n",
       "      <td>62.023810</td>\n",
       "      <td>55.311111</td>\n",
       "      <td>62.484444</td>\n",
       "      <td>65.027778</td>\n",
       "      <td>...</td>\n",
       "      <td>233.876713</td>\n",
       "      <td>956.606279</td>\n",
       "      <td>901.840306</td>\n",
       "      <td>1079.626406</td>\n",
       "      <td>1000.445620</td>\n",
       "      <td>627.724242</td>\n",
       "      <td>663.898963</td>\n",
       "      <td>1.033058e+05</td>\n",
       "      <td>0.000996</td>\n",
       "      <td>REM</td>\n",
       "    </tr>\n",
       "    <tr>\n",
       "      <th>161</th>\n",
       "      <td>18.736190</td>\n",
       "      <td>16.664444</td>\n",
       "      <td>17.992222</td>\n",
       "      <td>19.476667</td>\n",
       "      <td>16.011111</td>\n",
       "      <td>14.800000</td>\n",
       "      <td>47.885238</td>\n",
       "      <td>42.373333</td>\n",
       "      <td>47.960000</td>\n",
       "      <td>49.993333</td>\n",
       "      <td>...</td>\n",
       "      <td>179.285611</td>\n",
       "      <td>731.916047</td>\n",
       "      <td>694.028468</td>\n",
       "      <td>835.901439</td>\n",
       "      <td>759.237127</td>\n",
       "      <td>474.306587</td>\n",
       "      <td>509.926345</td>\n",
       "      <td>3.701008e+04</td>\n",
       "      <td>0.000528</td>\n",
       "      <td>NaN</td>\n",
       "    </tr>\n",
       "    <tr>\n",
       "      <th>162</th>\n",
       "      <td>14.926190</td>\n",
       "      <td>13.685556</td>\n",
       "      <td>14.278889</td>\n",
       "      <td>15.434444</td>\n",
       "      <td>12.957778</td>\n",
       "      <td>11.726667</td>\n",
       "      <td>37.418571</td>\n",
       "      <td>33.524444</td>\n",
       "      <td>37.350000</td>\n",
       "      <td>38.766667</td>\n",
       "      <td>...</td>\n",
       "      <td>137.755238</td>\n",
       "      <td>558.178258</td>\n",
       "      <td>505.701924</td>\n",
       "      <td>648.375509</td>\n",
       "      <td>566.989604</td>\n",
       "      <td>363.330987</td>\n",
       "      <td>390.608436</td>\n",
       "      <td>9.521701e+04</td>\n",
       "      <td>0.000363</td>\n",
       "      <td>N2</td>\n",
       "    </tr>\n",
       "    <tr>\n",
       "      <th>163</th>\n",
       "      <td>10.816190</td>\n",
       "      <td>9.702222</td>\n",
       "      <td>10.213333</td>\n",
       "      <td>10.985556</td>\n",
       "      <td>9.072222</td>\n",
       "      <td>8.145000</td>\n",
       "      <td>27.838095</td>\n",
       "      <td>24.458889</td>\n",
       "      <td>27.936667</td>\n",
       "      <td>28.534444</td>\n",
       "      <td>...</td>\n",
       "      <td>99.599288</td>\n",
       "      <td>449.385031</td>\n",
       "      <td>411.347601</td>\n",
       "      <td>560.246779</td>\n",
       "      <td>459.417619</td>\n",
       "      <td>270.892424</td>\n",
       "      <td>296.452757</td>\n",
       "      <td>6.754039e+06</td>\n",
       "      <td>0.000063</td>\n",
       "      <td>N3</td>\n",
       "    </tr>\n",
       "    <tr>\n",
       "      <th>164</th>\n",
       "      <td>4.886190</td>\n",
       "      <td>4.464444</td>\n",
       "      <td>4.621111</td>\n",
       "      <td>4.972222</td>\n",
       "      <td>4.191111</td>\n",
       "      <td>3.780000</td>\n",
       "      <td>12.803333</td>\n",
       "      <td>12.212222</td>\n",
       "      <td>13.241111</td>\n",
       "      <td>14.298889</td>\n",
       "      <td>...</td>\n",
       "      <td>41.261791</td>\n",
       "      <td>165.142991</td>\n",
       "      <td>188.748088</td>\n",
       "      <td>225.965814</td>\n",
       "      <td>206.167366</td>\n",
       "      <td>122.058242</td>\n",
       "      <td>109.744217</td>\n",
       "      <td>2.577399e+06</td>\n",
       "      <td>0.000092</td>\n",
       "      <td>N2</td>\n",
       "    </tr>\n",
       "  </tbody>\n",
       "</table>\n",
       "<p>165 rows × 39 columns</p>\n",
       "</div>"
      ],
      "text/plain": [
       "             0          1          2          3          4          5  \\\n",
       "0    19.911429  21.826667  19.901111  19.076667  21.918889  14.850000   \n",
       "1    40.660000  35.816667  38.405556  42.591111  40.958889  37.191667   \n",
       "2    28.203333  24.951111  25.603333  33.302222  28.286667  24.416667   \n",
       "3    18.286190  16.575556  17.173333  22.212222  18.586667  15.928333   \n",
       "4    11.339524  10.327778  11.073333   9.653333  12.070000  10.046667   \n",
       "..         ...        ...        ...        ...        ...        ...   \n",
       "160  23.572857  21.060000  22.835556  24.652222  19.970000  18.556667   \n",
       "161  18.736190  16.664444  17.992222  19.476667  16.011111  14.800000   \n",
       "162  14.926190  13.685556  14.278889  15.434444  12.957778  11.726667   \n",
       "163  10.816190   9.702222  10.213333  10.985556   9.072222   8.145000   \n",
       "164   4.886190   4.464444   4.621111   4.972222   4.191111   3.780000   \n",
       "\n",
       "              6           7           8           9  ...          29  \\\n",
       "0     58.638571   60.644444   61.956667   57.580000  ...  210.934721   \n",
       "1    148.707143  114.740000  116.255556  180.642222  ...  601.949326   \n",
       "2    104.157619   78.117778   77.450000  141.416667  ...  395.701329   \n",
       "3     72.619048   55.015556   55.386667   98.113333  ...  258.530174   \n",
       "4     42.745238   33.640000   34.700000   37.300000  ...  156.242749   \n",
       "..          ...         ...         ...         ...  ...         ...   \n",
       "160   62.023810   55.311111   62.484444   65.027778  ...  233.876713   \n",
       "161   47.885238   42.373333   47.960000   49.993333  ...  179.285611   \n",
       "162   37.418571   33.524444   37.350000   38.766667  ...  137.755238   \n",
       "163   27.838095   24.458889   27.936667   28.534444  ...   99.599288   \n",
       "164   12.803333   12.212222   13.241111   14.298889  ...   41.261791   \n",
       "\n",
       "              30           31           32           33           34  \\\n",
       "0     627.235043   648.175431   626.022091   643.377231   540.470154   \n",
       "1    2122.510839  1710.063114  1684.448166  3062.885569  2100.222584   \n",
       "2    1433.984345  1147.643210  1131.199674  2268.983257  1375.903119   \n",
       "3     951.861362   774.702891   776.389821  1493.072896   943.001124   \n",
       "4     587.817203   465.337699   467.104798   546.078070   612.918988   \n",
       "..           ...          ...          ...          ...          ...   \n",
       "160   956.606279   901.840306  1079.626406  1000.445620   627.724242   \n",
       "161   731.916047   694.028468   835.901439   759.237127   474.306587   \n",
       "162   558.178258   505.701924   648.375509   566.989604   363.330987   \n",
       "163   449.385031   411.347601   560.246779   459.417619   270.892424   \n",
       "164   165.142991   188.748088   225.965814   206.167366   122.058242   \n",
       "\n",
       "              35            36        37     39  \n",
       "0     495.039453  4.422272e+07  0.001152  Awake  \n",
       "1    1750.616297  2.508360e+06  0.002201     N2  \n",
       "2    1170.567469  1.469640e+06  0.001673    REM  \n",
       "3     787.208156  5.040967e+06  0.002785     N2  \n",
       "4     465.555425  9.224363e+06  0.001658     N3  \n",
       "..           ...           ...       ...    ...  \n",
       "160   663.898963  1.033058e+05  0.000996    REM  \n",
       "161   509.926345  3.701008e+04  0.000528    NaN  \n",
       "162   390.608436  9.521701e+04  0.000363     N2  \n",
       "163   296.452757  6.754039e+06  0.000063     N3  \n",
       "164   109.744217  2.577399e+06  0.000092     N2  \n",
       "\n",
       "[165 rows x 39 columns]"
      ]
     },
     "execution_count": 172,
     "metadata": {},
     "output_type": "execute_result"
    }
   ],
   "source": [
    "data_t"
   ]
  },
  {
   "cell_type": "code",
   "execution_count": 173,
   "id": "66c7d26b",
   "metadata": {},
   "outputs": [],
   "source": [
    "data_t3=data_t.dropna()"
   ]
  },
  {
   "cell_type": "code",
   "execution_count": 174,
   "id": "08dacec5",
   "metadata": {},
   "outputs": [],
   "source": [
    "# Standardize the data\n",
    "X = StandardScaler().fit_transform(data_t3.iloc[:,:32])\n",
    "\n",
    "Y=data_t3.iloc[:,-1].to_numpy()\n",
    "\n",
    "X_train=X[:int(len(X)*0.75)]\n",
    "X_test=X[int(len(X)*0.75):]\n",
    "\n",
    "Y_train=Y[:int(len(X)*0.75)]\n",
    "Y_test=Y[int(len(X)*0.75):]"
   ]
  },
  {
   "cell_type": "code",
   "execution_count": 175,
   "id": "87211d1c",
   "metadata": {},
   "outputs": [],
   "source": [
    "k_neighbor=KNeighborsClassifier(5)"
   ]
  },
  {
   "cell_type": "code",
   "execution_count": 176,
   "id": "6b54c6a5",
   "metadata": {},
   "outputs": [
    {
     "name": "stdout",
     "output_type": "stream",
     "text": [
      "(113, 32)\n",
      "(113,)\n"
     ]
    }
   ],
   "source": [
    "print(np.shape(X_train))\n",
    "print(np.shape(Y_train))"
   ]
  },
  {
   "cell_type": "code",
   "execution_count": 177,
   "id": "be7df12a",
   "metadata": {},
   "outputs": [
    {
     "data": {
      "text/plain": [
       "KNeighborsClassifier()"
      ]
     },
     "execution_count": 177,
     "metadata": {},
     "output_type": "execute_result"
    }
   ],
   "source": [
    "k_neighbor.fit(X_train,Y_train)"
   ]
  },
  {
   "cell_type": "code",
   "execution_count": 178,
   "id": "cd799997",
   "metadata": {},
   "outputs": [],
   "source": [
    "y_pred=k_neighbor.predict(X_train)"
   ]
  },
  {
   "cell_type": "code",
   "execution_count": 179,
   "id": "8b8a398a",
   "metadata": {},
   "outputs": [
    {
     "data": {
      "image/png": "[encoded data removed]",
      "text/plain": [
       "<Figure size 432x288 with 2 Axes>"
      ]
     },
     "metadata": {
      "needs_background": "light"
     },
     "output_type": "display_data"
    }
   ],
   "source": [
    "confusion_matrix = pd.crosstab(Y_train, y_pred, rownames=['Actual'], colnames=['Predicted'])\n",
    "\n",
    "sns.heatmap(confusion_matrix, annot=True, cmap=\"Blues\")\n",
    "plt.show()"
   ]
  },
  {
   "cell_type": "code",
   "execution_count": 180,
   "id": "1320a55b",
   "metadata": {},
   "outputs": [
    {
     "data": {
      "text/plain": [
       "0.46017699115044247"
      ]
     },
     "execution_count": 180,
     "metadata": {},
     "output_type": "execute_result"
    }
   ],
   "source": [
    "sum(confusion_matrix.iloc[i,i] for i in range(0,len(confusion_matrix)))/len(Y_train)"
   ]
  },
  {
   "cell_type": "code",
   "execution_count": 181,
   "id": "9b66f734",
   "metadata": {},
   "outputs": [],
   "source": [
    "y_pred=k_neighbor.predict(X_test)"
   ]
  },
  {
   "cell_type": "code",
   "execution_count": 182,
   "id": "5fa697cb",
   "metadata": {},
   "outputs": [
    {
     "data": {
      "image/png": "[encoded data removed]",
      "text/plain": [
       "<Figure size 432x288 with 2 Axes>"
      ]
     },
     "metadata": {
      "needs_background": "light"
     },
     "output_type": "display_data"
    }
   ],
   "source": [
    "confusion_matrix = pd.crosstab(Y_test, y_pred, rownames=['Actual'], colnames=['Predicted'])\n",
    "\n",
    "sns.heatmap(confusion_matrix, annot=True, cmap=\"Blues\")\n",
    "plt.show()"
   ]
  },
  {
   "cell_type": "code",
   "execution_count": 183,
   "id": "863bcfd8",
   "metadata": {},
   "outputs": [
    {
     "data": {
      "text/plain": [
       "0.34210526315789475"
      ]
     },
     "execution_count": 183,
     "metadata": {},
     "output_type": "execute_result"
    }
   ],
   "source": [
    "sum(confusion_matrix.iloc[i,i] for i in range(0,len(confusion_matrix)))/len(Y_test)"
   ]
  },
  {
   "cell_type": "markdown",
   "id": "a2a124d1",
   "metadata": {},
   "source": [
    "Observations:\n",
    "* Our initial hypothesis proved to be completely wrong. The results concluded the opposite to what we expected. \n",
    "* Differences beween N2 and N3 segments was outstanding. The identification of REM and Awake segments was an absolute caos. Most of the REM segments were classified as N2 and most of the awake sagments were classified as N3. "
   ]
  },
  {
   "cell_type": "markdown",
   "id": "1ae015b2",
   "metadata": {},
   "source": [
    "### N1 vs N2 vs REM"
   ]
  },
  {
   "cell_type": "markdown",
   "id": "70851a5e",
   "metadata": {},
   "source": [
    "Now we will try the same neighbors clustering analysis but excluding the awake segments. To distinguish between awake and asleep an ECG is a far better method than an EEG. "
   ]
  },
  {
   "cell_type": "code",
   "execution_count": 184,
   "id": "a7df525e",
   "metadata": {},
   "outputs": [],
   "source": [
    "for i in range(0,len(data_t)):\n",
    "    if data_t.iloc[i,-1]!='N2':\n",
    "        if data_t.iloc[i,-1]!='N3':\n",
    "            if data_t.iloc[i,-1]!='REM':\n",
    "                data_t.iloc[i,-1]=np.nan"
   ]
  },
  {
   "cell_type": "code",
   "execution_count": 185,
   "id": "59d55b2e",
   "metadata": {},
   "outputs": [],
   "source": [
    "data_t4=data_t.dropna()"
   ]
  },
  {
   "cell_type": "code",
   "execution_count": 186,
   "id": "f9f44cfd",
   "metadata": {},
   "outputs": [],
   "source": [
    "# Standardize the data\n",
    "X = StandardScaler().fit_transform(data_t4.iloc[:,:32])\n",
    "\n",
    "Y=data_t4.iloc[:,-1].to_numpy()\n",
    "\n",
    "X_train=X[:int(len(X)*0.75)]\n",
    "X_test=X[int(len(X)*0.75):]\n",
    "\n",
    "Y_train=Y[:int(len(X)*0.75)]\n",
    "Y_test=Y[int(len(X)*0.75):]"
   ]
  },
  {
   "cell_type": "code",
   "execution_count": 187,
   "id": "6b618d15",
   "metadata": {},
   "outputs": [],
   "source": [
    "k_neighbor=KNeighborsClassifier(3)"
   ]
  },
  {
   "cell_type": "code",
   "execution_count": 188,
   "id": "3c0173c3",
   "metadata": {},
   "outputs": [
    {
     "name": "stdout",
     "output_type": "stream",
     "text": [
      "(91, 32)\n",
      "(91,)\n"
     ]
    }
   ],
   "source": [
    "print(np.shape(X_train))\n",
    "print(np.shape(Y_train))"
   ]
  },
  {
   "cell_type": "code",
   "execution_count": 189,
   "id": "a96a7abd",
   "metadata": {},
   "outputs": [
    {
     "data": {
      "text/plain": [
       "KNeighborsClassifier(n_neighbors=3)"
      ]
     },
     "execution_count": 189,
     "metadata": {},
     "output_type": "execute_result"
    }
   ],
   "source": [
    "k_neighbor.fit(X_train,Y_train)"
   ]
  },
  {
   "cell_type": "code",
   "execution_count": 190,
   "id": "60d910ea",
   "metadata": {},
   "outputs": [],
   "source": [
    "y_pred=k_neighbor.predict(X_train)"
   ]
  },
  {
   "cell_type": "code",
   "execution_count": 191,
   "id": "15db1ea8",
   "metadata": {},
   "outputs": [
    {
     "data": {
      "image/png": "[encoded data removed]",
      "text/plain": [
       "<Figure size 432x288 with 2 Axes>"
      ]
     },
     "metadata": {
      "needs_background": "light"
     },
     "output_type": "display_data"
    }
   ],
   "source": [
    "confusion_matrix = pd.crosstab(Y_train, y_pred, rownames=['Actual'], colnames=['Predicted'])\n",
    "\n",
    "sns.heatmap(confusion_matrix, annot=True, cmap=\"Blues\")\n",
    "plt.show()"
   ]
  },
  {
   "cell_type": "code",
   "execution_count": 192,
   "id": "f2d36659",
   "metadata": {},
   "outputs": [
    {
     "data": {
      "text/plain": [
       "0.5934065934065934"
      ]
     },
     "execution_count": 192,
     "metadata": {},
     "output_type": "execute_result"
    }
   ],
   "source": [
    "sum(confusion_matrix.iloc[i,i] for i in range(0,len(confusion_matrix)))/len(Y_train)"
   ]
  },
  {
   "cell_type": "code",
   "execution_count": 193,
   "id": "d23416d7",
   "metadata": {},
   "outputs": [],
   "source": [
    "y_pred=k_neighbor.predict(X_test)"
   ]
  },
  {
   "cell_type": "code",
   "execution_count": 194,
   "id": "30454bd6",
   "metadata": {},
   "outputs": [
    {
     "data": {
      "image/png": "[encoded data removed]",
      "text/plain": [
       "<Figure size 432x288 with 2 Axes>"
      ]
     },
     "metadata": {
      "needs_background": "light"
     },
     "output_type": "display_data"
    }
   ],
   "source": [
    "confusion_matrix = pd.crosstab(Y_test, y_pred, rownames=['Actual'], colnames=['Predicted'])\n",
    "\n",
    "sns.heatmap(confusion_matrix, annot=True, cmap=\"Blues\")\n",
    "plt.show()"
   ]
  },
  {
   "cell_type": "code",
   "execution_count": 195,
   "id": "8d8464bb",
   "metadata": {},
   "outputs": [
    {
     "data": {
      "text/plain": [
       "0.6129032258064516"
      ]
     },
     "execution_count": 195,
     "metadata": {},
     "output_type": "execute_result"
    }
   ],
   "source": [
    "sum(confusion_matrix.iloc[i,i] for i in range(0,len(confusion_matrix)))/len(Y_test)"
   ]
  },
  {
   "cell_type": "markdown",
   "id": "6b1ac775",
   "metadata": {},
   "source": [
    "Observations:\n",
    "* This has been the best algorithm so far. \n",
    "* It has a general accuracy of 61.29% \n",
    "* There is a slight bias in the training because most of the segments correspond to the N2 stage. \n",
    "* REM identification isn't accurate"
   ]
  },
  {
   "cell_type": "markdown",
   "id": "08b5f20a",
   "metadata": {},
   "source": [
    "Sensibility and accuracy:\n",
    "* N2: \n",
    "    * Sensitivity: 13/15=86.66%\n",
    "    * PPV: 13/20=65%\n",
    "* N3: \n",
    "    * Sensitivity: 6/11= 54.54%\n",
    "    * PPV: 6/9= 66.66%\n",
    "* REM: \n",
    "    * Sensitivity: 0%\n",
    "    * PPV: 0%"
   ]
  },
  {
   "cell_type": "code",
   "execution_count": null,
   "id": "45d67bc1",
   "metadata": {},
   "outputs": [],
   "source": []
  }
 ],
 "metadata": {
  "kernelspec": {
   "display_name": "Python 3 (ipykernel)",
   "language": "python",
   "name": "python3"
  },
  "language_info": {
   "codemirror_mode": {
    "name": "ipython",
    "version": 3
   },
   "file_extension": ".py",
   "mimetype": "text/x-python",
   "name": "python",
   "nbconvert_exporter": "python",
   "pygments_lexer": "ipython3",
   "version": "3.8.5"
  }
 },
 "nbformat": 4,
 "nbformat_minor": 5
}
